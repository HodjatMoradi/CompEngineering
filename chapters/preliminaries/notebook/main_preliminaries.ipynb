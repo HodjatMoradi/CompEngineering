{
 "cells": [
  {
   "cell_type": "markdown",
   "metadata": {},
   "source": [
    "<!-- dom:TITLE: Preliminaries -->\n",
    "# Preliminaries\n",
    "<!-- dom:AUTHOR: Aksel Hiorth, the National IOR Centre & Institute for Energy Resources, -->\n",
    "<!-- Author: -->  \n",
    "**Aksel Hiorth, the National IOR Centre & Institute for Energy Resources,**\n",
    "University of Stavanger\n",
    "\n",
    "Date: **Aug 4, 2020**\n",
    "\n",
    "<!-- Common Mako variables and functions -->\n",
    "\n",
    "\n",
    "\n",
    "# Preliminaries"
   ]
  }
 ],
 "metadata": {},
 "nbformat": 4,
 "nbformat_minor": 2
}
