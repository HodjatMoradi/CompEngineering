{
 "cells": [
  {
   "cell_type": "markdown",
   "metadata": {},
   "source": [
    "<!-- dom:TITLE: MOD510: Mandatory project `#2` -->\n",
    "# MOD510: Mandatory project `#2`\n",
    "<!-- dom:AUTHOR: Deadline: Sun 6 October 2019 -->\n",
    "<!-- Author: -->  \n",
    "**Deadline: Sun 6 October 2019**\n",
    "\n",
    "Date: **Sep 25, 2019**"
   ]
  },
  {
   "cell_type": "code",
   "execution_count": 1,
   "metadata": {
    "collapsed": false
   },
   "outputs": [],
   "source": [
    "%matplotlib inline\n",
    "\n",
    "import numpy as np\n",
    "import scipy as sp\n",
    "import scipy.linalg\n",
    "import scipy.sparse\n",
    "import matplotlib.pyplot as plt\n",
    "import pathlib\n",
    "import pandas as pd"
   ]
  },
  {
   "cell_type": "markdown",
   "metadata": {},
   "source": [
    "**Summary.** <!-- Many practical problems in physics and engineering require us to compute -->\n",
    "<!-- vector fields. Common examples include the velocity field of a moving fluid, -->\n",
    "<!-- and force fields such as electric, magnetic, and gravitational fields. -->\n",
    "<!-- One situation of particular interest is when the vector field we are -->\n",
    "<!-- interested in can be represented as the gradient of a suitable scalar -->\n",
    "<!-- If this is the case, it can make our life a lot simpler, because it is -->\n",
    "<!-- easier to work with the scalar field than directly with the vector field. -->\n",
    "<!--  -->\n",
    "Understanding subsurface flow is challenging, but it also holds great potential\n",
    "value for society. For example, waterflooding is one of the most commonly\n",
    "applied\n",
    "[secondary oil recovery](https://www.glossary.oilfield.slb.com/en/Terms/s/secondary_recovery.aspx)\n",
    "techniques, and oil companies spend millions of dollars to develop simulators\n",
    "that can forecast where the injected water goes in the reservoir.\n",
    "This is valuable information both for the companies themselves, as well as\n",
    "for others that can utilize it, e.g., companies that generate electricity\n",
    "from geothermal energy.\n",
    "\n",
    "Another concern in many areas of the world is the quality of drinking water.\n",
    "Models of subsurface flow are frequently used to predict how accidental spills\n",
    "will migrate and potentially impact the drinking water supply.\n",
    "While oil companies use seismic signals to learn about their reservoirs,\n",
    "this is expensive, and it is rarely done to monitor groundwater flow.\n",
    "Thus, in many cases there is limited knowledge about the subsurface,\n",
    "which goes a long way to justify the use of simpler models.\n",
    "\n",
    "The goal of this project is to study fluid flow near injection / production\n",
    "wells. Among other things, you will learn how a 2D fluid flow problem can\n",
    "be split up into a series of 1D problems. Mathematically, injection and\n",
    "production wells behave very much like electrical charges, or gravitational\n",
    "fields.\n",
    "If production and injection rates are kept fixed, a constant potential\n",
    "field will be set up, and injected chemicals will follow specific\n",
    "paths, or streamlines, from injectors to producers. Under the simplest\n",
    "conditions, these streamlines will be curves that intersect the potential\n",
    "field at right angles.\n",
    "The technique of using streamlines to solve subsurface flow is powerful,\n",
    "and will in many cases give a good understanding of the flow.\n",
    "<!-- 90$^\\circ$. -->\n",
    "\n",
    "**Notice.**\n",
    "\n",
    "In this project we have chosen to present most of the theory before the\n",
    "exercises start. Therefore, there will be more information presented in the\n",
    "next section than what you need to solve the *first* exercise.\n",
    "In later exercises, more and more of the theory will drawn upon\n",
    "as it is needed.\n",
    "\n",
    "\n",
    "\n",
    "\n",
    "\n",
    "**Learning Objectives.**\n",
    "By completing this project, you will:\n",
    "* Implement your own numerical solver for the 1D radial Laplace equation.\n",
    "\n",
    "* Trace out streamlines in two dimensions by performing numerical integration.\n",
    "\n",
    "* Use streamlines to estimate the production profile of an inert tracer moving through an underground formation.\n",
    "\n",
    "* Compare results from the streamline model with the output from a state-of-the-art finite difference simulator.\n",
    "\n",
    "\n",
    "# Darcy's law for incompressible fluid flow\n",
    "<div id=\"sec:incompressible_flow_darcy\"></div>\n",
    "\n",
    "To make the later derivations as simple as possible, we assume that\n",
    "a) only a single fluid phase is flowing, b) that flow\n",
    "is [incompressible](https://en.wikipedia.org/wiki/Incompressible_flow), and\n",
    "c) that [inertial forces](https://en.wikipedia.org/wiki/Inertia)\n",
    "are negligible, so that\n",
    "[Darcy's law](https://en.wikipedia.org/wiki/Darcy%27s_law) holds:\n",
    "Under the these assumptions, we may model the macroscopic fluid motion\n",
    "via the equations"
   ]
  },
  {
   "cell_type": "markdown",
   "metadata": {},
   "source": [
    "<!-- Equation labels as ordinary links -->\n",
    "<div id=\"eq:incompressible_flow\"></div>\n",
    "\n",
    "$$\n",
    "\\begin{equation}\n",
    "\\label{eq:incompressible_flow} \\tag{1}\n",
    "\\nabla\\cdot\\vec{u} =0 \\text{ (incompressible flow)} \n",
    "\\end{equation}\n",
    "$$"
   ]
  },
  {
   "cell_type": "markdown",
   "metadata": {},
   "source": [
    "<!-- Equation labels as ordinary links -->\n",
    "<div id=\"eq:Darcy_law\"></div>\n",
    "\n",
    "$$\n",
    "\\begin{equation}  \n",
    "\\label{eq:Darcy_law} \\tag{2}\n",
    "\\vec{u} =-\\frac{k}{\\mu}\\cdot\\left(\\nabla{P-\\rho\\vec{g}}\\right) \\text{ (Darcy's law)}\\,,\n",
    "\\end{equation}\n",
    "$$"
   ]
  },
  {
   "cell_type": "markdown",
   "metadata": {},
   "source": [
    "in which $\\vec{u}[\\mathrm{LT^{-1}}]$ represents the flux / discharge of\n",
    "fluid (volume per unit area per unit time),\n",
    "$k[\\mathrm{L^2}]$ is\n",
    "[permeability](https://en.wikipedia.org/wiki/Permeability_(earth_sciences)),\n",
    "$\\mu[\\mathrm{ML^{-1}T^{-1}}]$ is viscosity, $P[\\mathrm{ML^{-1}T^{-2}}]$\n",
    "is fluid pressure, $\\rho[\\mathrm{ML^{-3}}]$ is fluid density, and\n",
    "$\\vec{g}[\\mathrm{MT^{-2}}]$\n",
    "is the vector of gravitational acceleration.\n",
    "\n",
    "The porous medium is idealized so that we may take it as both\n",
    "[homogeneous](https://en.wikipedia.org/wiki/Homogeneity_(physics)) and\n",
    "[isotropic](https://en.wikipedia.org/wiki/Isotropy), the effect of gravity\n",
    "is disregarded, and the fluid phase is assumed to have a constant\n",
    "[viscosity](https://en.wikipedia.org/wiki/Viscosity).\n",
    "By combining ([1](#eq:incompressible_flow)) and ([2](#eq:Darcy_law)) we then\n",
    "find"
   ]
  },
  {
   "cell_type": "markdown",
   "metadata": {},
   "source": [
    "<!-- Equation labels as ordinary links -->\n",
    "<div id=\"_auto1\"></div>\n",
    "\n",
    "$$\n",
    "\\begin{equation}\n",
    "-\\frac{k}{\\mu}\\nabla^2 P =0 \\,,\n",
    "\\label{_auto1} \\tag{3}\n",
    "\\end{equation}\n",
    "$$"
   ]
  },
  {
   "cell_type": "markdown",
   "metadata": {},
   "source": [
    "or"
   ]
  },
  {
   "cell_type": "markdown",
   "metadata": {},
   "source": [
    "<!-- Equation labels as ordinary links -->\n",
    "<div id=\"_auto2\"></div>\n",
    "\n",
    "$$\n",
    "\\begin{equation}\n",
    "\\nabla^2 \\phi = 0 \\,,\n",
    "\\label{_auto2} \\tag{4}\n",
    "\\end{equation}\n",
    "$$"
   ]
  },
  {
   "cell_type": "markdown",
   "metadata": {},
   "source": [
    "where we have defined a\n",
    "[potential](https://en.wikipedia.org/wiki/Potential_flow)\n",
    "field"
   ]
  },
  {
   "cell_type": "markdown",
   "metadata": {},
   "source": [
    "<!-- Equation labels as ordinary links -->\n",
    "<div id=\"_auto3\"></div>\n",
    "\n",
    "$$\n",
    "\\begin{equation}\n",
    "\\phi\\equiv -\\frac{k}{\\mu}\\cdot{P}\\,.\n",
    "\\label{_auto3} \\tag{5}\n",
    "\\end{equation}\n",
    "$$"
   ]
  },
  {
   "cell_type": "markdown",
   "metadata": {},
   "source": [
    "This is just the\n",
    "[Laplace equation](https://en.wikipedia.org/wiki/Laplace%27s_equation).\n",
    "\n",
    "# Steady-state radial flow from a well\n",
    "<div id=\"sec:ss_radial_well\"></div>\n",
    "\n",
    "The goal of the first part of the project will be to model the pressure\n",
    "distribution near a well for the following setup: an injection well is\n",
    "placed in the middle of a cylindrical porous medium, it is operated by\n",
    "pumping in fluid at a constant volumetric flow rate $Q$, while the\n",
    "pressure at the exterior boundary $r=r_e$ is taken to be a fixed value,"
   ]
  },
  {
   "cell_type": "markdown",
   "metadata": {},
   "source": [
    "<!-- Equation labels as ordinary links -->\n",
    "<div id=\"eq:pressure_re\"></div>\n",
    "\n",
    "$$\n",
    "\\begin{equation}\n",
    "\\label{eq:pressure_re} \\tag{6}\n",
    "P\\left(r=r_{e}\\right)=P_e\\,,\n",
    "\\end{equation}\n",
    "$$"
   ]
  },
  {
   "cell_type": "markdown",
   "metadata": {},
   "source": [
    "for some $P_e$. The point at which the fluid enters the formation is\n",
    "the well radius, $r=r_w$. We wish to be able to calculate the steady-state\n",
    "pressure distribution inside the formation, i.e., between $r_w$ and $r_e$.\n",
    "\n",
    "<!-- dom:FIGURE:[project2_figs/rwell.png, frac=0.6] Radial flow from a well. <div id=\"fig:radial_well\"></div> -->\n",
    "<!-- begin figure -->\n",
    "<div id=\"fig:radial_well\"></div>\n",
    "\n",
    "<p>Radial flow from a well.</p>\n",
    "<img src=\"project2_figs/rwell.png\" >\n",
    "\n",
    "<!-- end figure -->\n",
    "\n",
    "\n",
    "In cylindrical coordinates, the Laplace equation becomes:"
   ]
  },
  {
   "cell_type": "markdown",
   "metadata": {},
   "source": [
    "<!-- Equation labels as ordinary links -->\n",
    "<div id=\"eq:laplace_eq_cylindrical\"></div>\n",
    "\n",
    "$$\n",
    "\\begin{equation}\n",
    "\\label{eq:laplace_eq_cylindrical} \\tag{7}\n",
    "\\nabla^{2}\\phi=\\frac{1}{r}\\frac{\\partial}{\\partial r}\n",
    "\\left(r\\frac{\\partial\\phi}{\\partial r}\\right)\n",
    "+\\frac{1}{r^2}\\frac{\\partial^2 \\phi}{\\partial\\theta^2}\n",
    "+\\frac{\\partial^2 \\phi}{\\partial{z}^2}=0\\,,\n",
    "\\end{equation}\n",
    "$$"
   ]
  },
  {
   "cell_type": "markdown",
   "metadata": {},
   "source": [
    "where $(r, \\theta, z)$ are the coordinates. A considerable simplification\n",
    "occurs for the situation we wish to model, in which flow is assumed to be\n",
    "perfectly radial. Then, the scalar potential $\\phi$ is a function of the\n",
    "$r$-coordinate only, i.e., the last two terms in the equation above vanish:"
   ]
  },
  {
   "cell_type": "markdown",
   "metadata": {},
   "source": [
    "<!-- Equation labels as ordinary links -->\n",
    "<div id=\"eq:laplace_eq_radial\"></div>\n",
    "\n",
    "$$\n",
    "\\begin{equation}\n",
    "\\label{eq:laplace_eq_radial} \\tag{8}\n",
    "\\nabla^{2}\\phi=\\frac{1}{r}\\frac{\\mathrm{d}}{\\mathrm{d}r}\n",
    "\\left(r\\frac{\\mathrm{d}\\phi}{\\mathrm{d}r}\\right)=0\\,.\n",
    "\\end{equation}\n",
    "$$"
   ]
  },
  {
   "cell_type": "markdown",
   "metadata": {},
   "source": [
    "We wish to calculate the steady-state pressure distribution near the\n",
    "well numerically with finite differences. That is, we have to solve"
   ]
  },
  {
   "cell_type": "markdown",
   "metadata": {},
   "source": [
    "<!-- Equation labels as ordinary links -->\n",
    "<div id=\"eq:laplace_eq_radial2\"></div>\n",
    "\n",
    "$$\n",
    "\\begin{equation}\n",
    "\\label{eq:laplace_eq_radial2} \\tag{9}\n",
    "\\frac{\\mathrm{d}}{\\mathrm{d}r}\n",
    "\\left(r\\frac{\\mathrm{d}\\phi}{\\mathrm{d}r}\\right)=0\\,,\n",
    "\\end{equation}\n",
    "$$"
   ]
  },
  {
   "cell_type": "markdown",
   "metadata": {},
   "source": [
    "subject to boundary condition ([6](#eq:pressure_re)), as well as the fixed\n",
    "inflow rate condition at the well:"
   ]
  },
  {
   "cell_type": "markdown",
   "metadata": {},
   "source": [
    "<!-- Equation labels as ordinary links -->\n",
    "<div id=\"eq:well_pumping_rate\"></div>\n",
    "\n",
    "$$\n",
    "\\begin{equation}\n",
    "\\label{eq:well_pumping_rate} \\tag{10}\n",
    "Q=2\\pi{h}r_w \\cdot u(r_w) ={2\\pi{h} r_w}\\cdot\n",
    "\\left.\n",
    "\\frac{\\mathrm{d}\\phi}{\\mathrm{d}r}\n",
    "\\right|_{r=r_w}\\,,\n",
    "\\end{equation}\n",
    "$$"
   ]
  },
  {
   "cell_type": "markdown",
   "metadata": {},
   "source": [
    "where $u(r_w)$ is the radial flux at the location of the well (the well\n",
    "radius), and $h$ is the (constant) thickness of the porous medium.\n",
    "\n",
    "## Finite difference discretization\n",
    "<div id=\"sec:ss_radial_well_FD\"></div>\n",
    "\n",
    "We divide the total domain into $N$ cylindrical shells. As illustrated in\n",
    "the figure below, we place our grid points in the *middle* of each cylinder.\n",
    "\n",
    "<!-- dom:FIGURE:[project2_figs/radial_grid.png, frac=0.9] Top view of radial grid ($N=5$). <div id=\"fig:radial_grid\"></div> -->\n",
    "<!-- begin figure -->\n",
    "<div id=\"fig:radial_grid\"></div>\n",
    "\n",
    "<p>Top view of radial grid ($N=5$).</p>\n",
    "<img src=\"project2_figs/radial_grid.png\" >\n",
    "\n",
    "<!-- end figure -->\n",
    "\n",
    "\n",
    "The figure makes use of a fixed grid spacing, but in practice one would often\n",
    "choose $\\Delta{r}$ so that each block has the same volume. Hence, for\n",
    "generality we will allow the grid spacing to vary in our mathematical\n",
    "derivations.\n",
    "\n",
    "The outer radius of grid block $i$ is:"
   ]
  },
  {
   "cell_type": "markdown",
   "metadata": {},
   "source": [
    "<!-- Equation labels as ordinary links -->\n",
    "<div id=\"_auto4\"></div>\n",
    "\n",
    "$$\n",
    "\\begin{equation}\n",
    "r_{out}^i \\equiv r_{i+1/2}=r_i+\\frac{\\Delta{r}_i}{2} =\n",
    "r_w+\\displaystyle\\sum_{k=0}^{i} \\Delta{r}_k\\,.\n",
    "\\label{_auto4} \\tag{11}\n",
    "\\end{equation}\n",
    "$$"
   ]
  },
  {
   "cell_type": "markdown",
   "metadata": {},
   "source": [
    "Similarly, the inner radius is"
   ]
  },
  {
   "cell_type": "markdown",
   "metadata": {},
   "source": [
    "<!-- Equation labels as ordinary links -->\n",
    "<div id=\"_auto5\"></div>\n",
    "\n",
    "$$\n",
    "\\begin{equation}\n",
    "r_{in}^i \\equiv r_{i-1/2}=r_i-\\frac{\\Delta{r}_i}{2} =\n",
    "r_w+\\displaystyle\\sum_{k=0}^{i-1} \\Delta{r}_k = r_{i+1/2} - \\Delta{r}_i\\,.\n",
    "\\label{_auto5} \\tag{12}\n",
    "\\end{equation}\n",
    "$$"
   ]
  },
  {
   "cell_type": "markdown",
   "metadata": {},
   "source": [
    "We index our grid blocks starting from zero, $i=0, 1, \\ldots, N-1$.\n",
    "Letting $f(r)=r\\phi^{\\prime}(r)$, equation ([9](#eq:laplace_eq_radial2))\n",
    "for grid point $i$ can be converted to discrete form as follows:"
   ]
  },
  {
   "cell_type": "markdown",
   "metadata": {},
   "source": [
    "<!-- Equation labels as ordinary links -->\n",
    "<div id=\"eq:dfrdr\"></div>\n",
    "\n",
    "$$\n",
    "\\begin{equation}\n",
    "\\label{eq:dfrdr} \\tag{13}\n",
    "0=\\left.\\frac{\\mathrm{d}f(r)}{\\mathrm{d}r}\\right|_i\n",
    "\\approx\\frac{f(r_{i+1/2})-f(r_{i-1/2})}{\\Delta{r}}\\,.\n",
    "\\end{equation}\n",
    "$$"
   ]
  },
  {
   "cell_type": "markdown",
   "metadata": {},
   "source": [
    "We also need to find a way to evaluate the function $f$ at the edges\n",
    "of the grid blocks. For the *inner* grid points we can use centered finite\n",
    "differences once more, i.e.,"
   ]
  },
  {
   "cell_type": "markdown",
   "metadata": {},
   "source": [
    "<!-- Equation labels as ordinary links -->\n",
    "<div id=\"_auto6\"></div>\n",
    "\n",
    "$$\n",
    "\\begin{equation}\n",
    "f(r_{i+1/2})=r_{i+1/2}\\cdot\n",
    "\\left.\\frac{\\mathrm{d}\\phi}{\\mathrm{d}r}\\right|_{r={r_i+1/2}} \n",
    "\\label{_auto6} \\tag{14}\n",
    "\\end{equation}\n",
    "$$"
   ]
  },
  {
   "cell_type": "markdown",
   "metadata": {},
   "source": [
    "<!-- Equation labels as ordinary links -->\n",
    "<div id=\"_auto7\"></div>\n",
    "\n",
    "$$\n",
    "\\begin{equation}  \n",
    "\\approx r_{i+1/2}\\cdot\\frac{\\phi_{i+1}-\\phi_i}{\\frac{1}{2}(\\Delta{r}_i+\\Delta{r}_{i+1})}\n",
    "\\,,\n",
    "\\label{_auto7} \\tag{15}\n",
    "\\end{equation}\n",
    "$$"
   ]
  },
  {
   "cell_type": "markdown",
   "metadata": {},
   "source": [
    "and"
   ]
  },
  {
   "cell_type": "markdown",
   "metadata": {},
   "source": [
    "<!-- Equation labels as ordinary links -->\n",
    "<div id=\"_auto8\"></div>\n",
    "\n",
    "$$\n",
    "\\begin{equation}\n",
    "f(r_{i-1/2})=r_{i-1/2}\\cdot\n",
    "\\left.\\frac{\\mathrm{d}\\phi}{\\mathrm{d}r}\\right|_{r={r_i-1/2}} \n",
    "\\label{_auto8} \\tag{16}\n",
    "\\end{equation}\n",
    "$$"
   ]
  },
  {
   "cell_type": "markdown",
   "metadata": {},
   "source": [
    "<!-- Equation labels as ordinary links -->\n",
    "<div id=\"_auto9\"></div>\n",
    "\n",
    "$$\n",
    "\\begin{equation}  \n",
    "\\approx r_{i-1/2}\\cdot\\frac{\\phi_{i}-\\phi_{i-1}}{\\frac{1}{2}(\\Delta{r}_{i-1}+\\Delta{r}_{i})}\n",
    "\\,.\n",
    "\\label{_auto9} \\tag{17}\n",
    "\\end{equation}\n",
    "$$"
   ]
  },
  {
   "cell_type": "markdown",
   "metadata": {},
   "source": [
    "With the above approximations, we get the following numerical scheme for\n",
    "the inner grid points $i=1, \\ldots, N-2$:"
   ]
  },
  {
   "cell_type": "markdown",
   "metadata": {},
   "source": [
    "<!-- Equation labels as ordinary links -->\n",
    "<div id=\"eq:radial_flow_discretization\"></div>\n",
    "\n",
    "$$\n",
    "\\begin{equation}\n",
    "\\label{eq:radial_flow_discretization} \\tag{18}\n",
    "T_{i+1/2}\\left(\\phi_{i+1}-\\phi_i\\right)-\n",
    "T_{i-1/2}\\left(\\phi_{i}-\\phi_{i-1}\\right)=0\\,,\n",
    "\\end{equation}\n",
    "$$"
   ]
  },
  {
   "cell_type": "markdown",
   "metadata": {},
   "source": [
    "where we have defined a set of constant *transmissibility factors*:"
   ]
  },
  {
   "cell_type": "markdown",
   "metadata": {},
   "source": [
    "<!-- Equation labels as ordinary links -->\n",
    "<div id=\"eq:transup\"></div>\n",
    "\n",
    "$$\n",
    "\\begin{equation}\n",
    "\\label{eq:transup} \\tag{19}\n",
    "T_{i+1/2}=\\frac{2r_{i+1/2}}{\\Delta{r}_{i}(\\Delta{r}_i+\\Delta{r}_{i+1})}\n",
    "\\,.\n",
    "\\end{equation}\n",
    "$$"
   ]
  },
  {
   "cell_type": "markdown",
   "metadata": {},
   "source": [
    "For the first grid point $i=0$ we see that we have a problem, because\n",
    "formula ([18](#eq:radial_flow_discretization)) requires us to compute\n",
    "quantities outside of the defined grid (i.e., *inside* the well):"
   ]
  },
  {
   "cell_type": "markdown",
   "metadata": {},
   "source": [
    "<!-- Equation labels as ordinary links -->\n",
    "<div id=\"_auto10\"></div>\n",
    "\n",
    "$$\n",
    "\\begin{equation}\n",
    "T_{1/2}\\left(\\phi_{1}-\\phi_0\\right)-\n",
    "{\\color{red}T_{-1/2}}\\left(\\phi_{0}-{\\color{red}\\phi_{-1}}\\right)=0\\,,\n",
    "\\label{_auto10} \\tag{20}\n",
    "\\end{equation}\n",
    "$$"
   ]
  },
  {
   "cell_type": "markdown",
   "metadata": {},
   "source": [
    "However, the second term in the above equation is really a finite\n",
    "difference approximation to the flux out of the well:"
   ]
  },
  {
   "cell_type": "markdown",
   "metadata": {},
   "source": [
    "<!-- Equation labels as ordinary links -->\n",
    "<div id=\"eq:flux_well_discr\"></div>\n",
    "\n",
    "$$\n",
    "\\begin{equation}\n",
    "\\label{eq:flux_well_discr} \\tag{21}\n",
    "T_{-1/2}\\left(\\phi_{0}-\\phi_{-1}\\right)\\approx\n",
    "\\frac{\\left.\n",
    "r\\frac{\\mathrm{d}\\phi}{\\mathrm{d}r}\n",
    "\\right|_{r=r_w}}{\\Delta{r}_0}=\n",
    "\\frac{Q}{2\\pi{h}\\Delta{r}_0}\\,.\n",
    "\\end{equation}\n",
    "$$"
   ]
  },
  {
   "cell_type": "markdown",
   "metadata": {},
   "source": [
    "Thus, we simply replace this expression by a constant term that goes\n",
    "on the right-hand side of the equation.\n",
    "\n",
    "Similarly, for the last grid point $i=N-1$\n",
    "formula ([18](#eq:radial_flow_discretization)) becomes:"
   ]
  },
  {
   "cell_type": "markdown",
   "metadata": {},
   "source": [
    "<!-- Equation labels as ordinary links -->\n",
    "<div id=\"_auto11\"></div>\n",
    "\n",
    "$$\n",
    "\\begin{equation}\n",
    "{\\color{red}T_{(N-1)+1/2}}\\left({\\color{red}\\phi_{N}}-\\phi_{N-1}\\right)-\n",
    "T_{(N-1)-1/2}\\left(\\phi_{N-1}-\\phi_{N-2}\\right)=0\\,,\n",
    "\\label{_auto11} \\tag{22}\n",
    "\\end{equation}\n",
    "$$"
   ]
  },
  {
   "cell_type": "markdown",
   "metadata": {},
   "source": [
    "and this requires us to make evaluations outside of the defined\n",
    "external grid boundary. However, since we know the pressure at $r=r_e$,\n",
    "we also know the value $\\phi_e=\\phi(r=r_e)$ there. Thus, in the equation\n",
    "above we replace $\\phi_N$ by $\\phi_e$, and we use a slightly different\n",
    "approximation than before to compute the transmissibility factor,"
   ]
  },
  {
   "cell_type": "markdown",
   "metadata": {},
   "source": [
    "<!-- Equation labels as ordinary links -->\n",
    "<div id=\"_auto12\"></div>\n",
    "\n",
    "$$\n",
    "\\begin{equation}\n",
    "f(r_{i+1/2})=f(r_{(N-1)+1/2})=r_{e}\\cdot\n",
    "\\left.\\frac{\\mathrm{d}\\phi}{\\mathrm{d}r}\\right|_{r=r_e} \n",
    "\\label{_auto12} \\tag{23}\n",
    "\\end{equation}\n",
    "$$"
   ]
  },
  {
   "cell_type": "markdown",
   "metadata": {},
   "source": [
    "<!-- Equation labels as ordinary links -->\n",
    "<div id=\"_auto13\"></div>\n",
    "\n",
    "$$\n",
    "\\begin{equation}  \n",
    "\\approx r_{e}\\cdot\\frac{\\phi_{e}-\\phi_{N-1}}{\\frac{\\Delta{R}_{N-1}}{2}}\n",
    "\\,,\n",
    "\\label{_auto13} \\tag{24}\n",
    "\\end{equation}\n",
    "$$"
   ]
  },
  {
   "cell_type": "markdown",
   "metadata": {},
   "source": [
    "so that we may take"
   ]
  },
  {
   "cell_type": "markdown",
   "metadata": {},
   "source": [
    "<!-- Equation labels as ordinary links -->\n",
    "<div id=\"eq:transup_ext_boundary\"></div>\n",
    "\n",
    "$$\n",
    "\\begin{equation}\n",
    "\\label{eq:transup_ext_boundary} \\tag{25}\n",
    "T_{(N-1)+1/2}=\\frac{2r_e}{\\Delta{r}_{N-1}^2}\n",
    "\\,.\n",
    "\\end{equation}\n",
    "$$"
   ]
  },
  {
   "cell_type": "markdown",
   "metadata": {},
   "source": [
    "# Streamlines\n",
    "<div id=\"sec:streamline_theory\"></div>\n",
    "\n",
    "Given a (velocity) vector field $\\vec{v}$, a streamline is a curve everywhere\n",
    "tangential to the direction of $\\vec{v}$.\n",
    "If $\\vec{dr}=(dx, dy)$ represents an infinitesimal distance along a streamline,\n",
    "by definition $\\vec{dr}$ must be parallel to the velocity field.\n",
    "In two dimensions, this means that:"
   ]
  },
  {
   "cell_type": "markdown",
   "metadata": {},
   "source": [
    "<!-- Equation labels as ordinary links -->\n",
    "<div id=\"_auto14\"></div>\n",
    "\n",
    "$$\n",
    "\\begin{equation}\n",
    "\\frac{dx}{v_x}=\\frac{dy}{v_y}\\,,\n",
    "\\label{_auto14} \\tag{26}\n",
    "\\end{equation}\n",
    "$$"
   ]
  },
  {
   "cell_type": "markdown",
   "metadata": {},
   "source": [
    "where $\\vec{v}=(v_v, v_y)$ is the velocity field.\n",
    "\n",
    "<!-- dom:FIGURE:[project2_figs/stl_viz.png, frac=0.6] A streamline (solid curve) is everywhere tangent to the direction of the vector (e.g, velocity) field (arrows). <div id=\"fig:stl_viz\"></div> -->\n",
    "<!-- begin figure -->\n",
    "<div id=\"fig:stl_viz\"></div>\n",
    "\n",
    "<p>A streamline (solid curve) is everywhere tangent to the direction of the vector (e.g, velocity) field (arrows).</p>\n",
    "<img src=\"project2_figs/stl_viz.png\" >\n",
    "\n",
    "<!-- end figure -->\n",
    "\n",
    "\n",
    "We remark that for non-steady flow, streamlines are different from\n",
    "*pathlines*. While the latter are the actual physical trajectories followed\n",
    "by particles in the flow field, streamlines provide a 'snapshot' of\n",
    "the field at any given moment in time. However, in this project we shall\n",
    "assume the velocity field to be frozen in time, so that pathlines and\n",
    "streamlines are the same. If a non-reacting fluid particle is placed at\n",
    "a point $(x(0), y(0))$ at time $t=0$, we then have"
   ]
  },
  {
   "cell_type": "markdown",
   "metadata": {},
   "source": [
    "<!-- Equation labels as ordinary links -->\n",
    "<div id=\"_auto15\"></div>\n",
    "\n",
    "$$\n",
    "\\begin{equation}\n",
    "\\frac{dx(t)}{dt}=v_x(x(t),y(t))\n",
    "\\label{_auto15} \\tag{27}\n",
    "\\end{equation}\n",
    "$$"
   ]
  },
  {
   "cell_type": "markdown",
   "metadata": {},
   "source": [
    "<!-- Equation labels as ordinary links -->\n",
    "<div id=\"_auto16\"></div>\n",
    "\n",
    "$$\n",
    "\\begin{equation}  \n",
    "\\frac{dy(t)}{dt}=v_y(x(t),y(t))\\,,\n",
    "\\label{_auto16} \\tag{28}\n",
    "\\end{equation}\n",
    "$$"
   ]
  },
  {
   "cell_type": "markdown",
   "metadata": {},
   "source": [
    "where $(x(t), y(t))$ is the position of the particle at time $t$.\n",
    "At time $t>0$, the position of the particle is therefore"
   ]
  },
  {
   "cell_type": "markdown",
   "metadata": {},
   "source": [
    "<!-- Equation labels as ordinary links -->\n",
    "<div id=\"eq:integrate_stl_x\"></div>\n",
    "\n",
    "$$\n",
    "\\begin{equation}\n",
    "\\label{eq:integrate_stl_x} \\tag{29}\n",
    "x(t)=x(0)+\\int_{0}^{t} v_x(x(t^{\\prime}),y(t^{\\prime}))\\, dt^{\\prime} \n",
    "\\end{equation}\n",
    "$$"
   ]
  },
  {
   "cell_type": "markdown",
   "metadata": {},
   "source": [
    "<!-- Equation labels as ordinary links -->\n",
    "<div id=\"eq:integrate_stl_y\"></div>\n",
    "\n",
    "$$\n",
    "\\begin{equation}  \n",
    "\\label{eq:integrate_stl_y} \\tag{30}\n",
    "y(t)=y(0)+\\int_{0}^{t} v_y(x(t^{\\prime}),y(t^{\\prime}))\\, dt^{\\prime}\\,.\n",
    "\\end{equation}\n",
    "$$"
   ]
  },
  {
   "cell_type": "markdown",
   "metadata": {},
   "source": [
    "<!-- \\vec{r}(t)= -->\n",
    "\n",
    "\n",
    "\n",
    "# Exercise 1: Radial flow from a single well\n",
    "<div id=\"laplace_radial_finite_difference\"></div>\n",
    "\n",
    "\n",
    "\n",
    "**Part 1.**\n",
    "\n",
    "By combining equations ([18](#eq:radial_flow_discretization)),\n",
    "([19](#eq:transup)), ([21](#eq:flux_well_discr)),\n",
    "and ([25](#eq:transup_ext_boundary)), we obtain a matrix equation\n",
    "$A\\vec{\\phi}=\\vec{b}$, where $\\vec{\\phi}$ holds the values of the\n",
    "potential function at each of the $N$ grid points.\n",
    "\n",
    "For the case $N=5$, show that the coefficient matrix $A$ becomes"
   ]
  },
  {
   "cell_type": "markdown",
   "metadata": {},
   "source": [
    "$$\n",
    "\\begin{align*}\n",
    "A =\n",
    "\\left[ {\\begin{array}{ccccc}\n",
    "-T_{1/2} & T_{1/2} & 0 & 0 & 0 \\\\ \n",
    "T_{1/2} & -(T_{1/2}+T_{3/2}) & T_{3/2} & 0 & 0 \\\\ \n",
    "0 & T_{3/2} & -(T_{3/2}+T_{5/2}) & T_{5/2} & 0 \\\\ \n",
    "0 & 0 & T_{5/2} & -(T_{5/2}+T_{7/2}) & T_{7/2} \\\\ \n",
    "0 & 0 & 0 & T_{7/2} & -(T_{7/2}+T_{9/2}) \\\\ \n",
    "\\end{array} } \\right]\\,,\n",
    "\\end{align*}\n",
    "$$"
   ]
  },
  {
   "cell_type": "markdown",
   "metadata": {},
   "source": [
    "What is the right-hand side vector?\n",
    "\n",
    "\n",
    "\n",
    "**Part 2.**\n",
    "The goal is to write a Python program that calculates the estimated\n",
    "pressure distribution at the midpoint of each radial grid block.\n",
    "\n",
    "First, we need to set up the grid. Finish writing the following Python\n",
    "code:"
   ]
  },
  {
   "cell_type": "code",
   "execution_count": 2,
   "metadata": {
    "collapsed": false
   },
   "outputs": [],
   "source": [
    "n_blocks = 5  # number of grid blocks / points\n",
    "r_well = 0.1  # well radius (m)\n",
    "r_exterior = 20.0  # outer boundary (m)\n",
    "\n",
    "# Use a constant grid spacing (at least for now):\n",
    "radial_grid_edges = np.linspace(r_well, r_exterior, n_blocks+1)\n",
    "dr_vec = radial_grid_edges[1:]-radial_grid_edges[0:-1]\n",
    "\n",
    "# To do: Calculate grid points r_i, and store them in an array:\n",
    "radial_grid_midpoints = ..."
   ]
  },
  {
   "cell_type": "markdown",
   "metadata": {},
   "source": [
    "**Part 3.**\n",
    "Next, we need to select values for the other input parameters in our model,\n",
    "e.g.:"
   ]
  },
  {
   "cell_type": "code",
   "execution_count": 3,
   "metadata": {
    "collapsed": false
   },
   "outputs": [],
   "source": [
    "    # Constant formation and fluid properties:\n",
    "    viscosity = 1.0e-3  # 1 cP = 0.001 Pa*s\n",
    "    permeability = 1.0e-12  # m2\n",
    "    h = 2.0  # formation height (m)\n",
    "\n",
    "    # Boundary conditions:\n",
    "    Q = 21.0/3600.0  # 21 m3/hr --> m3/sec\n",
    "    p_exterior = 100.0e5  # 100 bar ---> Pa"
   ]
  },
  {
   "cell_type": "markdown",
   "metadata": {},
   "source": [
    "Finally, we must set up and solve the matrix equation.\n",
    "During the implementing stage, it is recommended to use\n",
    "[numpy.linalg.solve](https://docs.scipy.org/doc/numpy/reference/generated/numpy.linalg.solve.html)\n",
    "for the solution part, e.g.:"
   ]
  },
  {
   "cell_type": "code",
   "execution_count": 4,
   "metadata": {
    "collapsed": false
   },
   "outputs": [],
   "source": [
    "# Grid transmissibility factors for grid edges:\n",
    "T = np.zeros(n_blocks+1)  # T_-0.5, T_0.5, T_1.5, ...,\n",
    "\n",
    "# Compute T_(i+1/2) for internal grid points:\n",
    "for i in range(n_blocks-1):\n",
    "    ... # implement here\n",
    "    T[i+1] = ...\n",
    "\n",
    "# Compute transmissibilities at grid boundaries:\n",
    "T[0] = ...\n",
    "T[-1] = ...\n",
    "\n",
    "# Setup and solve matrix equation:\n",
    "A = np.zeros(shape=(n_blocks, n_blocks))\n",
    "b = np.zeros(n_blocks)\n",
    "\n",
    "...  # include code here\n",
    "\n",
    "phi_sol = np.linalg.solve(A, b)\n",
    "pressure_sol = ... # convert to pressure"
   ]
  },
  {
   "cell_type": "markdown",
   "metadata": {},
   "source": [
    "Note: It can help to wrap your solution algorithm inside a function, so that\n",
    "you can easily test it later for different values of $N$.\n",
    "\n",
    "\n",
    "\n",
    "\n",
    "**Part 4.**\n",
    "Going back to equation ([9](#eq:laplace_eq_radial2)), show that\n",
    "the analytical solution to the steady-state pressure at radial distance\n",
    "$r$ from the well is:"
   ]
  },
  {
   "cell_type": "markdown",
   "metadata": {},
   "source": [
    "<!-- Equation labels as ordinary links -->\n",
    "<div id=\"_auto17\"></div>\n",
    "\n",
    "$$\n",
    "\\begin{equation}\n",
    "P(r) = P_e - \\frac{Q\\mu}{2\\pi{k}h}\\cdot\\ln\\left(\\frac{r}{r_e}\\right)\\,.\n",
    "\\label{_auto17} \\tag{31}\n",
    "\\end{equation}\n",
    "$$"
   ]
  },
  {
   "cell_type": "markdown",
   "metadata": {},
   "source": [
    "Verify that your numerical solution seems to converge to the exact one as\n",
    "$\\Delta{r}\\rightarrow{0}$.\n",
    "\n",
    "\n",
    "\n",
    "**Part 5.**\n",
    "\n",
    "Once everything seems to be working, investigate how much you are able to\n",
    "speed up your program if you use a sparse matrix solver, compared to\n",
    "if you use the standard\n",
    "[dense matrix solver](https://docs.scipy.org/doc/numpy/reference/generated/numpy.linalg.solve.html).\n",
    "\n",
    "\n",
    "\n",
    "\n",
    "**(Optional) Part 6.**\n",
    "Adapt your code so that it also handles the case with a constant pressure\n",
    "at the well. For this case the analytical solution is most conveniently\n",
    "displayed as:"
   ]
  },
  {
   "cell_type": "markdown",
   "metadata": {},
   "source": [
    "<!-- Equation labels as ordinary links -->\n",
    "<div id=\"_auto18\"></div>\n",
    "\n",
    "$$\n",
    "\\begin{equation}\n",
    "P(r) = P_w + \\frac{P_e-P_w}{\\ln\\left(\\frac{r_e}{r_w}\\right)}\\cdot\n",
    "\\ln\\left(\\frac{r}{r_w}\\right)\\,.\n",
    "\\label{_auto18} \\tag{32}\n",
    "\\end{equation}\n",
    "$$"
   ]
  },
  {
   "cell_type": "markdown",
   "metadata": {},
   "source": [
    "# Exercise 2: Velocity field for a system of wells\n",
    "\n",
    "<div id=\"fluid_flow_wells\"></div>\n",
    "\n",
    "If the surrounding medium is very large, we may neglect the finite radius\n",
    "of the well, and model it as a point source/sink term in the governing\n",
    "fluid flow equations.\n",
    "Assuming flow to/from a well to be perfectly radial in nature\n",
    "and governed by Darcy's law, we have for the case of a single well that"
   ]
  },
  {
   "cell_type": "markdown",
   "metadata": {},
   "source": [
    "<!-- Equation labels as ordinary links -->\n",
    "<div id=\"_auto19\"></div>\n",
    "\n",
    "$$\n",
    "\\begin{equation}\n",
    "u(r)=\\frac{\\mathrm{d}\\phi}{\\mathrm{d}{r}}=\\frac{{Q}}{2\\pi{h}{r}}\\,,\n",
    "\\label{_auto19} \\tag{33}\n",
    "\\end{equation}\n",
    "$$"
   ]
  },
  {
   "cell_type": "markdown",
   "metadata": {},
   "source": [
    "in radial coordinates, where $u=u(r)$ is the radial Darcy flux at\n",
    "position $r$, and $\\phi=\\phi(r)=-(k/\\mu)p(r)$ is the potential scalar\n",
    "field there.\n",
    "Hence, it follows from a simple integration that"
   ]
  },
  {
   "cell_type": "markdown",
   "metadata": {},
   "source": [
    "<!-- Equation labels as ordinary links -->\n",
    "<div id=\"potential_well\"></div>\n",
    "\n",
    "$$\n",
    "\\begin{equation}\n",
    "\\label{potential_well} \\tag{34}\n",
    "\\phi=\\frac{{Q}}{2\\pi{h}}\\cdot\\ln(r)+C=\n",
    "\\frac{{Q}}{4\\pi{h}}\\cdot\\ln\\left\\{(x-x_{w})^2+(y-y_{w})^2\\right\\}+C\n",
    "\\end{equation}\n",
    "$$"
   ]
  },
  {
   "cell_type": "markdown",
   "metadata": {},
   "source": [
    "in Cartesian coordinates, where $r=\\sqrt{(x-x_w)^2+(y-y_w)^2}$ is the\n",
    "distance to a given point from the location of the well, $(x_w,y_w)$.\n",
    "We do not really care about the numerical value of the constant term $C$;\n",
    "when we take the derivative of $\\phi$ to obtain velocity, it disappears.\n",
    "\n",
    "Suppose instead that we have $N_w$ wells. Let $(x_i,y_i)$ denote the\n",
    "location of well $i$, and let $Q_i$ be the volumetric flow rate of well\n",
    "$i$, with $Q_i>0$ for injectors and $Q_i<0$ for producers.\n",
    "By the\n",
    "[superposition principle](https://en.wikipedia.org/wiki/Superposition_principle),\n",
    "it can be shown that the total fluid potential is simply the sum of the\n",
    "potentials for each well.\n",
    "\n",
    "\n",
    "\n",
    "**Part 1.**\n",
    "The Darcy flux $\\vec{u}$ measures the rate of fluid flow through cross-sections\n",
    "of the porous medium. However, as the injected fluid has to move around the\n",
    "solid particles (grains), the average macroscopic velocity of fluid particles\n",
    "traveling through the medium has to account for porosity, $n$:"
   ]
  },
  {
   "cell_type": "markdown",
   "metadata": {},
   "source": [
    "<!-- Equation labels as ordinary links -->\n",
    "<div id=\"_auto20\"></div>\n",
    "\n",
    "$$\n",
    "\\begin{equation}\n",
    "\\vec{v}=\\frac{\\vec{u}}{n}\\,.\n",
    "\\label{_auto20} \\tag{35}\n",
    "\\end{equation}\n",
    "$$"
   ]
  },
  {
   "cell_type": "markdown",
   "metadata": {},
   "source": [
    "Show that for the general case of $N_w$ wells with arbitrary placements,\n",
    "the resulting velocity field $\\vec{v}=(v_x,v_y)$ is given by"
   ]
  },
  {
   "cell_type": "markdown",
   "metadata": {},
   "source": [
    "<!-- Equation labels as ordinary links -->\n",
    "<div id=\"eq:vx_nwells\"></div>\n",
    "\n",
    "$$\n",
    "\\begin{equation}\n",
    "\\label{eq:vx_nwells} \\tag{36}\n",
    "v_x=\\frac{1}{n}\\frac{\\mathrm{d}\\phi}{\\mathrm{d}x}=\\frac{1}{2\\pi{h}n}\\cdot\\displaystyle\\sum_{i=0}^{N_w-1}\n",
    "\\frac{Q_{i}(x-x_i)}{(x-x_i)^2+(y-y_i)^2}\\,,\n",
    "\\end{equation}\n",
    "$$"
   ]
  },
  {
   "cell_type": "markdown",
   "metadata": {},
   "source": [
    "and"
   ]
  },
  {
   "cell_type": "markdown",
   "metadata": {},
   "source": [
    "<!-- Equation labels as ordinary links -->\n",
    "<div id=\"eq:vy_nwells\"></div>\n",
    "\n",
    "$$\n",
    "\\begin{equation}\n",
    "\\label{eq:vy_nwells} \\tag{37}\n",
    "v_y=\\frac{1}{n}\\frac{\\mathrm{d}\\phi}{\\mathrm{d}y}=\\frac{1}{2\\pi{h}n}\\cdot\\displaystyle\\sum_{i=0}^{N_w-1}\n",
    "\\frac{Q_{i}(y-y_i)}{(x-x_i)^2+(y-y_i)^2}\\,.\n",
    "\\end{equation}\n",
    "$$"
   ]
  },
  {
   "cell_type": "markdown",
   "metadata": {},
   "source": [
    "**Part 2.**\n",
    "Consider the special case of a *well doublet*: we have two wells,\n",
    "an injector located at $(d,0)$, and a producer at $(-d,0)$. Let the constant\n",
    "injection rate be $Q>0$. Show that in this situation, the components of\n",
    "the velocity vector field are:"
   ]
  },
  {
   "cell_type": "markdown",
   "metadata": {},
   "source": [
    "<!-- Equation labels as ordinary links -->\n",
    "<div id=\"eq:vx_2wells\"></div>\n",
    "\n",
    "$$\n",
    "\\begin{equation}\n",
    "\\label{eq:vx_2wells} \\tag{38}\n",
    "v_x=\\frac{Q}{2\\pi{h}n}\\cdot\n",
    "\\left\\{\n",
    "\\frac{x-d}{(x-d)^2+y^2}-\\frac{x+d}{(x+d)^2+y^2}\n",
    "\\right\\}\n",
    "\\,,\n",
    "\\end{equation}\n",
    "$$"
   ]
  },
  {
   "cell_type": "markdown",
   "metadata": {},
   "source": [
    "and"
   ]
  },
  {
   "cell_type": "markdown",
   "metadata": {},
   "source": [
    "<!-- Equation labels as ordinary links -->\n",
    "<div id=\"eq:vy_2wells\"></div>\n",
    "\n",
    "$$\n",
    "\\begin{equation}\n",
    "\\label{eq:vy_2wells} \\tag{39}\n",
    "v_y=\\frac{Q}{2\\pi{h}n}\\cdot\n",
    "\\left\\{\n",
    "\\frac{y}{(x-d)^2+y^2}-\\frac{y}{(x+d)^2+y^2}\n",
    "\\right\\}\n",
    "\\,.\n",
    "\\end{equation}\n",
    "$$"
   ]
  },
  {
   "cell_type": "markdown",
   "metadata": {},
   "source": [
    "**Part 3.**\n",
    "Later we are going to use numerical calculations to estimate the total travel\n",
    "time, or time-of-flight, for a non-reacting fluid particle to traverse\n",
    "different streamlines. It is always smart to compare our numerical results\n",
    "with known analytical solutions, should they be available.\n",
    "For our scenario, the time it takes to travel along the shortest,\n",
    "straight-line path from injector to producer is:"
   ]
  },
  {
   "cell_type": "markdown",
   "metadata": {},
   "source": [
    "<!-- Equation labels as ordinary links -->\n",
    "<div id=\"_auto21\"></div>\n",
    "\n",
    "$$\n",
    "\\begin{equation}\n",
    "\\tau_{0}=\\int_{d}^{-d} \\frac{dx}{v_x}\\,.\n",
    "\\label{_auto21} \\tag{40}\n",
    "\\end{equation}\n",
    "$$"
   ]
  },
  {
   "cell_type": "markdown",
   "metadata": {},
   "source": [
    "Show by exact integration that:"
   ]
  },
  {
   "cell_type": "markdown",
   "metadata": {},
   "source": [
    "<!-- Equation labels as ordinary links -->\n",
    "<div id=\"eq:min_tof_doublet\"></div>\n",
    "\n",
    "$$\n",
    "\\begin{equation}\n",
    "\\label{eq:min_tof_doublet} \\tag{41}\n",
    "\\tau_{0}=\\frac{4\\pi{h}{n}{d}^2}{3Q}\\,.\n",
    "\\end{equation}\n",
    "$$"
   ]
  },
  {
   "cell_type": "markdown",
   "metadata": {},
   "source": [
    "For a given formation, how will the time until water breakthrough at the\n",
    "producer be affected if we double the distance between the wells, but\n",
    "keep the flow rate the same?\n",
    "\n",
    "\n",
    "**Part 4.**\n",
    "Finish implementing the following Python routine:"
   ]
  },
  {
   "cell_type": "code",
   "execution_count": 5,
   "metadata": {
    "collapsed": false
   },
   "outputs": [],
   "source": [
    "def calc_velocity_well_doublet(x, y, d, Q, h, poro):\n",
    "    \"\"\"\n",
    "    Calculate velocity field for a well doublet: an injector\n",
    "    located at (d,0), and a producer at (-d, 0).\n",
    "\n",
    "    :param x: x value(s) at which to compute the velocity (m).\n",
    "    :param y: y value(s) at which to compute the velocity (m).\n",
    "    :param d: Half-distance between injector and producer (m).\n",
    "    :param Q: Volumetric injection rate in m3/s.\n",
    "    :param h: Formation height (m).\n",
    "    :param poro: Constant formation porosity.\n",
    "    :return: Components of velocity vector field: (vx, vy)\n",
    "    \"\"\""
   ]
  },
  {
   "cell_type": "markdown",
   "metadata": {},
   "source": [
    "The function should work equally well whether a single pair of numbers is\n",
    "given as input, in which case a single pair of numbers is also returned, or\n",
    "if $x$ and $y$ are numpy arrays.\n",
    "\n",
    "\n",
    "\n",
    "**Part 5.**\n",
    "\n",
    "Suppose that $d=200$ $\\mathrm{m}$, $h=110$ $\\mathrm{m}$, $n=0.3$, and\n",
    "$Q=130$ $\\mathrm{m^3/hr}$.\n",
    "These values are representative of water injection at the Ekofisk field.\n",
    "\n",
    "According to the streamline model, how many days does it take before the\n",
    "first injected fluid reaches the producer?\n",
    "\n",
    "\n",
    "\n",
    "# Exercise 3: Tracing streamlines for a well pair\n",
    "\n",
    "<div id=\"tracing_streamlines\"></div>\n",
    "\n",
    "To trace out a streamline curve, we first 'place' an imaginary fluid particle\n",
    "at a point very close to the injector. Using equations ([29](#eq:integrate_stl_x))\n",
    "and ([30](#eq:integrate_stl_y)), we then integrate in a step-by-step\n",
    "manner, taking successive time steps until we reach the production well.\n",
    "Alternatively, we can start at the producer, and trace backwards until we\n",
    "reach an injector. In that case, we need to change the sign of the velocity\n",
    "field when doing the integration.\n",
    "\n",
    "\n",
    "\n",
    "**Part 1.**\n",
    "\n",
    "Unless otherwise is specified, we shall in this exercise assume that\n",
    "$d=8$ $\\mathrm{m}$, $h=2$ $\\mathrm{m}$, $n=0.25$, and\n",
    "$Q=21$ $\\mathrm{m^3/hr}$.\n",
    "\n",
    "How many hours does it take before the first injected fluid reaches the\n",
    "producer?\n",
    "\n",
    "\n",
    "\n",
    "**Part 2.**\n",
    "\n",
    "\n",
    "The simplest integration method, though rarely used in practice, is the\n",
    "(explicit) Forward [Euler](https://en.wikipedia.org/wiki/Euler_method)\n",
    "method:"
   ]
  },
  {
   "cell_type": "markdown",
   "metadata": {},
   "source": [
    "<!-- Equation labels as ordinary links -->\n",
    "<div id=\"_auto22\"></div>\n",
    "\n",
    "$$\n",
    "\\begin{equation}\n",
    "x_{n+1}=x_n+v_x(x_n, y_n)\\cdot\\Delta{t} \n",
    "\\label{_auto22} \\tag{42}\n",
    "\\end{equation}\n",
    "$$"
   ]
  },
  {
   "cell_type": "markdown",
   "metadata": {},
   "source": [
    "<!-- Equation labels as ordinary links -->\n",
    "<div id=\"_auto23\"></div>\n",
    "\n",
    "$$\n",
    "\\begin{equation}  \n",
    "y_{n+1}=y_n+v_y(x_n, y_n)\\cdot\\Delta{t} \\,.\n",
    "\\label{_auto23} \\tag{43}\n",
    "\\end{equation}\n",
    "$$"
   ]
  },
  {
   "cell_type": "markdown",
   "metadata": {},
   "source": [
    "Here, $x_n$ is the approximate value for the true $x$-coordinate\n",
    "$x(t_n)$ at the $n$-th time step (and similarly for $y$).\n",
    "\n",
    "Consider the following Python code:"
   ]
  },
  {
   "cell_type": "code",
   "execution_count": 6,
   "metadata": {
    "collapsed": false
   },
   "outputs": [],
   "source": [
    "# Define model parameters:\n",
    "Q = 21.0/3600.0  # 21 m3/hr\n",
    "d = 8.0  # m\n",
    "h = 2.0  # m\n",
    "poro = 0.25"
   ]
  },
  {
   "cell_type": "code",
   "execution_count": 7,
   "metadata": {
    "collapsed": false
   },
   "outputs": [],
   "source": [
    "# Trace out a single streamline:\n",
    "dr = 0.1\n",
    "dr2 = dr*dr\n",
    "dt = 0.01*3600.  # constant time step\n",
    "\n",
    "stl_x = []\n",
    "stl_y = []\n",
    "stl_dt = []\n",
    "\n",
    "x_n = d-dr\n",
    "y_n = 0.0\n",
    "\n",
    "while True:\n",
    "    v_x, v_y = calc_velocity_well_doublet(x_n, y_n, d, Q, h, poro)\n",
    "    x_n += v_x*dt\n",
    "    y_n += v_y*dt\n",
    "    dist2 = (x_n+d)**2+y_n**2\n",
    "    if dist2 > dr2:\n",
    "        stl_x.append(x_n)\n",
    "        stl_y.append(y_n)\n",
    "        stl_dt.append(dt)\n",
    "    else:\n",
    "        break\n",
    "print('Number of steps taken: {:d}.'.format(len(stl_x)))\n",
    "print('Last point: ({}, {}).'.format(stl_x[-1], stl_y[-1]))\n",
    "print('Total time: {} hours.'.format(np.cumsum(stl_dt)[-1]/3600.))\n",
    "\n",
    "fig_streamline = plt.figure()\n",
    "plt.plot(stl_x, stl_y)"
   ]
  },
  {
   "cell_type": "markdown",
   "metadata": {},
   "source": [
    "* What does the algorithm do? Compare the output with what you calculated in Part 1.\n",
    "\n",
    "* What happens as we lower the value of $\\Delta{r}$? Why?\n",
    "\n",
    "* What happens if we set $x_n=x_n+\\Delta{r}$ initially (i.e., plus instead of minus)?\n",
    "\n",
    "**Part 3.**\n",
    "Next, let $\\vec{x}_0=(x(0), y(0))$ denote a general point lying a\n",
    "distance $\\Delta{r}$ away from the injection well:"
   ]
  },
  {
   "cell_type": "markdown",
   "metadata": {},
   "source": [
    "<!-- Equation labels as ordinary links -->\n",
    "<div id=\"_auto24\"></div>\n",
    "\n",
    "$$\n",
    "\\begin{equation}\n",
    "x(0) = d + \\Delta{r}\\cos{\\beta_o} \n",
    "\\label{_auto24} \\tag{44}\n",
    "\\end{equation}\n",
    "$$"
   ]
  },
  {
   "cell_type": "markdown",
   "metadata": {},
   "source": [
    "<!-- Equation labels as ordinary links -->\n",
    "<div id=\"_auto25\"></div>\n",
    "\n",
    "$$\n",
    "\\begin{equation}  \n",
    "y(0) = \\Delta{r}\\sin{\\beta_o} \\,.\n",
    "\\label{_auto25} \\tag{45}\n",
    "\\end{equation}\n",
    "$$"
   ]
  },
  {
   "cell_type": "markdown",
   "metadata": {},
   "source": [
    "Make a plot showing the points we get as we vary $\\beta_o$ from"
   ]
  },
  {
   "cell_type": "markdown",
   "metadata": {},
   "source": [
    "<!-- Equation labels as ordinary links -->\n",
    "<div id=\"_auto26\"></div>\n",
    "\n",
    "$$\n",
    "\\begin{equation}\n",
    "\\beta_o=\\beta_{o}(i)=(i+1)\\cdot\\frac{\\pi}{N}\\,,\n",
    "\\label{_auto26} \\tag{46}\n",
    "\\end{equation}\n",
    "$$"
   ]
  },
  {
   "cell_type": "markdown",
   "metadata": {},
   "source": [
    "for $i=0, 1, \\ldots, N-1$? What is the physical meaning of the parameter\n",
    "$\\beta_o$?\n",
    "\n",
    "\n",
    "\n",
    "**Part 4.**\n",
    "\n",
    "\n",
    "We now want to launch $N=5$ different streamlines from the injector:\n",
    "<!-- As starting points for the integration, we choose the points $\\vec{x_0}$ -->\n",
    "<!-- from the previous exercise, with $\\Delta{r}=0.1$ m: -->\n",
    "<!-- As before, we start out with a constant time step $\\Delta{t}=0.01$ hour. -->"
   ]
  },
  {
   "cell_type": "code",
   "execution_count": 8,
   "metadata": {
    "collapsed": false
   },
   "outputs": [],
   "source": [
    "# Trace N streamlines from injector to producer:\n",
    "Q = 21.0/3600.0  # 21 m3/hr\n",
    "d = 8.0  # m\n",
    "h = 2.0  # m\n",
    "poro = 0.25\n",
    "\n",
    "dr = 0.1  # m\n",
    "dt = 0.01*3600.0  # 0.01 hrs in seconds\n",
    "N = 5  # number of streamlines\n",
    "\n",
    "for i in range(N):\n",
    "    # To do: trace out the streamline:\n",
    "    angle = ...\n",
    "    x0 = ...\n",
    "    y0 = ..."
   ]
  },
  {
   "cell_type": "markdown",
   "metadata": {},
   "source": [
    "Finish implementing the above algorithm by tracing out each streamline until\n",
    "it hits (close to) the production well.  Moreover, for each of the streamlines\n",
    "estimate the time (time-of-flight) $\\tau$ it takes for a non-reacting\n",
    "fluid particle to travel along the path from injector to producer.\n",
    "\n",
    "Next, visualize the streamlines. For each streamline, include in the figure\n",
    "the computed $\\tau$-value as a text label above that streamline.\n",
    "Mark out the locations of the two wells in the plot; use a different\n",
    "colour for each well.\n",
    "\n",
    "\n",
    "**Part 5.**\n",
    "It is not only for the straight-line path from injector to producer that\n",
    "we can compute $\\tau$ analytically. Compare your numerical results\n",
    "from the previous exercise with exact values recorded in the following\n",
    "table (obtained with a very complicated formula from\n",
    "[[zhan1999analytical]](#zhan1999analytical)):\n",
    "\n",
    "<table border=\"1\">\n",
    "<thead>\n",
    "<tr><th align=\"center\">Streamline index</th> <th align=\"center\">Angle, $\\beta_o$</th> <th align=\"center\">Time-of-flight, $\\tau$ (hours)</th> </tr>\n",
    "</thead>\n",
    "<tbody>\n",
    "<tr><td align=\"center\">   0                   </td> <td align=\"center\">   $\\pi/5$             </td> <td align=\"center\">   251.44                            </td> </tr>\n",
    "<tr><td align=\"center\">   1                   </td> <td align=\"center\">   $2\\pi/5$            </td> <td align=\"center\">   34.57                             </td> </tr>\n",
    "<tr><td align=\"center\">   2                   </td> <td align=\"center\">   $3\\pi/5$            </td> <td align=\"center\">   12.61                             </td> </tr>\n",
    "<tr><td align=\"center\">   3                   </td> <td align=\"center\">   $4\\pi/5$            </td> <td align=\"center\">   7.51                              </td> </tr>\n",
    "<tr><td align=\"center\">   4                   </td> <td align=\"center\">   $\\pi$               </td> <td align=\"center\">   6.38                              </td> </tr>\n",
    "</tbody>\n",
    "</table>\n",
    "Is the agreement between numerical and analytical time-of-flight good for\n",
    "all computed streamlines? If not, what steps could you take to remedy this?\n",
    "\n",
    "\n",
    "\n",
    "**Part 6.**\n",
    "Extend the code from Part 4 to handle the general case of\n",
    "$N$ streamlines launched from the injector. However, do not trace out all\n",
    "of the streamlines fully, only those that reach the producer within a given\n",
    "period of time.\n",
    "\n",
    "It is recommended to encapsulate your algorithm within a Python function\n",
    "and/or class, for later reusability.\n",
    "\n",
    "\n",
    "\n",
    "# Exercise 4: Predict tracer production profiles\n",
    "\n",
    "Suppose a non-reacting chemical (i.e., a tracer) is injected into the\n",
    "formation. We can use our streamline model to predict the chemical\n",
    "concentration at the production well as a function of time:"
   ]
  },
  {
   "cell_type": "markdown",
   "metadata": {},
   "source": [
    "<!-- Equation labels as ordinary links -->\n",
    "<div id=\"_auto27\"></div>\n",
    "\n",
    "$$\n",
    "\\begin{equation}\n",
    "C_{e}(t)\\approx\\displaystyle\\sum_{i=0}^{N-1} C_{i,e}(t)\\Delta{f}\\,,\n",
    "\\label{_auto27} \\tag{47}\n",
    "\\end{equation}\n",
    "$$"
   ]
  },
  {
   "cell_type": "markdown",
   "metadata": {},
   "source": [
    "where $C_{i,e}$ denotes the concentration of the tracer at the final point\n",
    "of streamline $i$, and $\\Delta{f}=\\Delta{Q}_i/Q$ is the fraction of the total\n",
    "production rate associated with that streamline. Since we launch streamlines\n",
    "at equally spaced angles, they are all assumed to carry the same amount\n",
    "of fluid, which means that $\\Delta{f}=\\frac{1}{N}$. Finally, if $\\tau_i$\n",
    "is the total time it takes to traverse streamline $i$, $C_{i,e}(t)$ must equal\n",
    "the initial chemical concentration if $t<\\tau_i$, and the injected\n",
    "concentration otherwise.\n",
    "\n",
    "\n",
    "\n",
    "**Part 1.**\n",
    "Suppose we start injecting water into the formation at time $t=0$.\n",
    "Use the input parameters from Exercise 3 to\n",
    "plot the percentage of injected water that has reached the production\n",
    "well at times $t>0$.\n",
    "\n",
    "To see the effect of streamline resolution, include in the plot the\n",
    "production curve for different values of $N$. The two largest values\n",
    "should give more or less identical results.\n",
    "\n",
    "\n",
    "**Part 2.**\n",
    "Roughly the same scenario has been simulated with a finite difference simulator.\n",
    "Results from that program can be found in the text file `FD_water_btc.dat`, and\n",
    "are plotted below.\n",
    "\n",
    "<!-- dom:FIGURE:[project2_figs/fd_simres.png, frac=0.6] Results from a finite difference simulator. <div id=\"fig:fd_simres\"></div> -->\n",
    "<!-- begin figure -->\n",
    "<div id=\"fig:fd_simres\"></div>\n",
    "\n",
    "<p>Results from a finite difference simulator.</p>\n",
    "<img src=\"project2_figs/fd_simres.png\" >\n",
    "\n",
    "<!-- end figure -->\n",
    "\n",
    "\n",
    "<!-- dom:FIGURE:[project2_figs/wells_fd.png] Distribution of injected water at two different times (finite difference simulation). <div id=\"fig:fd_simres_swdist\"></div> -->\n",
    "<!-- begin figure -->\n",
    "<div id=\"fig:fd_simres_swdist\"></div>\n",
    "\n",
    "<p>Distribution of injected water at two different times (finite difference simulation).</p>\n",
    "<img src=\"project2_figs/wells_fd.png\" >\n",
    "\n",
    "<!-- end figure -->\n",
    "\n",
    "\n",
    "Make your plot from the previous exercise dimensionless by dividing the\n",
    "time axis by the shortest time-of-flight, $\\tau_0$.\n",
    "Use a logarithmic spacing on the time axis, and also include output from\n",
    "the finite difference simulator in the figure.\n",
    "\n",
    "How long does it take for 50 `%` of the injected water to reach the producer?\n",
    "Provide your answer both in dimensional and dimensionless units.\n",
    "\n",
    "**Note.**\n",
    "\n",
    "You will not be able to perfectly match the two simulations, due\n",
    "to different assumptions made regarding boundary conditions in the two\n",
    "cases, and because of inherent numerical errors associated with the finite\n",
    "difference implementation.\n",
    "\n",
    "\n",
    "\n",
    "\n",
    "**(Optional) Part 3.**\n",
    "Make a Python program capable of tracing streamlines for *arbitrary*\n",
    "well placements. You may assume a single production well, but any number\n",
    "of injectors. (hint: here it is smart to start the streamline integration\n",
    "at the producer, and go backwards)\n",
    "\n",
    "Apply your program by plotting streamlines for a\n",
    "[five-spot](https://www.glossary.oilfield.slb.com/en/Terms/f/five_spot.aspx)\n",
    "well pattern.\n",
    "\n",
    "\n",
    "# Guidelines for project submission\n",
    "The assignment is provided both as a PDF, and as a Jupyter notebook.\n",
    "However, the work done to answer the exercises only has to be handed in as a\n",
    "notebook, though you can submit an additional PDF if you want.\n",
    "You should bear the following points in mind when working on the project:\n",
    "* Start your notebook by providing a short introduction in which you outline the nature of the problem(s) to be investigated.\n",
    "\n",
    "* End your notebook with a brief summary of what you feel you learnt from the project (if anything). Also, if you have any general comments or suggestions for what could be improved in future assignments, this is the place to do it.\n",
    "\n",
    "* All code that you make use of should be present in the notebook, and it should ideally execute without any errors (especially run-time errors). If you are not able to fix everything before the deadline, you should give your best understanding of what is not working, and how you might go about fixing it.\n",
    "\n",
    "* If you use an algorithm that is not fully described in the assignment text, you should try to explain it in your own words. This also applies if the method is described elsewhere in the course material.\n",
    "\n",
    "* In some cases it may suffice to explain your work via comments in the code itself, but other times you might want to include a more elaborate explanation in terms of, e.g., mathematics and/or pseudocode.\n",
    "\n",
    "* In general, it is a good habit to comment your code (though it can be overdone).\n",
    "\n",
    "* When working with approximate solutions to equations, it is always useful to check your results against known exact (analytical) solutions, should they be available.\n",
    "\n",
    "* It is also a good test of a model implementation to study what happens at known 'edge cases'.\n",
    "\n",
    "* Any figures you include should be easily understandable. You should label axes appropriately, and depending on the problem, include other legends etc. Also, you should discuss your figures in the main text.\n",
    "\n",
    "* It is always good if you can reflect a little bit around *why* you see what you see.\n",
    "\n",
    "# Bibliography\n",
    "\n",
    "1. <div id=\"zhan1999analytical\"></div> **H. Zhan**. \n",
    "    Analytical and Numerical Modeling of a Double Well Capture Zone,\n",
    "    *Mathematical Geology*,\n",
    "    31(2),\n",
    "    pp. 175-193,\n",
    "    1999."
   ]
  }
 ],
 "metadata": {},
 "nbformat": 4,
 "nbformat_minor": 2
}
