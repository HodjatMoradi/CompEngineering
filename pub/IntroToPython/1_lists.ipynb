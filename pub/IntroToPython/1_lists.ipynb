{
 "cells": [
  {
   "cell_type": "markdown",
   "metadata": {},
   "source": [
    "<!-- dom:TITLE: Introduction to Python (MOD510): Lists -->\n",
    "# Introduction to Python (MOD510): Lists\n",
    "<!-- dom:AUTHOR: Oddbjørn Nødland -->\n",
    "<!-- Author: -->  \n",
    "**Oddbjørn Nødland**\n",
    "\n",
    "Date: **Aug 20, 2019**"
   ]
  },
  {
   "cell_type": "code",
   "execution_count": 1,
   "metadata": {},
   "outputs": [],
   "source": [
    "import math\n",
    "import numpy as np\n",
    "import copy"
   ]
  },
  {
   "cell_type": "markdown",
   "metadata": {},
   "source": [
    "**Summary.** The aim of this workbook is to provide a rapid introduction to Python\n",
    "list objects, and to show some examples of how you can work with them.\n",
    "\n",
    "\n",
    "\n",
    "\n",
    "\n",
    "\n",
    "\n",
    "\n",
    "## Introductory examples\n",
    "<div id=\"python_lists_intro_ex\"></div>\n",
    "\n",
    "A Python list is a flexible and frequently used data structure to\n",
    "store collections of objects."
   ]
  },
  {
   "cell_type": "code",
   "execution_count": 2,
   "metadata": {},
   "outputs": [],
   "source": [
    "# Create an empty list:\n",
    "empty_list = []\n",
    "print('empty list: {}, type: {}'.format(empty_list, type(empty_list)))\n",
    "\n",
    "# Lists of numbers:\n",
    "list_of_integers = [1, 2, 3, 4, 5]\n",
    "print(list_of_integers)\n",
    "\n",
    "list_of_floats = [0.25, 3.14159, 42.0, math.pi]\n",
    "print(list_of_floats)"
   ]
  },
  {
   "cell_type": "markdown",
   "metadata": {},
   "source": [
    "Everything in Python is an object, and list elements do not have to be of\n",
    "the same object type:"
   ]
  },
  {
   "cell_type": "code",
   "execution_count": 3,
   "metadata": {},
   "outputs": [],
   "source": [
    "# Python lists can store objects of different types:\n",
    "a = [3.14, 'Ni!', math.sin, [1, 2, 3], lambda x: x*x]\n",
    "for i in range(len(a)):\n",
    "    print('The object type of element #' + str(i) + ' is: ' + str(type(a[i])))"
   ]
  },
  {
   "cell_type": "markdown",
   "metadata": {},
   "source": [
    "Some more basic list manipulation is shown below:"
   ]
  },
  {
   "cell_type": "code",
   "execution_count": 4,
   "metadata": {},
   "outputs": [],
   "source": [
    "# Access elements of a list:\n",
    "long_list = [i+1 for i in range(1000)]  # first 1000 integers\n",
    "first_number = long_list[0]\n",
    "second_last_number = long_list[-2]\n",
    "print(first_number)\n",
    "print(second_last_number)"
   ]
  },
  {
   "cell_type": "code",
   "execution_count": 5,
   "metadata": {},
   "outputs": [],
   "source": [
    "# Change individual elements of a list:\n",
    "my_list= [1, 2, 3]\n",
    "my_list[1] = 17\n",
    "print(my_list)\n",
    "\n",
    "# Delete first value:\n",
    "first_value = my_list[0]\n",
    "del(my_list[0])\n",
    "print(my_list)\n",
    "\n",
    "# Add it back at the end:\n",
    "my_list.append(first_value)\n",
    "print(my_list)"
   ]
  },
  {
   "cell_type": "code",
   "execution_count": 6,
   "metadata": {},
   "outputs": [],
   "source": [
    "# More examples of list operations:\n",
    "\n",
    "names = ['Graham', 'John', 'Terry']\n",
    "print(names)\n",
    "\n",
    "# Concatenate list:\n",
    "names += ['Eric', 'Terry', 'Michael', 'Rowan']\n",
    "print(names)\n",
    "\n",
    "# Delete last entry:\n",
    "del[names[-1]]\n",
    "print(names)\n",
    "\n",
    "# Loop over every second element with a for loop:\n",
    "for i in range(0, len(names), 2):\n",
    "    print(names[i])\n",
    "\n",
    "# Extract every second element as a slice of the list:\n",
    "every_second_name = names[::2]  # alternative: names[0::2]\n",
    "print(every_second_name)\n",
    "\n",
    "# Delete every second element:\n",
    "del(names[::2])\n",
    "print(names)\n",
    "\n",
    "# Enlarge list by repeating all entries 5 times:\n",
    "names *= 5\n",
    "print(names)\n",
    "# Add a lot of more repeating entries:\n",
    "names += ['spam']*10000\n",
    "# maybe best not to uncomment this line...\n",
    "#print(names)"
   ]
  },
  {
   "cell_type": "markdown",
   "metadata": {},
   "source": [
    "## Looping over lists\n",
    "<div id=\"python_lists_loop\"></div>"
   ]
  },
  {
   "cell_type": "code",
   "execution_count": 7,
   "metadata": {},
   "outputs": [],
   "source": [
    "# Different ways to loop over a list:\n",
    "list_of_numbers = [1, 1, 2, 3, 5, 8, 13, 21, 34, 55]\n",
    "\n",
    "# Loop by index:\n",
    "length_list = len(list_of_numbers)\n",
    "for index in range(length_list):\n",
    "    print(list_of_numbers[index])\n",
    "\n",
    "# Loop by list comprehension:\n",
    "for n in list_of_numbers:\n",
    "    print(n)\n",
    "\n",
    "# Access both index and the corresponding entries simultaneously:\n",
    "for index, n in enumerate(list_of_numbers):\n",
    "    print('The number stored at index #{} is {}.'.format(index,n))"
   ]
  },
  {
   "cell_type": "markdown",
   "metadata": {},
   "source": [
    "## Lists are mutable objects\n",
    "<div id=\"python_lists_mutable\"></div>\n",
    "\n",
    "In contrast to several other built-in types such as numbers and strings,\n",
    "a list is a mutable object type, which means that we can modify it *in-place*\n",
    "by accessing a variable (reference) pointing to it. This is important to be\n",
    "aware of, as it can lead to subtle errors in the logic of a program.\n",
    "Consider, for example, the following code snippet:"
   ]
  },
  {
   "cell_type": "code",
   "execution_count": 8,
   "metadata": {},
   "outputs": [],
   "source": [
    "# A variable pointing to a list refers to the same object in memory:\n",
    "first_list = [1, 2, 3]\n",
    "print('Before: {}.'.format(first_list))\n",
    "second_list = first_list\n",
    "second_list[-1] = 0  # <-- this also changes first_list!\n",
    "print('After: {}.'.format(first_list))"
   ]
  },
  {
   "cell_type": "markdown",
   "metadata": {},
   "source": [
    "The same thing can happen when passing a list in as a parameter to a function:"
   ]
  },
  {
   "cell_type": "code",
   "execution_count": 9,
   "metadata": {},
   "outputs": [],
   "source": [
    "# Modifying a list in global scope inside a function:\n",
    "\n",
    "# Variables in global scope:\n",
    "x = 17\n",
    "x_list = [17]\n",
    "print('Before calling function, x={}, x_list={}.'.format(x, x_list))\n",
    "\n",
    "def function(input_x, input_list):\n",
    "    input_x = 1  # does not really do anything...\n",
    "    input_list[0] = 1  # changes the list passed in to the function!\n",
    "    # do more stuff ...\n",
    "\n",
    "function(x, x_list)\n",
    "\n",
    "# The list x_list is mutable and has been changed inside the function:\n",
    "print('After calling function, x={}, x_list={}.'.format(x, x_list))"
   ]
  },
  {
   "cell_type": "markdown",
   "metadata": {},
   "source": [
    "In the last example, the function modifies the list fed in to the function,\n",
    "while the input floating number stays the same, exemplifying the difference\n",
    "between mutable and immutable object types. In many (most?) cases, this kind of\n",
    "behaviour is undesirable. Instead, what we would often wish to do is to\n",
    "temporarily work with the entries of the list inside the function, but without\n",
    "altering it on the outside. One way to achieve this would be to make a copy\n",
    "of the list inside the function:"
   ]
  },
  {
   "cell_type": "code",
   "execution_count": 10,
   "metadata": {},
   "outputs": [],
   "source": [
    "# Using a copy of a list inside a function:\n",
    "def function2(input_list):\n",
    "    temp_list = input_list.copy()  # create local (shallow) copy of list\n",
    "    temp_list[0] = 1\n",
    "    # do more stuff ...\n",
    "\n",
    "# Applying function2 to a list does not modify it:\n",
    "a = [0]*10\n",
    "print('Before: {}.'.format(a))\n",
    "function2(a)\n",
    "print('After: {}.'.format(a))"
   ]
  },
  {
   "cell_type": "markdown",
   "metadata": {},
   "source": [
    "If we only need to work with a few of the list entries, another\n",
    "alternative could be, e.g.:"
   ]
  },
  {
   "cell_type": "code",
   "execution_count": 11,
   "metadata": {},
   "outputs": [],
   "source": [
    "# Define local variables inside function to avoid changing input list:\n",
    "def function3(input_list):\n",
    "    y = input_list[0]\n",
    "    # Try changing y and see what happens..\n",
    "\n",
    "a = [2, 3, 4]\n",
    "print('Before: {}.'.format(a))\n",
    "function3(a)\n",
    "print('After: {}.'.format(a))"
   ]
  },
  {
   "cell_type": "markdown",
   "metadata": {},
   "source": [
    "## Slicing\n",
    "\n",
    "If we want to extract a part of a list, we can apply slicing:"
   ]
  },
  {
   "cell_type": "code",
   "execution_count": 12,
   "metadata": {},
   "outputs": [],
   "source": [
    "# List slicing examples:\n",
    "my_list = ['one', 'two', 'three', 4, 'five', 6]\n",
    "first_half_of_list = my_list[0:3]  # indices 0, 1, 2\n",
    "print(first_half_of_list)\n",
    "second_half_of_list = my_list[3:]\n",
    "print(second_half_of_list)\n",
    "# Access 2nd and 3rd element, and set them to zero:\n",
    "my_list[1:3] = [0, 0]\n",
    "print(my_list)\n",
    "\n",
    "# Note that list slicing yields a (shallow) copy of the original list:\n",
    "original_list = [4, 8, 15, 16, 23, 42]\n",
    "print('List before:: {}.'.format(original_list))\n",
    "sliced_list = original_list[:]\n",
    "sliced_list[0] = 0  # does not alter the original (numbers are immutable)\n",
    "print('List after: {}.'.format(original_list))\n",
    "\n",
    "# ** IMPORTANT NOTE**  The same is _NOT_ the case for NumPy arrays:\n",
    "original_array = np.array(original_list)\n",
    "print('Array before: {}.'.format(original_array))\n",
    "sliced_array = original_array[:]\n",
    "sliced_array[0] = 0\n",
    "print('Array after: {}.'.format(original_array))\n",
    "\n",
    "# A separate notebook covers NumPy arrays in more detail."
   ]
  },
  {
   "cell_type": "markdown",
   "metadata": {},
   "source": [
    "## More examples\n",
    "\n",
    "The code below shows several more examples of how to work with Python lists.\n",
    "Go through the code and convince yourself that you understand\n",
    "everything that is happening:"
   ]
  },
  {
   "cell_type": "code",
   "execution_count": 13,
   "metadata": {},
   "outputs": [],
   "source": [
    "# Create a list filled with the 10 first positive numbers:\n",
    "a = [1, 2, 3, 4, 5, 6, 7, 8, 9, 10]\n",
    "# Change the first entry to zero:\n",
    "a[0] = 0\n",
    "print(a)\n",
    "\n",
    "# A simpler way to create the original version of a:\n",
    "a = [i + 1 for i in range(10)]\n",
    "print(a)"
   ]
  },
  {
   "cell_type": "code",
   "execution_count": 14,
   "metadata": {},
   "outputs": [],
   "source": [
    "# Using '=' sign: b now to points to same object as a:\n",
    "b = a\n",
    "b[0] = 42  # Changing b changes a.\n",
    "print(a)\n",
    "\n",
    "# On the other hand, b is now a new list made from a:\n",
    "b = a.copy()\n",
    "b[0] = 17  # Only changes b, not a.\n",
    "print(a)\n",
    "\n",
    "# This is also a copy (slicing):\n",
    "b = a[:]\n",
    "b[0] = 33  # Only changes b, not a.\n",
    "print(a)\n",
    "\n",
    "# Let b refer to the first 4 elements of a (slicing):\n",
    "b = a[0:3]\n",
    "b[1] = 11  # Only changes b, not a.\n",
    "print(a)\n",
    "\n",
    "# Copy values of a into the existing list b:\n",
    "b[:] = a\n",
    "b[-1] = 99  # Only changes b, not a.\n",
    "print(a)"
   ]
  },
  {
   "cell_type": "code",
   "execution_count": 15,
   "metadata": {},
   "outputs": [],
   "source": [
    "# Loop through list by index, and replace each element by twice the value:\n",
    "a = [i + 1 for i in range(10)]\n",
    "\n",
    "for i in range(len(a)):\n",
    "    a[i] *= 2\n",
    "print(a)\n",
    "\n",
    "# Create copy of a, and increment each entry by one:\n",
    "b = a.copy()\n",
    "b = [v+1 for v in b]\n",
    "print(b)\n",
    "\n",
    "# Now let a refer to the first 10 odd numbers:\n",
    "a = [2 * i + 1 for i in range(10)]\n",
    "print(a)\n",
    "\n",
    "# A simpler way of multiplying each number by two:\n",
    "a = [2*value for value in a]\n",
    "print(a)\n",
    "\n",
    "# Loop through list when not needing the index:\n",
    "for number in a:\n",
    "    print(number)\n",
    "\n",
    "# Also extract index:\n",
    "for i, number in enumerate(a):\n",
    "    print('a[{}]={}, b[{}]={}.'.format(i, number, i, b[i]))"
   ]
  },
  {
   "cell_type": "code",
   "execution_count": 16,
   "metadata": {},
   "outputs": [],
   "source": [
    "# Loop through several lists at the same time without index:\n",
    "even_numbers = [2*i for i in range(1, 11)]\n",
    "odd_numbers = [2*i+1 for i in range(10)]\n",
    "\n",
    "for odd, even in zip(odd_numbers, even_numbers):\n",
    "    print('Odd=' + str(odd) + ', Even=' + str(even))"
   ]
  },
  {
   "cell_type": "markdown",
   "metadata": {},
   "source": [
    "## Shallow versus deep copies\n",
    "\n",
    "Note that even when making a copy of a list, there are some subtleties:"
   ]
  },
  {
   "cell_type": "code",
   "execution_count": 17,
   "metadata": {},
   "outputs": [],
   "source": [
    "# Difference between shallow copies and deep copies:\n",
    "a = [[0,1],[2,3],[4,5], 6]\n",
    "print('Before copy and modify: {}.'.format(a))\n",
    "b = a.copy()\n",
    "b[0][0] = 1\n",
    "# Note that a has been changed even though b is a (shallow) copy:\n",
    "print('After copy and modify: {}.'.format(a))\n",
    "\n",
    "# On the other hand, for immutable types like integers this will not occur:\n",
    "b[-1] = 1.0\n",
    "print('After second modification of b: {}.'.format(a))"
   ]
  },
  {
   "cell_type": "markdown",
   "metadata": {},
   "source": [
    "What happens above can be understood as follows: While using copy() ensures\n",
    "that b is a new (list) object compared to a, the *elements* of both lists are\n",
    "references to the same underlying objects in memory. If one of those elements\n",
    "is a mutable object, it means that changing it in for one of the lists will\n",
    "automatically affect the other as well.\n",
    "\n",
    "To ensure that each element in a list is also copied (recursively,\n",
    "if there are lists of lists of lists etc.), we can write:"
   ]
  },
  {
   "cell_type": "code",
   "execution_count": 18,
   "metadata": {},
   "outputs": [],
   "source": [
    "# Alternative: use the deepcopy() function from the copy module:\n",
    "print('Before deepcopy and modify: {}.'.format(a))\n",
    "b = copy.deepcopy(a)\n",
    "b[0][0] = 17\n",
    "# Now, a remains unchanged:\n",
    "print('After deepcopy and modify: {}.'.format(a))"
   ]
  }
 ],
 "metadata": {
  "kernelspec": {
   "display_name": "Python 3",
   "language": "python",
   "name": "python3"
  },
  "language_info": {
   "codemirror_mode": {
    "name": "ipython",
    "version": 3
   },
   "file_extension": ".py",
   "mimetype": "text/x-python",
   "name": "python",
   "nbconvert_exporter": "python",
   "pygments_lexer": "ipython3",
   "version": "3.6.5"
  }
 },
 "nbformat": 4,
 "nbformat_minor": 2
}
