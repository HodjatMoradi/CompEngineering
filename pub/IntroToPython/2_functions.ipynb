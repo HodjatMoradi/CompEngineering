{
 "cells": [
  {
   "cell_type": "markdown",
   "metadata": {},
   "source": [
    "<!-- dom:TITLE: Introduction to Python (MOD510): Functions -->\n",
    "# Introduction to Python (MOD510): Functions\n",
    "<!-- dom:AUTHOR: Oddbjørn Nødland -->\n",
    "<!-- Author: -->  \n",
    "**Oddbjørn Nødland**\n",
    "\n",
    "Date: **Aug 20, 2019**"
   ]
  },
  {
   "cell_type": "code",
   "execution_count": 1,
   "metadata": {
    "collapsed": false
   },
   "outputs": [],
   "source": [
    "%matplotlib inline\n",
    "\n",
    "import numpy as np\n",
    "import math\n",
    "import matplotlib.pyplot as plt"
   ]
  },
  {
   "cell_type": "markdown",
   "metadata": {},
   "source": [
    "**Summary.** The aim of this workbook is to provide a rapid introduction to Python\n",
    "function objects, and to show some examples of how you can work with\n",
    "them.\n",
    "\n",
    "\n",
    "\n",
    "\n",
    "\n",
    "\n",
    "\n",
    "\n",
    "## Functions\n",
    "\n",
    "Functions provide an incredibly useful way to split a large program into\n",
    "smaller, more manageable pieces, and they serve to reduce unnecessary\n",
    "code duplication. They can communicate with the 'outside' by taking any number\n",
    "of inputs and/or returning any number of outputs, or else they can simply\n",
    "execute some code local to the function itself.\n",
    "\n",
    "Python comes with many built-in functions, and many more are provided by\n",
    "numerical packages such as NumPy and SciPy. It is also easy to define\n",
    "your own. Examples of how to define and call functions are demonstrated\n",
    "below:"
   ]
  },
  {
   "cell_type": "code",
   "execution_count": 2,
   "metadata": {
    "collapsed": false
   },
   "outputs": [],
   "source": [
    "# Examples of working with functions in Python:\n",
    "\n",
    "# Functions of one variable:\n",
    "def celsius_to_fahrenheit(temperature_celsius):\n",
    "    return (9.0/5)*temperature_celsius + 32.0\n",
    "\n",
    "def fahrenheit_to_celsius(temperature_fahrenheit):\n",
    "    return (5.0/9)*(temperature_fahrenheit-32.0)\n",
    "\n",
    "print('Freezing point of water: 0 C = {} F.'.format(celsius_to_fahrenheit(0.0)))\n",
    "print('Boiling point of water: 100 C = {} F.'.format(celsius_to_fahrenheit(100.0)))"
   ]
  },
  {
   "cell_type": "code",
   "execution_count": 3,
   "metadata": {
    "collapsed": false
   },
   "outputs": [],
   "source": [
    "# Define a simple quadratic polynomial:\n",
    "def x_squared(x):\n",
    "    return x*x\n",
    "\n",
    "# Print 5 first squares:\n",
    "p = x_squared\n",
    "for i in range(5):\n",
    "    print(p(i+1))\n",
    "\n",
    "# A simple function of two variables:\n",
    "def hypotenuse(x, y):\n",
    "    return math.sqrt(x**2+y**2)"
   ]
  },
  {
   "cell_type": "code",
   "execution_count": 4,
   "metadata": {
    "collapsed": false
   },
   "outputs": [],
   "source": [
    "# Example where we include the option of default parameter values:\n",
    "def sine_wave(x, A=1.0, omega=1.0, phi=0.0):\n",
    "    return A * math.sin(omega*x+phi)\n",
    "\n",
    "# Only calling with the first argument. Sets the others two their default values:\n",
    "print('sin(pi/2)=', sine_wave(math.pi * 0.5))\n",
    "# Calling the function with omega set to a different value:\n",
    "print('sin(pi)=', sine_wave(math.pi * 0.5, omega=2.0))\n",
    "# Should also produce sin(pi)=0:\n",
    "print('sin(pi)=', sine_wave(math.pi * 0.5, 1.0, 2.0, 0.0))\n",
    "\n",
    "# We can require the caller of a function to use keywords when setting\n",
    "# optional input parameters (rather than just ensuring the right order):\n",
    "def cosine_wave(x, *, A=1.0, omega=1.0, phi=0.0):\n",
    "    return A*math.cos(omega*x+phi)\n",
    "\n",
    "print('cos(pi/2)=', cosine_wave(math.pi, omega=0.5))\n",
    "\n",
    "# Uncommenting the next line produces an error:\n",
    "#cosine_wave(math.pi, 1.0, 0.5, 0.0)"
   ]
  },
  {
   "cell_type": "code",
   "execution_count": 5,
   "metadata": {
    "collapsed": false
   },
   "outputs": [],
   "source": [
    "# Note that since we used the math library version of sine and cosine,\n",
    "# the above functions are not vectorized:\n",
    "x = np.linspace(0, 6, 10)\n",
    "#print(cosine_wave(x))  # <-- produces an error\n",
    "\n",
    "# Better to do it this way:\n",
    "def cosine_wave2(x, *, A=1.0, omega=1.0, phi=0.0):\n",
    "    return A*np.cos(omega*x+phi)\n",
    "print(cosine_wave2(x))"
   ]
  },
  {
   "cell_type": "markdown",
   "metadata": {},
   "source": [
    "In the next example, we have added detailed documentation for how to use a\n",
    "custom function:"
   ]
  },
  {
   "cell_type": "code",
   "execution_count": 6,
   "metadata": {
    "collapsed": false
   },
   "outputs": [],
   "source": [
    "def vertical_position_gravity(t, *, h0=10.0):\n",
    "    \"\"\"\n",
    "    Compute vertical position at time t of object dropped from a height h > 0 at time t=0.\n",
    "    Assume no other forces than gravity, with a constant gravitational acceleration,\n",
    "    g = 9.81 m/s^2.\n",
    "\n",
    "    :param t: Time(s) in seconds. Either a single number, or an array.\n",
    "    :param h0: Height above ground in meters at time t=0 (default: 10.0 m).\n",
    "    :return: Height above ground in meters at t >= 0.\n",
    "    \"\"\"\n",
    "    h_above = h0-0.5*9.81*t**2\n",
    "    h_below = np.zeros_like(h_above)\n",
    "    return np.where(h_above < 0.0, h_below, h_above)"
   ]
  },
  {
   "cell_type": "markdown",
   "metadata": {},
   "source": [
    "If we need to read the documentation somewhere else, we can type:"
   ]
  },
  {
   "cell_type": "code",
   "execution_count": 7,
   "metadata": {
    "collapsed": false
   },
   "outputs": [],
   "source": [
    "help(vertical_position_gravity)"
   ]
  },
  {
   "cell_type": "markdown",
   "metadata": {},
   "source": [
    "Also observe how the usage of the NumPy special functions *zeros\\_like* and\n",
    "*where* allows us to take both single numbers and arrays as input:"
   ]
  },
  {
   "cell_type": "code",
   "execution_count": 8,
   "metadata": {
    "collapsed": false
   },
   "outputs": [],
   "source": [
    "# How long does it take for a ball to drop to the ground?\n",
    "h_1sec = vertical_position_gravity(1.0, h0=100.0)\n",
    "\n",
    "t = np.linspace(0, 10.0, 100)\n",
    "h_t = vertical_position_gravity(t, h0=100.0)\n",
    "fig_drop_ball = plt.figure()\n",
    "plt.xlabel('Time (seconds)')\n",
    "plt.ylabel('Height above ground (m)')\n",
    "plt.plot(t, h_t)"
   ]
  },
  {
   "cell_type": "markdown",
   "metadata": {},
   "source": [
    "Functions can take any object as input, and return any kind of object as\n",
    "output, including other functions:"
   ]
  },
  {
   "cell_type": "code",
   "execution_count": 9,
   "metadata": {
    "collapsed": false
   },
   "outputs": [],
   "source": [
    "def NumericalDerivative(f, dx):\n",
    "    # Notice the usage of an 'anonymous' (lambda) function:\n",
    "    return lambda x: (f(x + dx) - f(x)) / dx\n",
    "\n",
    "g = NumericalDerivative(np.sin, 1.0e-3)  # should be ~cos(x)\n",
    "\n",
    "x_values = [np.pi * 0.25 * i for i in range(5)]  # 0, pi/4, pi/2, ..., 2*pi\n",
    "for x in x_values:\n",
    "    diff = g(x) - np.cos(x)\n",
    "    print('Error in approximation for cos({}) is {}.'.format(x, diff))"
   ]
  },
  {
   "cell_type": "markdown",
   "metadata": {},
   "source": [
    "## Lambda functions\n",
    "\n",
    "Notice also in the last example that we defined a lambda function inside\n",
    "of another function. Lambda functions are 'anonymous functions' that have\n",
    "a more concise syntax than ordinary Python functions (which are declared by\n",
    "the 'def' keyword). They are also more restrictive than regular functions,\n",
    "in that they are only allowed to contain a single expression. The required\n",
    "syntax is as follows:"
   ]
  },
  {
   "cell_type": "markdown",
   "metadata": {},
   "source": [
    "        lambda argument(s): expression\n"
   ]
  },
  {
   "cell_type": "markdown",
   "metadata": {},
   "source": [
    "The function itself has no name, but we can refer to it via a variable as\n",
    "in the following example:"
   ]
  },
  {
   "cell_type": "code",
   "execution_count": 10,
   "metadata": {
    "collapsed": false
   },
   "outputs": [],
   "source": [
    "func_object = lambda x: x**3"
   ]
  },
  {
   "cell_type": "markdown",
   "metadata": {},
   "source": [
    "Subsequently, we can call it like any other function:"
   ]
  },
  {
   "cell_type": "code",
   "execution_count": 11,
   "metadata": {
    "collapsed": false
   },
   "outputs": [],
   "source": [
    "print(func_object(3.0))"
   ]
  },
  {
   "cell_type": "markdown",
   "metadata": {},
   "source": [
    "Note that the number of arguments is not restricted to one, e.g.:"
   ]
  },
  {
   "cell_type": "code",
   "execution_count": 12,
   "metadata": {
    "collapsed": false
   },
   "outputs": [],
   "source": [
    "func_obj = lambda x,y : x**2+y**2\n",
    "print(func_obj(1,3))"
   ]
  },
  {
   "cell_type": "markdown",
   "metadata": {},
   "source": [
    "Why would we want to use such a function in the first place? One typical\n",
    "situation is the one encountered above, i.e., when we want to return a\n",
    "function from another function. In that situation we could also have\n",
    "defined an ordinary function inside the local scope of the outer function:"
   ]
  },
  {
   "cell_type": "code",
   "execution_count": 13,
   "metadata": {
    "collapsed": false
   },
   "outputs": [],
   "source": [
    "def numerical_derivative(f, h):\n",
    "    def inner_function(x):\n",
    "        return (f(x+h)-f(x))/h\n",
    "    return inner_function\n",
    "\n",
    "g = numerical_derivative(np.sin, 1.0e-5)"
   ]
  },
  {
   "cell_type": "markdown",
   "metadata": {},
   "source": [
    "However, the lambda expression is clearly more concise. Lambda functions\n",
    "can also be used *inline*:"
   ]
  },
  {
   "cell_type": "code",
   "execution_count": 14,
   "metadata": {
    "collapsed": false
   },
   "outputs": [],
   "source": [
    "print('Sum =', (lambda x,y : x+y)(2,3))"
   ]
  },
  {
   "cell_type": "markdown",
   "metadata": {},
   "source": [
    "## Local versus global\n",
    "\n",
    "At this point it can be worthwhile to consider how Python functions treat\n",
    "local versus global variables. For example, take a look at the following\n",
    "code:"
   ]
  },
  {
   "cell_type": "code",
   "execution_count": 15,
   "metadata": {
    "collapsed": false
   },
   "outputs": [],
   "source": [
    "x = 4\n",
    "def increment(x):\n",
    "    x += 1  # x is a local variable within the function body\n",
    "    return x\n",
    "\n",
    "increment(x)\n",
    "print(x)"
   ]
  },
  {
   "cell_type": "markdown",
   "metadata": {},
   "source": [
    "Note that the variable x set before calling the function is *not* altered\n",
    "within the function body. That is because Python assumes that a variable\n",
    "*assigned* within a function is a local variable. On the other hand, if we\n",
    "had only *referenced* x it is implicitly assumed that $x$ is a global variable:"
   ]
  },
  {
   "cell_type": "code",
   "execution_count": 16,
   "metadata": {
    "collapsed": false
   },
   "outputs": [],
   "source": [
    "x = 4\n",
    "def print_global():\n",
    "    print(x)  # Now x refers to a global varable\n",
    "print_global()"
   ]
  },
  {
   "cell_type": "markdown",
   "metadata": {},
   "source": [
    "To see this more clearly, let us define:"
   ]
  },
  {
   "cell_type": "code",
   "execution_count": 17,
   "metadata": {
    "collapsed": false
   },
   "outputs": [],
   "source": [
    "x = 4\n",
    "def print_and_increment_global():\n",
    "    print(x)\n",
    "    x = x+1\n",
    "## Uncomment this line. What happens, and why?\n",
    "##print_and_increment_global()"
   ]
  },
  {
   "cell_type": "markdown",
   "metadata": {},
   "source": [
    "You can read more these things\n",
    "[here](https://docs.python.org/3/faq/programming.html#what-are-the-rules-for-local-and-global-variables-in-python).\n",
    "\n",
    "## Be careful with mutable function arguments\n",
    "\n",
    "Suppose we wish to make a function that takes a Python list as input, and\n",
    "appends the number 9 to the end of the list, before returning it. Assume\n",
    "moreover that the input list is empty by default,i .e., if no argument is\n",
    "provided to the function. A naive implementation would be:"
   ]
  },
  {
   "cell_type": "code",
   "execution_count": 18,
   "metadata": {
    "collapsed": false
   },
   "outputs": [],
   "source": [
    "def add_nine(input_list=[]):\n",
    "    input_list.append(9)\n",
    "    return input_list"
   ]
  },
  {
   "cell_type": "markdown",
   "metadata": {},
   "source": [
    "However, if we place several successive calls to this function we get the\n",
    "following output:"
   ]
  },
  {
   "cell_type": "code",
   "execution_count": 19,
   "metadata": {
    "collapsed": false
   },
   "outputs": [],
   "source": [
    "print(add_nine())\n",
    "print(add_nine())\n",
    "print(add_nine())"
   ]
  },
  {
   "cell_type": "markdown",
   "metadata": {},
   "source": [
    "What is going on? The reason is that default parameter values used in Python\n",
    "functions are actually only evaluated once, typically at the time when the\n",
    "[module](https://www.tutorialspoint.com/python/python_modules.htm)\n",
    "containing the function is loaded. Thus, after calling the function\n",
    "the first time, Python takes the object already initialized to an empty list\n",
    "and adds an element to it, effectively changing the default parameter value\n",
    "for subsequent function calls. This is not a problem for immutable object\n",
    "types such as numbers and strings, but for lists, dictionaries etc.\n",
    "is typically causes unwanted behaviour.\n",
    "\n",
    "The recommended way of defining the function is:"
   ]
  },
  {
   "cell_type": "code",
   "execution_count": 20,
   "metadata": {
    "collapsed": false
   },
   "outputs": [],
   "source": [
    "def add_nine(input_list=None):\n",
    "    list = [] if input_list is None else input_list\n",
    "    list.append(9)\n",
    "    return list"
   ]
  },
  {
   "cell_type": "markdown",
   "metadata": {},
   "source": [
    "Now we get the behaviour that most people would expect:"
   ]
  },
  {
   "cell_type": "code",
   "execution_count": 21,
   "metadata": {
    "collapsed": false
   },
   "outputs": [],
   "source": [
    "print(add_nine())\n",
    "print(add_nine())\n",
    "print(add_nine())"
   ]
  }
 ],
 "metadata": {},
 "nbformat": 4,
 "nbformat_minor": 2
}
