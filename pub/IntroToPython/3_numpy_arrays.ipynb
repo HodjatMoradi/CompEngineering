{
 "cells": [
  {
   "cell_type": "markdown",
   "metadata": {},
   "source": [
    "<!-- dom:TITLE: Introduction to Python (MOD510): NumPy arrays (ndarray) -->\n",
    "# Introduction to Python (MOD510): NumPy arrays (ndarray)\n",
    "<!-- dom:AUTHOR: Oddbjørn Nødland -->\n",
    "<!-- Author: -->  \n",
    "**Oddbjørn Nødland**\n",
    "\n",
    "Date: **Aug 20, 2019**"
   ]
  },
  {
   "cell_type": "code",
   "execution_count": 1,
   "metadata": {
    "collapsed": false
   },
   "outputs": [],
   "source": [
    "%matplotlib inline\n",
    "\n",
    "import numpy as np\n",
    "import matplotlib.pyplot as plt"
   ]
  },
  {
   "cell_type": "markdown",
   "metadata": {},
   "source": [
    "**Summary.** The aim of this workbook is to provide a rapid introduction to Python\n",
    "NumPy array objects, and to show some examples of how you can work with\n",
    "them. Both similarities and differences between NumPy arrays and ordinary Python\n",
    "lists will be discussed.\n",
    "\n",
    "Note that only 1-dimensional examples will be given here. Multidimensional\n",
    "arrays will be covered in a separate notebook.\n",
    "\n",
    "\n",
    "\n",
    "\n",
    "\n",
    "\n",
    "\n",
    "\n",
    "## Introductory examples\n",
    "<div id=\"numpy_arrays\"></div>\n",
    "\n",
    "An alternative to using built-in Python lists are using\n",
    "[NumPy](https://www.numpy.org/) arrays (objects of the type *ndarray*).\n",
    "Most of the operations you can apply to lists, you can apply to ndarrays also.\n",
    "For example, you can access and change elements by index in exactly the same\n",
    "way, you can slice them, you can iterate over them etc.:"
   ]
  },
  {
   "cell_type": "code",
   "execution_count": 2,
   "metadata": {
    "collapsed": false
   },
   "outputs": [],
   "source": [
    "# Examples of numpy array creation and manipulation:\n",
    "\n",
    "# Create array filled with zeros:\n",
    "a = np.zeros(10)  # default: array of floats\n",
    "print('Empty numpy array of floats:', a)\n",
    "# Try to uncomment this line:\n",
    "# a[0] = 'Not allowed.'\n",
    "\n",
    "b = np.zeros(10, dtype='int')  # specify int as number type\n",
    "print('Empty numpy array of ints:', b)\n",
    "# Floats are automatically converted to ints (integer part only, not rounded):\n",
    "b[0] = 1.5\n",
    "print('Type of b[0]:', type(b[0]))\n",
    "print('After changing first entry, b=', b)\n",
    "\n",
    "first_ten_integers = np.arange(1, 11)\n",
    "for n in first_ten_integers:\n",
    "    print(n)\n",
    "\n",
    "# Create array of ones:\n",
    "c = np.ones(10)\n",
    "print('c=', c)\n",
    "\n",
    "# Fill array with a constant value:\n",
    "c.fill(42)\n",
    "print('c=', c)"
   ]
  },
  {
   "cell_type": "code",
   "execution_count": 3,
   "metadata": {
    "collapsed": false
   },
   "outputs": [],
   "source": [
    "n_arr = np.zeros(4)\n",
    "n_arr[2] = 3  # set third entry\n",
    "\n",
    "for n in n_arr:\n",
    "    print(n)\n",
    "\n",
    "sliced_array = n_arr[1:]  # access all except the first entry"
   ]
  },
  {
   "cell_type": "markdown",
   "metadata": {},
   "source": [
    "There are also many special routines that you can apply to them, e.g.:"
   ]
  },
  {
   "cell_type": "code",
   "execution_count": 4,
   "metadata": {
    "collapsed": false
   },
   "outputs": [],
   "source": [
    "# Concatenate arrays:\n",
    "x_arr = np.array([1,2,3])\n",
    "y_arr = np.array([4,5,6])\n",
    "z_arr = np.concatenate([x_arr,y_arr])\n",
    "print(z_arr)\n",
    "\n",
    "# Split array into list of subarrays:x\n",
    "x = np.arange(6)\n",
    "y = np.split(x, 3)  # divide into 3 evenly sized pieces\n",
    "print(y)\n",
    "\n",
    "# Append elelement:\n",
    "z = np.append(x, [6, 7, 8])\n",
    "print(z)\n",
    "# Note that the new elements have been added to a copy of x;\n",
    "# the latter is unchanged:\n",
    "print(x)\n",
    "\n",
    "# Reverse order:\n",
    "w = np.flip(x)\n",
    "print(w)"
   ]
  },
  {
   "cell_type": "markdown",
   "metadata": {},
   "source": [
    "While less flexible than lists in several respects, ndarrays are very useful\n",
    "for numerical computation. One reason for this is that they take up less\n",
    "space in memory; because they have a fixed size at creation, and can only\n",
    "store objects of a single type, they need to store less information than\n",
    "a corresponding list would. Indeed, if the size of an *ndarray* is\n",
    "altered during program execution, what really happens is that a new array\n",
    "is created.\n",
    "\n",
    "## Vectorization\n",
    "<div id=\"numpy_vectorization\"></div>\n",
    "\n",
    "However, the main advantage is that NumPy arrays support\n",
    "[vectorized computation](https://www.oreilly.com/library/view/python-for-data/9781449323592/ch04.html),\n",
    "meaning that we can avoid time consuming loops and call a function\n",
    "on a whole array with a single call.\n",
    "The way vectorization works is that Python makes use of optimized,\n",
    "pre-compiled C code behind the scenes, but as a Python programmer,\n",
    "you do not need to worry about all of the messy details.\n",
    "This is illustrated below:"
   ]
  },
  {
   "cell_type": "code",
   "execution_count": 5,
   "metadata": {
    "collapsed": false
   },
   "outputs": [],
   "source": [
    "# Evaluate cosine function on an entire array in one go:\n",
    "\n",
    "# 100 equidistant numbers from 0 to 2*pi:\n",
    "x_values = np.linspace(0, 2 * np.pi, 100)  # notice: NumPy version of pi\n",
    "func_eval = np.cos(x_values)  # notice: NumPy version of cos(x)\n",
    "\n",
    "# Check that the function looks as expected:\n",
    "fig_cos = plt.figure()\n",
    "plt.xlabel('x')\n",
    "plt.ylabel('y')\n",
    "plt.scatter(x_values, func_eval, label='cos(x)')\n",
    "plt.legend()\n",
    "\n",
    "# A (much) more time-consuming alternative would be to use a for loop\n",
    "# (valid for both lists and arrays):\n",
    "func_eval = []\n",
    "for x in x_values:\n",
    "    fx = np.cos(x)\n",
    "    func_eval.append(fx)"
   ]
  },
  {
   "cell_type": "markdown",
   "metadata": {},
   "source": [
    "Note the usage of *np.cos* rather than the version of the cosine function\n",
    "from the built-in [math](https://docs.python.org/3/library/math.html)\n",
    "library. NumPy provides many well-known mathematical functions such as sin,\n",
    "cos, and exp; they are examples of so-called\n",
    "[universal functions](https://docs.scipy.org/doc/numpy/reference/ufuncs.html).\n",
    "\n",
    "As is evident from the next code snippet, using vectorized computation\n",
    "on NumPy arrays instead of for loops has the potential to speed up the\n",
    "CPU time by several orders of magnitude!"
   ]
  },
  {
   "cell_type": "code",
   "execution_count": 6,
   "metadata": {
    "collapsed": false
   },
   "outputs": [],
   "source": [
    "# Python lists or numpy arrays for numerical computation?\n",
    "\n",
    "def f(x_vals):\n",
    "    return x_vals*x_vals\n",
    "\n",
    "def f2(x_vals):\n",
    "    f_eval = []\n",
    "    for x in x_vals:\n",
    "        f_eval.append(x*x)\n",
    "    return f_eval\n",
    "\n",
    "N = 100\n",
    "x_values = np.linspace(-2, 2, N)\n",
    "# Uncomment these lines (takes time...):\n",
    "#%timeit f(x_values)\n",
    "#%timeit f2(x_values)"
   ]
  },
  {
   "cell_type": "markdown",
   "metadata": {},
   "source": [
    "For simple functions only involving standard arithmetic operations,\n",
    "and/or functions provided by the NumPy library, it is easy to build\n",
    "new functions that support vectorized computation:"
   ]
  },
  {
   "cell_type": "code",
   "execution_count": 7,
   "metadata": {
    "collapsed": false
   },
   "outputs": [],
   "source": [
    "# Vectorized code for simple custom functions:\n",
    "\n",
    "def quadratic_polynomial(x, a=1, b=0, c=0):\n",
    "    \"\"\"\n",
    "    Represents a quadratic polynomial function in a single variable:\n",
    "\n",
    "        f(x)= a*x^2 + bx + c\n",
    "\n",
    "    If no coefficients are specified, by default: f(x)=x^2.\n",
    "\n",
    "    :param x: A single number given as argument to the function,\n",
    "                or else a NumPy array of values.\n",
    "    :return: f(x); either a single number or a NumPy array.\n",
    "    \"\"\"\n",
    "    return a*x*x + b*x + c\n",
    "\n",
    "x_vals = np.linspace(-2, 2, 50)  # 50 values from x=-2 to x=+2\n",
    "f_vals = quadratic_polynomial(x_vals)\n",
    "\n",
    "# Plot function:\n",
    "fig_poly2 = plt.figure()\n",
    "plt.scatter(x_vals, f_vals)\n",
    "\n",
    "def custom_function(x):\n",
    "    \"\"\"\n",
    "    A function f=f(x) that uses elementary trigonometric functions,\n",
    "    plus addition and multiplication operators.\n",
    "\n",
    "    :param x: A single number given as argument to the function,\n",
    "                or else a NumPy array of values.\n",
    "    :return: f(x); either a single number or a NumPy array.\n",
    "    \"\"\"\n",
    "    return x*np.sin(2*x)+x*x+2.0\n",
    "\n",
    "f2_vals = custom_function(x_vals)\n",
    "fig_custom_func = plt.figure()\n",
    "plt.scatter(x_vals, f2_vals)"
   ]
  },
  {
   "cell_type": "markdown",
   "metadata": {},
   "source": [
    "There are options to vectorize more complicated functions as well, though we\n",
    "will not go much into that here. As a simple example, we show you can\n",
    "define a 'split function':"
   ]
  },
  {
   "cell_type": "code",
   "execution_count": 8,
   "metadata": {
    "collapsed": false
   },
   "outputs": [],
   "source": [
    "# Example of a function that is defined differently in different domains:\n",
    "def split_function(x):\n",
    "    return np.where(x <= 0, -1.0, 1.0)\n",
    "\n",
    "f3_vals = split_function(x_vals)\n",
    "fig_split_func = plt.figure()\n",
    "plt.scatter(x_vals, f3_vals)\n",
    "\n",
    "# Visualize all three functions on [-2,2] in the same plot.\n",
    "func_plot, ax = plt.subplots()\n",
    "ax.plot(x_vals, f_vals, color='blue', linestyle='-')\n",
    "ax.plot(x_vals, f2_vals, color='red', linestyle='--')\n",
    "# note: Linear interpolation in-between points of discontinuity:\n",
    "ax.plot(x_vals, f3_vals, color='green', linestyle='-.')"
   ]
  },
  {
   "cell_type": "markdown",
   "metadata": {},
   "source": [
    "In general, working with *ndarrays* is reminiscent of working\n",
    "with vectors in mathematics, in that you can perform arithmetic\n",
    "operations on them (element-by-element) very easily, e.g.:"
   ]
  },
  {
   "cell_type": "code",
   "execution_count": 9,
   "metadata": {
    "collapsed": false
   },
   "outputs": [],
   "source": [
    "# Arithmetic on numpy arrays:\n",
    "x_vals = np.linspace(0, 1, 10)\n",
    "f1_vals = np.sqrt(x_vals)  # square root of x\n",
    "f2_vals = x_vals**2        # x squared\n",
    "\n",
    "# Add values together:\n",
    "f3_vals = f1_vals+f2_vals  # sqrt(x) + x^2\n",
    "print(f3_vals)\n",
    "\n",
    "# Multiply all values in x_vals by a scalar:\n",
    "print(2.0*x_vals)\n",
    "\n",
    "# Subtract the same number from all entries of the array:\n",
    "y_vals = x_vals - 10.0\n",
    "print(y_vals)"
   ]
  },
  {
   "cell_type": "code",
   "execution_count": 10,
   "metadata": {
    "collapsed": false
   },
   "outputs": [],
   "source": [
    "# Initialize array of zeros:\n",
    "c_arr = np.zeros(10)\n",
    "c_arr[0] = 1.0  # Set first entry\n",
    "print('Before vectorized calculation, c=', c_arr)\n",
    "# Update array:\n",
    "c_arr[1:] = c_arr[0:-1] + c_arr[1:]\n",
    "print('After vectorized calcuation update, c=', c_arr)"
   ]
  },
  {
   "cell_type": "markdown",
   "metadata": {},
   "source": [
    "For the last calculation above, we might attempt to get the same end result\n",
    "with a for loop:"
   ]
  },
  {
   "cell_type": "code",
   "execution_count": 11,
   "metadata": {
    "collapsed": false
   },
   "outputs": [],
   "source": [
    "# A slower version that supposedly does the same thing:\n",
    "c_arr = np.zeros(10)\n",
    "c_arr[0] = 1.0  # Set first entry\n",
    "print('Before calculation in for loop, c=', c_arr)\n",
    "for i in range(1, len(c_arr)):\n",
    "    c_arr[i] += c_arr[i-1]\n",
    "print('After calculation in for loop, c=', c_arr)\n",
    "# Why do we get a different result than for the vectorized code?"
   ]
  },
  {
   "cell_type": "code",
   "execution_count": 12,
   "metadata": {
    "collapsed": false
   },
   "outputs": [],
   "source": [
    "# On the other hand, this works:\n",
    "c_arr = np.zeros(10)\n",
    "c_arr[0] = 1.0  # Set first entry\n",
    "c_old = c_arr.copy()\n",
    "for i in range(1, len(c_arr)):\n",
    "    c_arr[i] = c_old[i-1] + c_old[i]\n",
    "print(c_arr)"
   ]
  },
  {
   "cell_type": "markdown",
   "metadata": {},
   "source": [
    "## Boolean indexing\n",
    "<div id=\"numpy_boolean\"></div>\n",
    "\n",
    "Another useful feature with NumPy arrays is that they allow so-called\n",
    "Boolean indexing, e.g.:"
   ]
  },
  {
   "cell_type": "code",
   "execution_count": 13,
   "metadata": {
    "collapsed": false
   },
   "outputs": [],
   "source": [
    "# Boolean indexing is possible with numpy:\n",
    "numbers = np.array([-3, -2, -1, 0, 1, 2, 3])\n",
    "print('Before:', numbers)\n",
    "\n",
    "# Replace all negative values with zero:\n",
    "number_is_negative = numbers < 0.0\n",
    "numbers[number_is_negative] = 0.0\n",
    "print('After first array modification:', numbers)\n",
    "\n",
    "# Replace all numbers divisible by 3 by zero:\n",
    "number_is_div_by_three = numbers % 3 == 0\n",
    "numbers[number_is_div_by_three] = 0.0\n",
    "print('After second array modification', numbers)"
   ]
  },
  {
   "cell_type": "markdown",
   "metadata": {},
   "source": [
    "## An important difference between *ndarrays* and lists\n",
    "<div id=\"ndarray_list_important_diffs\"></div>\n",
    "\n",
    "The observant reader might note that if we attempt to apply a slicing\n",
    "operation to a NumPy array, the behaviour is different than for Python lists:"
   ]
  },
  {
   "cell_type": "code",
   "execution_count": 14,
   "metadata": {
    "collapsed": false
   },
   "outputs": [],
   "source": [
    "# Changing a slice of an ndarray changes the original:\n",
    "x = [i for i in range(10)]\n",
    "x_arr = np.array(x)\n",
    "\n",
    "y = x[:]  # for a list, this is a (shallow) copy\n",
    "y_arr = x_arr[:]  # for a NumPy array, it is a view of the original array\n",
    "\n",
    "print('List before:', x)\n",
    "print('Array before:', x_arr)\n",
    "y[0] = 99\n",
    "y_arr[0] = 99\n",
    "print('List after:', x)\n",
    "print('Array after:', x_arr)"
   ]
  },
  {
   "cell_type": "markdown",
   "metadata": {},
   "source": [
    "If one is not aware of this, it can be the source of many hard-to-find\n",
    "bugs. For more information about slicing and indexing in NumPy, see, e.g.,\n",
    "[here](https://docs.scipy.org/doc/numpy/reference/arrays.indexing.html)."
   ]
  }
 ],
 "metadata": {},
 "nbformat": 4,
 "nbformat_minor": 2
}
