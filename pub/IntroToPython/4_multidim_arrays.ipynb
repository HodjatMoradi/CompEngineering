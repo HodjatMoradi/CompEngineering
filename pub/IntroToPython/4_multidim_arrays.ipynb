{
 "cells": [
  {
   "cell_type": "markdown",
   "metadata": {},
   "source": [
    "<!-- dom:TITLE: Introduction to Python (MOD510): Multidimensional arrays and linear algebra -->\n",
    "# Introduction to Python (MOD510): Multidimensional arrays and linear algebra\n",
    "<!-- dom:AUTHOR: Oddbjørn Nødland -->\n",
    "<!-- Author: -->  \n",
    "**Oddbjørn Nødland**\n",
    "\n",
    "Date: **Aug 20, 2019**"
   ]
  },
  {
   "cell_type": "code",
   "execution_count": 1,
   "metadata": {
    "collapsed": false
   },
   "outputs": [],
   "source": [
    "%matplotlib inline\n",
    "\n",
    "import numpy as np\n",
    "import scipy as sp\n",
    "import scipy.sparse\n",
    "import scipy.sparse.linalg\n",
    "import matplotlib.pyplot as plt"
   ]
  },
  {
   "cell_type": "markdown",
   "metadata": {},
   "source": [
    "**Summary.** The aim of this workbook is to provide a brief introduction to how one can\n",
    "work with multidimensional NumPy arrays. We end with an example of how we can\n",
    "use them to solve systems of linear equations.\n",
    "\n",
    "\n",
    "\n",
    "\n",
    "\n",
    "\n",
    "\n",
    "\n",
    "# Multidimensional NumPy arrays\n",
    "<div id=\"numpy_multidim_arrays\"></div>\n",
    "\n",
    "NumPy arrays can be used to represent matrices, which comes in very handy\n",
    "is when you need to solve a system of linear equations. However, before\n",
    "showing examples of how to do that, we provide some more general examples\n",
    "of multidimensional ndarrays:"
   ]
  },
  {
   "cell_type": "code",
   "execution_count": 2,
   "metadata": {
    "collapsed": false
   },
   "outputs": [],
   "source": [
    "# Create an empty multidimensional array with dimensions 2x3x4:\n",
    "multidim_array = np.zeros(shape=(2,3,4))\n",
    "# Fill with a constant value:\n",
    "multidim_array.fill(np.pi)\n",
    "\n",
    "# Verify shape:\n",
    "print(multidim_array.shape)\n",
    "\n",
    "# Change a specific entry:\n",
    "multidim_array[0][1][2] = 10\n",
    "print(multidim_array)\n",
    "\n",
    "# Create a 3x3 matrix of ones:\n",
    "matrix = np.ones((3,3))\n",
    "print(matrix)\n",
    "\n",
    "# Create 4x4 diagonal(identity) matrix:\n",
    "identity_matrix = np.diag([1]*4)\n",
    "print(identity_matrix)"
   ]
  },
  {
   "cell_type": "markdown",
   "metadata": {},
   "source": [
    "If you have two arrays of the exact same shape, you can easily add or multiply\n",
    "them together elementwise:"
   ]
  },
  {
   "cell_type": "code",
   "execution_count": 3,
   "metadata": {
    "collapsed": false
   },
   "outputs": [],
   "source": [
    "# Add together two one-dimensional arrays:\n",
    "arr1 = np.arange(10)\n",
    "arr2 = np.arange(10)\n",
    "print(arr1+arr2)\n",
    "\n",
    "# Add together elements of arrays element by element:\n",
    "a = np.array([[1, 0, -3], [2, 2, -4]])\n",
    "b = np.array([[-3, 1, 1], [1, 0, 3]])\n",
    "print(a+b)\n",
    "\n",
    "# Multiply elementwise:\n",
    "print(a*b)"
   ]
  },
  {
   "cell_type": "markdown",
   "metadata": {},
   "source": [
    "However, what if the arrays have different shapes?\n",
    "\n",
    "## Broadcasting of arrays (introduction)\n",
    "<div id=\"numpy_broadcasting_intro\"></div>\n",
    "\n",
    "[Broadcasting](https://docs.scipy.org/doc/numpy-1.15.0/user/basics.broadcasting.html)\n",
    "is a mechanism in NumPy for doing arithmetic computations with arrays of\n",
    "*different* shapes. If you worked through the workbook on NumPy arrays,\n",
    "you have already seen some examples of this. For example, you can multiply\n",
    "a one-dimensional array with a scalar (number):"
   ]
  },
  {
   "cell_type": "code",
   "execution_count": 4,
   "metadata": {
    "collapsed": false
   },
   "outputs": [],
   "source": [
    "vector = np.array([1, 0, -1, 4])\n",
    "lam = -1\n",
    "vector2 = lam*vector\n",
    "print(vector2)"
   ]
  },
  {
   "cell_type": "markdown",
   "metadata": {},
   "source": [
    "What happens here is essentially that first the scalar is 'broadcast' across\n",
    "the (4,) array (i.e., 4-dimensional vector) so that they have compatible\n",
    "shapes. For practical purposes, you may think of it as if first we actually\n",
    "write the following code:"
   ]
  },
  {
   "cell_type": "code",
   "execution_count": 5,
   "metadata": {
    "collapsed": false
   },
   "outputs": [],
   "source": [
    "vector = np.array([1, 0, -1, 4])\n",
    "lam = -1\n",
    "lam_arr = np.array([lam, lam, lam, lam])\n",
    "# Now, lambda is represented by an array of identical shape as the vector:\n",
    "vector2 = lam_arr*vector\n",
    "print(vector2)"
   ]
  },
  {
   "cell_type": "markdown",
   "metadata": {},
   "source": [
    "Of course, this is not what literally happens in comptuter memory, but the\n",
    "end result is the same. Slightly more advanced, we can add a matrix and a\n",
    "vector together:"
   ]
  },
  {
   "cell_type": "code",
   "execution_count": 6,
   "metadata": {
    "collapsed": false
   },
   "outputs": [],
   "source": [
    "# Add the same vector to each row of matrix:\n",
    "matrix = np.array([[0,1], [3, -1]])\n",
    "vector = np.array([1, -1])\n",
    "matrix2 = matrix + vector\n",
    "print('First matrix:', matrix)\n",
    "print('Second matrix:', matrix2)"
   ]
  },
  {
   "cell_type": "markdown",
   "metadata": {},
   "source": [
    "Conceptually, you may think of this as the same as the following code:"
   ]
  },
  {
   "cell_type": "code",
   "execution_count": 7,
   "metadata": {
    "collapsed": false
   },
   "outputs": [],
   "source": [
    "# Broadcast the one-dimensional array across each row of the larger array before adding:\n",
    "matrix = np.array([[0,1], [3, -1]])\n",
    "vector = np.array([1, -1])\n",
    "# The vector is temporarily converted to a matrix with identical rows:\n",
    "matrix_temp = np.row_stack((vector, vector))\n",
    "matrix2 = matrix + matrix_temp\n",
    "print('First matrix:', matrix)\n",
    "print('Second matrix:', matrix2)"
   ]
  },
  {
   "cell_type": "markdown",
   "metadata": {},
   "source": [
    "A frequently needed operation is to multiply a matrix by a vector.\n",
    "However, note that if we try to do this the 'obvious way' we do not get\n",
    "the answer we are familiar with from linear algebra:"
   ]
  },
  {
   "cell_type": "code",
   "execution_count": 8,
   "metadata": {
    "collapsed": false
   },
   "outputs": [],
   "source": [
    "# Attempt to multiply a matrix by a vector:\n",
    "A = np.array([[1, 0], [1,2]])\n",
    "x = np.array([1,-1])\n",
    "b = A*x\n",
    "print('b=', b)  # _not_ ordinary matrix-vector multiplication\n",
    "print(b.shape)  # also of dimensions 2x2 (!)"
   ]
  },
  {
   "cell_type": "markdown",
   "metadata": {},
   "source": [
    "Again, this is because of the broadcasting rule illustrated above: we first\n",
    "'replace' the one-dimensional *ndarray* $x$ by the a 2-by-2 array in which\n",
    "each row equals $x$. As a consequence, the result of the computation\n",
    "$b=A*x$ is an array with a shape equal to that of the 'largest' array:"
   ]
  },
  {
   "cell_type": "code",
   "execution_count": 9,
   "metadata": {
    "collapsed": false
   },
   "outputs": [],
   "source": [
    "# What is 'really happening' in the previous example:\n",
    "A = np.array([[1, 0], [1,2]])\n",
    "x = np.array([1,-1])\n",
    "x_matrix = np.row_stack((x,x))\n",
    "b = A*x_matrix\n",
    "print('b=', b)"
   ]
  },
  {
   "cell_type": "markdown",
   "metadata": {},
   "source": [
    "The proper way to do matrix-vector multiplication, or matrix-matrix\n",
    "multiplication, is by calling the *dot*-function:"
   ]
  },
  {
   "cell_type": "code",
   "execution_count": 10,
   "metadata": {
    "collapsed": false
   },
   "outputs": [],
   "source": [
    "# Use np.dot to do matrix-vector calculations:\n",
    "A = np.array([[1, 0], [1,2]])\n",
    "x = np.array([1,-1])\n",
    "b = np.dot(A,x)\n",
    "print('b=', b)\n",
    "\n",
    "I = np.diag([1, 1])\n",
    "print('A*I=', np.dot(A,I))"
   ]
  },
  {
   "cell_type": "markdown",
   "metadata": {},
   "source": [
    "We will come back to this further below.\n",
    "\n",
    "## More advanced broadcasting\n",
    "<div id=\"numpy_broadcasting_advanced\"></div>\n",
    "\n",
    "In the examples considered so far, it was very easy how we could extend one\n",
    "of the arrays to match the shape of the other, larger array. However,\n",
    "suppose we wish to add a 'row vector' to a 'column vector':"
   ]
  },
  {
   "cell_type": "code",
   "execution_count": 11,
   "metadata": {
    "collapsed": false
   },
   "outputs": [],
   "source": [
    "# Example of more advanced broadcasting of numpy arrays:\n",
    "a = np.arange(4)  # default: shape (4,) <-- \"row vector\"\n",
    "b = np.arange(4).reshape((4,1))  # shape (4,1) <-- \"column vector\"\n",
    "c = a+b\n",
    "\n",
    "print('a=', a)\n",
    "print('b=', b)\n",
    "print('a+b=', c)\n",
    "print(c.shape)  # get (4,4) array"
   ]
  },
  {
   "cell_type": "markdown",
   "metadata": {},
   "source": [
    "Here both arrays $a$ and $b$ have been broadcast to a larger shape, so as\n",
    "to make the dimensions consistent:"
   ]
  },
  {
   "cell_type": "code",
   "execution_count": 12,
   "metadata": {
    "collapsed": false
   },
   "outputs": [],
   "source": [
    "# The above code is equivalent to:\n",
    "a_temp = np.row_stack((a, a, a, a))\n",
    "b_temp = np.column_stack((b, b, b, b))\n",
    "c = a_temp + b_temp\n",
    "print(c)"
   ]
  },
  {
   "cell_type": "markdown",
   "metadata": {},
   "source": [
    "In general, broadcasting works by following these rules:\n",
    "\n",
    "* Whenever two arrays differ in the *number* of dimensions, the shape of the one with fewer dimensions is padded with ones on its left-hand side.\n",
    "\n",
    "* If the number of dimensions is the same, but the value of a given dimension is different for the two arrays, the array with shape equal to 1 in that dimension is stretched to match the other shape.\n",
    "\n",
    "* If in any dimension the sizes disagree *and* neither of them is equal to 1, the arrays are incompatible and cannot be broadcast together. An error is raised.\n",
    "\n",
    "For the previous example, we can break the process down as follows:\n",
    "* First, the shapes of the two arrays were (4,) and (4,1). Since the first array has only one dimension, while the second has two, we reshape the first two have shape (1,4).\n",
    "\n",
    "* Now the arrays have shapes (1,4) and (4,1). Since $1\\neq{4}$, we first change the (1,4)-array to a (4,4)-array so that they match in the first dimension. This is achieved by 'copying entries' along that dimension.\n",
    "\n",
    "* The arrays still disagree in the second dimension, hence we extend the array with shape (4,1) to an array with shape (4,4).\n",
    "\n",
    "* Finally, the resulting arrays have exactly the same shapes, so we can add them element-by-element.\n",
    "\n",
    "We can pad the shape of an array on the *right* as follows:"
   ]
  },
  {
   "cell_type": "code",
   "execution_count": 13,
   "metadata": {
    "collapsed": false
   },
   "outputs": [],
   "source": [
    "# Adding a dimension to an array:\n",
    "original_array = np.linspace(0, 1, 10)\n",
    "print(original_array.shape)\n",
    "new_array = original_array[:, np.newaxis]\n",
    "print(new_array.shape)\n",
    "another_array = new_array[:, np.newaxis]\n",
    "print(another_array.shape)"
   ]
  },
  {
   "cell_type": "markdown",
   "metadata": {},
   "source": [
    "Do you understand the following code?"
   ]
  },
  {
   "cell_type": "code",
   "execution_count": 14,
   "metadata": {
    "collapsed": false
   },
   "outputs": [],
   "source": [
    "arr1 = np.ones((4,3))\n",
    "arr2 = np.arange(4)\n",
    "arr3 = arr2[:, np.newaxis]\n",
    "res = arr1+arr3\n",
    "print(res)\n",
    "# Try and uncomment the next line. Why does it not work?\n",
    "# res2 = arr1+arr2"
   ]
  },
  {
   "cell_type": "markdown",
   "metadata": {},
   "source": [
    "# Linear algebra using NumPy and/or SciPy\n",
    "<div id=\"numpy_scipy_linalg\"></div>\n",
    "\n",
    "Both the NumPy library and the associated\n",
    "[SciPy](https://docs.scipy.org/doc/scipy/reference/) library have\n",
    "extensive functionality for performing various mathematical operations\n",
    "on *ndarrays*. It is generally recommended to import both libraries\n",
    "when you need access to such numerical operations.\n",
    "\n",
    "We have already seen that you can represent matrices as two-dimensional\n",
    "numpy arrays:"
   ]
  },
  {
   "cell_type": "code",
   "execution_count": 15,
   "metadata": {
    "collapsed": false
   },
   "outputs": [],
   "source": [
    "# Representing a 3x3 matrix as an ndarray:\n",
    "A = np.zeros(shape=(3,3))\n",
    "for i in range(3):\n",
    "    A[i][i] = 1.0  # Create identity matrix\n",
    "\n",
    "print(A)\n",
    "\n",
    "# Alternative way:\n",
    "A = np.zeros([3, 3])\n",
    "for i in range(3):\n",
    "    A[i][i] = 1.0\n",
    "\n",
    "print(A)\n",
    "\n",
    "# Simplest way (in this case):\n",
    "A = np.diag([1]*3)\n",
    "print(A)"
   ]
  },
  {
   "cell_type": "code",
   "execution_count": 16,
   "metadata": {
    "collapsed": false
   },
   "outputs": [],
   "source": [
    "# Create 5x5 matrix filled with ones:\n",
    "B = np.ones([5, 5])\n",
    "print(B)\n",
    "\n",
    "# Create matrix from list of lists:\n",
    "A = np.array([[1, 2, 3], [4, 5, 6], [7, 8, 9]])\n",
    "print(A)\n",
    "\n",
    "# Create 'empty' array (values filled in by whatever is in memory):\n",
    "C = np.empty(shape=(2, 2))\n",
    "print(C)\n",
    "# Fill with constant value:\n",
    "C.fill(42.0)\n",
    "print(C)"
   ]
  },
  {
   "cell_type": "markdown",
   "metadata": {},
   "source": [
    "If we want to do compute the square of a quadratic matrix, we could do it\n",
    "the 'hard way':"
   ]
  },
  {
   "cell_type": "code",
   "execution_count": 17,
   "metadata": {
    "collapsed": false
   },
   "outputs": [],
   "source": [
    "# Compute the square of a matrix the hard way:\n",
    "mat = np.array([[1, 2, 3], [-1, 0, 3], [4, 1.0, -2]])\n",
    "\n",
    "def calc_matrix_squared(A):\n",
    "    A_squared = np.zeros_like(A)\n",
    "    num_rows, num_cols = A.shape\n",
    "    for i in range(num_rows):\n",
    "        for j in range(num_cols):\n",
    "            s = 0.0\n",
    "            for k in range(num_cols):\n",
    "                s += A[i][k]*A[k][j]\n",
    "            A_squared[i][j] = s\n",
    "    return A_squared\n",
    "mat_sq = calc_matrix_squared(mat)\n",
    "#%timeit mat_sq = calc_matrix_squared(mat)\n",
    "print(mat_sq)"
   ]
  },
  {
   "cell_type": "markdown",
   "metadata": {},
   "source": [
    "However, as seen above, we can use the np.dot function to do this in a much\n",
    "more compact (and faster!) way:"
   ]
  },
  {
   "cell_type": "code",
   "execution_count": 18,
   "metadata": {
    "collapsed": false
   },
   "outputs": [],
   "source": [
    "mat2 = np.dot(mat, mat)\n",
    "#%timeit mat2 = np.dot(mat, mat)\n",
    "print(mat2)"
   ]
  },
  {
   "cell_type": "markdown",
   "metadata": {},
   "source": [
    "That the second version is much more efficient speedwise can be verified by\n",
    "uncommenting the lines with *timeit*, and comparing the reported average\n",
    "numbers.\n",
    "\n",
    "The following code exemplifies how one can solve a linear system\n",
    "of equations:"
   ]
  },
  {
   "cell_type": "code",
   "execution_count": 19,
   "metadata": {
    "collapsed": false
   },
   "outputs": [],
   "source": [
    "# Example of how to solve a linear equation A*x=b:\n",
    "'''\n",
    "Simple toy example: 2 equations in 2 unknowns\n",
    "\n",
    "    2x0+x1 = 11\n",
    "    x0-x1 = -2\n",
    "'''\n",
    "A = np.array([[2, 1], [1, -1]])\n",
    "b = np.array([11, -2])\n",
    "x = sp.linalg.solve(A, b)\n",
    "print('Solving A*x=b')\n",
    "print('x0={}, x1={}.'.format(x[0], x[1]))"
   ]
  },
  {
   "cell_type": "markdown",
   "metadata": {},
   "source": [
    "In some situations such linear systems feature thousands, if not millions,\n",
    "of equations and variables that have to be set up and solved repeatedly\n",
    "during a single run of a program. Needless to say, this can be a bottleneck\n",
    "when it comes to use of CPU time. However, if only a few the matrix entries\n",
    "are known to be non-zero, the usage of\n",
    "[sparse matrices](https://docs.scipy.org/doc/scipy/reference/sparse.html)\n",
    "could help to speed up the process."
   ]
  }
 ],
 "metadata": {},
 "nbformat": 4,
 "nbformat_minor": 2
}
