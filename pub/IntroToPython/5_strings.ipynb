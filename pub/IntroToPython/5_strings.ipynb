{
 "cells": [
  {
   "cell_type": "markdown",
   "metadata": {},
   "source": [
    "<!-- dom:TITLE: Introduction to Python (MOD510): Strings -->\n",
    "# Introduction to Python (MOD510): Strings\n",
    "<!-- dom:AUTHOR: Oddbjørn Nødland -->\n",
    "<!-- Author: -->  \n",
    "**Oddbjørn Nødland**\n",
    "\n",
    "Date: **Aug 20, 2019**\n",
    "\n",
    "**Summary.**\n",
    "The aim of this workbook is to provide a rapid introduction to Python\n",
    "string objects, and to show some examples of how you can work with them.\n",
    "\n",
    "\n",
    "\n",
    "\n",
    "Python strings (*str* objects) are immutable objects. They can be created\n",
    "using either single, double, or triple quotes, though the former is often\n",
    "recommended practice. Only some very simple examples of usage are provided\n",
    "here; for more information see, e.g., the\n",
    "[official documentation](https://docs.python.org/3/library/stdtypes.html#text-sequence-type-str)."
   ]
  },
  {
   "cell_type": "code",
   "execution_count": 1,
   "metadata": {
    "collapsed": false
   },
   "outputs": [],
   "source": [
    "# String creation and basic manipulation:\n",
    "text = 'We are all individuals!'\n",
    "text2 = \"We are all individuals!\"\n",
    "text3 = \"\"\"We are all individuals!\"\"\"\n",
    "\n",
    "if text == text2:\n",
    "    # example: use double quotes for string if you want to use single quotes in the string itself.\n",
    "    print(\"The two strings 'text' and 'text2' are identical.\")\n",
    "if text == text3:\n",
    "    # We can of course do it the other way around too:\n",
    "    print('The two strings \"text\" and \"text3\" are identical.')\n",
    "\n",
    "print('Length of text =', len(text))  # includes whitespace\n",
    "\n",
    "# A number also has a string representation:\n",
    "y = 1234\n",
    "y_as_string = str(y)\n",
    "print(y_as_string)\n",
    "print('y_as_string is an object of type:', type(y_as_string))"
   ]
  },
  {
   "cell_type": "code",
   "execution_count": 2,
   "metadata": {
    "collapsed": false
   },
   "outputs": [],
   "source": [
    "# We can use triple quotes for string spanning multiple lines:\n",
    "multiple_lines_of_text = \"\"\"This\n",
    "is a\n",
    "string\n",
    "spanning\n",
    "multiple\n",
    "lines.\"\"\"\n",
    "print(multiple_lines_of_text)\n",
    "print('Number of characters: {:d}.'.format(len(multiple_lines_of_text)))\n",
    "\n",
    "# See the “official” string representation (includes hidden newline characters, space, etc.):\n",
    "print(repr(multiple_lines_of_text))\n",
    "\n",
    "# Another way:\n",
    "long_text = ('This '\n",
    "          'is '\n",
    "          'a '\n",
    "          'string '\n",
    "          'spanning '\n",
    "          'multiple '\n",
    "          'lines.')\n",
    "print(long_text)\n",
    "print('Number of characters: {:d}.'.format(len(long_text)))\n",
    "print(repr(long_text))\n",
    "\n",
    "# The two strings are _NOT_ the same if you compare them for equality:\n",
    "print(multiple_lines_of_text==long_text)\n",
    "# Why not?"
   ]
  },
  {
   "cell_type": "code",
   "execution_count": 3,
   "metadata": {
    "collapsed": false
   },
   "outputs": [],
   "source": [
    "# Replace each occurrence of a string with another:\n",
    "first_string = 'All we hear is radio ga ga.'\n",
    "second_string = first_string.replace('ga', 'goo')\n",
    "print(first_string)\n",
    "print(second_string)"
   ]
  },
  {
   "cell_type": "code",
   "execution_count": 4,
   "metadata": {
    "collapsed": false
   },
   "outputs": [],
   "source": [
    "# Can use 'join' to rapidly collect a sequence of strings into a new one:\n",
    "list_of_words = ['This', 'is', 'a', 'complete', 'sentence.']\n",
    "# Separate the words by a single whitespace:\n",
    "sentence = ' '.join(list_of_words)\n",
    "print(sentence)\n",
    "\n",
    "list_of_things = ['rock', 'paper', 'scissors']\n",
    "# Separate words by comma followed by a whitespace:\n",
    "print(', '.join(list_of_things))"
   ]
  },
  {
   "cell_type": "code",
   "execution_count": 5,
   "metadata": {
    "collapsed": false
   },
   "outputs": [],
   "source": [
    "# Convert to all upper / lower case:\n",
    "s = 'Caps lock'.upper()\n",
    "print(s)\n",
    "\n",
    "s = 'lOWeR caSe'.lower()\n",
    "print(s)"
   ]
  },
  {
   "cell_type": "code",
   "execution_count": 6,
   "metadata": {
    "collapsed": false
   },
   "outputs": [],
   "source": [
    "# Check if string starts with specific substring:\n",
    "text = 'The Knights Who Say Ni demand a sacrifice!'\n",
    "if text.startswith('The'):\n",
    "    print(\"The sentence starts with 'the'\")\n",
    "\n",
    "# Search for first occurrence (index) of substring of a string:\n",
    "string = 'That is the question, whether \"tis nobler in the mind to suffer slings and arrows...\"'\n",
    "idx = string.find('slings and arrows')\n",
    "if idx > 0:  # find returns -1 if no occurrences are present.\n",
    "    print(string[idx:])"
   ]
  },
  {
   "cell_type": "code",
   "execution_count": 7,
   "metadata": {
    "collapsed": false
   },
   "outputs": [],
   "source": [
    "# Access first substring (character):\n",
    "text = 'We are all individuals!'\n",
    "a = text[0]\n",
    "print('The first letter in the sentence is', a)\n",
    "\n",
    "# Slice string:\n",
    "subtext = text[7:11]\n",
    "print(subtext)\n",
    "\n",
    "# Split string into list (separated by whitespace):\n",
    "text_list = text.split()\n",
    "print(text_list)\n",
    "\n",
    "# Concatenate strings using a for loop (list comprehension):\n",
    "text_built_from_words = ''\n",
    "for word in text_list:\n",
    "    # NB! Creates a new string object each time:\n",
    "    text_built_from_words += word\n",
    "print(text_built_from_words)  # notice no whitespace\n",
    "\n",
    "# Again, a more 'Pythonic' way to achieve the same effect is to use 'join':\n",
    "text_built_from_words = ''.join(text_list)\n",
    "print(text_built_from_words)\n",
    "\n",
    "comma_separated_string = 'These,words,are,separated,by,commas,only'\n",
    "word_list = comma_separated_string.split(',')\n",
    "print(word_list)"
   ]
  },
  {
   "cell_type": "markdown",
   "metadata": {},
   "source": [
    "For historical reasons, [there are a multitude of ways to format strings in Python](https://realpython.com/python-string-formatting/). Some examples of how to\n",
    "use the old [*C-style* kind of\n",
    "formatting](https://docs.python.org/2.4/lib/typesseq-strings.html) is shown\n",
    "below:"
   ]
  },
  {
   "cell_type": "code",
   "execution_count": 8,
   "metadata": {
    "collapsed": false
   },
   "outputs": [],
   "source": [
    "# Examples of C-style formatting of strings:\n",
    "g = 9.81\n",
    "\n",
    "# Display as float with two significant digits:\n",
    "msg1 = 'The constant of gravitational acceleration is %.2f m/s^2.' % g\n",
    "print(msg1)\n",
    "\n",
    "# Display as float with one significant digit:\n",
    "msg2 = 'The constant of gravitational acceleration is %.1f m/s^2.' % g\n",
    "print(msg2)\n",
    "\n",
    "person_1 = 'John'\n",
    "person_2 = 'Terry'\n",
    "msg3 = '%s is better than %s at being silly.' % (person_1, person_2)\n",
    "print(msg3)"
   ]
  },
  {
   "cell_type": "markdown",
   "metadata": {},
   "source": [
    "An alternative method to print the same strings to screen could be to use the\n",
    "*str.format* functionality introduced in Python 2.6:"
   ]
  },
  {
   "cell_type": "code",
   "execution_count": 9,
   "metadata": {
    "collapsed": false
   },
   "outputs": [],
   "source": [
    "# Examples of str.format:\n",
    "g = 9.81\n",
    "\n",
    "msg4 = 'The constant of gravitational acceleration is {:.2f} m/s^2.'.format(g)\n",
    "print(msg4)\n",
    "\n",
    "msg5 = 'The constant of gravitational acceleration is {:.1f} m/s^2.'.format(g)\n",
    "\n",
    "person_1 = 'John'\n",
    "person_2 = 'Terry'\n",
    "msg6 = '{} is better than {} at being silly.'.format(person_1, person_2)\n",
    "print(msg6)\n",
    "\n",
    "# Check that the two ways to define the strings are the same:\n",
    "print(msg1==msg4)\n",
    "print(msg2==msg5)\n",
    "print(msg3==msg6)"
   ]
  },
  {
   "cell_type": "code",
   "execution_count": 10,
   "metadata": {
    "collapsed": false
   },
   "outputs": [],
   "source": [
    "# Padding and aligning strings example:\n",
    "text1 = '%10s' % ('text',)  # use field of 10 characters\n",
    "# defaults to right-aligment in the 'old style'\n",
    "print(text1)\n",
    "\n",
    "# defaults to left-alignment in new...\n",
    "text2 = '{:10}'.format('text')\n",
    "print(text2)\n",
    "# Therefore, the two strings are not equal:\n",
    "print(text1==text2)\n",
    "\n",
    "text3 = '{:>10}'.format('text')  # <-- now both are right-aligned\n",
    "print(text3)\n",
    "print(text1==text3)"
   ]
  },
  {
   "cell_type": "markdown",
   "metadata": {},
   "source": [
    "For yet more advanced treatment of strings, one could delve into topics such\n",
    "as [regular expressions](https://docs.python.org/3/library/re.html). Also,\n",
    "sooner or later most programmers will hit upon problems related to using\n",
    "[different character sets](https://www.joelonsoftware.com/2003/10/08/the-absolute-minimum-every-software-developer-absolutely-positively-must-know-about-unicode-and-character-sets-no-excuses/).\n",
    "These topics are, however, beyond the scope of this course."
   ]
  }
 ],
 "metadata": {},
 "nbformat": 4,
 "nbformat_minor": 2
}
