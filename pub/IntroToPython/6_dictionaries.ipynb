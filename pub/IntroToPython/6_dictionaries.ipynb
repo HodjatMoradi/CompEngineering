{
 "cells": [
  {
   "cell_type": "markdown",
   "metadata": {},
   "source": [
    "<!-- dom:TITLE: Introduction to Python (MOD510): Dictionaries -->\n",
    "# Introduction to Python (MOD510): Dictionaries\n",
    "<!-- dom:AUTHOR: Oddbjørn Nødland -->\n",
    "<!-- Author: -->  \n",
    "**Oddbjørn Nødland**\n",
    "\n",
    "Date: **Aug 20, 2019**\n",
    "\n",
    "**Summary.** The aim of this workbook is to provide a rapid introduction to Python\n",
    "dictionary objects, and to show some examples of how you can work with them.\n",
    "\n",
    "\n",
    "\n",
    "\n",
    "\n",
    "\n",
    "\n",
    "\n",
    "## Dictionaries\n",
    "<div id=\"dictionaries\"></div>\n",
    "\n",
    "A very useful built-in Python class is the dictionary. Often referred\n",
    "to as an (unordered) 'associative array', a dictionary consists\n",
    "of *(key, value)* pairs, where the key can be any *immutable* object\n",
    "type, and values can be any object (mutable or immutable). Thus, lists are\n",
    "not allowed as keys, but numbers and strings are."
   ]
  },
  {
   "cell_type": "code",
   "execution_count": 1,
   "metadata": {
    "collapsed": false
   },
   "outputs": [],
   "source": [
    "# Python dictionaries: Examples of usage\n",
    "\n",
    "# Create empty dictionary:\n",
    "abc = {}\n",
    "\n",
    "# Insert a few entries, using strings as both keys and values:\n",
    "abc['aardvark'] = 'Medium-sized insectivore with protruding nasal implement.'\n",
    "abc['dog'] = 'Not a cat.'\n",
    "abc['sausage'] = 'Not defined.'\n",
    "\n",
    "print('Number of words in dictionary: ', len(abc))\n",
    "\n",
    "# For any given dictionary, each key must be unique.\n",
    "abc['dog'] = 'A domesticated carnivorous mammal that typically has a long ' \\\n",
    "             'snout, an acute sense of smell, non-retractable claws, and a ' \\\n",
    "             'barking, howling, or whining voice.'\n",
    "\n",
    "# Now we have overwritten the previous entry:\n",
    "print(abc['dog'])"
   ]
  },
  {
   "cell_type": "code",
   "execution_count": 2,
   "metadata": {
    "collapsed": false
   },
   "outputs": [],
   "source": [
    "# Loop through dictionary, and print the (key, value) pairs:\n",
    "for key in abc:\n",
    "    print(key + ': ' + abc[key])\n",
    "\n",
    "# Another method for doing the same:\n",
    "for key, value in abc.items():\n",
    "    print(key + ': ' + value)"
   ]
  },
  {
   "cell_type": "code",
   "execution_count": 3,
   "metadata": {
    "collapsed": false
   },
   "outputs": [],
   "source": [
    "# Search for keys in the dictionary:\n",
    "words_to_search_for = ['dog', 'cat', 'compunctious']\n",
    "\n",
    "for word in words_to_search_for:\n",
    "    if word in abc:\n",
    "        print('The word {} was found in the dictionary.'.format(word))\n",
    "    else:\n",
    "        print('The word {} was not found in the dictionary.'.format(word))"
   ]
  },
  {
   "cell_type": "code",
   "execution_count": 4,
   "metadata": {
    "collapsed": false
   },
   "outputs": [],
   "source": [
    "# Another way of creating a dictionary is to explicitly list the key-value pairs:\n",
    "prime_numbers = {1: 2, 2: 3, 3:5, 4: 7, 5:11, 6:13, 7:17, 8: 19, 9:23, 10:29}\n",
    "\n",
    "for key, value in prime_numbers.items():\n",
    "    # Here we use int as both key and value:\n",
    "    print('Prime number #{:d}={:d}.'.format(key,value))"
   ]
  },
  {
   "cell_type": "code",
   "execution_count": 5,
   "metadata": {
    "collapsed": false
   },
   "outputs": [],
   "source": [
    "# Example of a dictionary with mixed key / value types:\n",
    "dictionary = {1: 42, 'hello' : 'goodbye', 3.14159: 'Ekki-Ekki-Ekki-Ekki-PTANG'}\n",
    "\n",
    "for k, v in dictionary.items():\n",
    "    print('Key {} is of type {}.'.format(k, type(k)))\n",
    "    print('Value {} is of type {}.'.format(v, type(v)))\n",
    "\n",
    "# Lists and dictionaries:\n",
    "my_list = [int(0.5*(i*(i+1))) for i in range(1, 11)]\n",
    "print(my_list)\n",
    "\n",
    "# It is allowed to use mutable objects as values of a dictionary:\n",
    "dictionary[1999] = my_list\n",
    "# Try to uncomment this to see what happens:\n",
    "#dictionary[my_list] = 'I wonder what will happen...'"
   ]
  },
  {
   "cell_type": "markdown",
   "metadata": {},
   "source": [
    "Like lists, dictionaries are mutable objects:"
   ]
  },
  {
   "cell_type": "code",
   "execution_count": 6,
   "metadata": {
    "collapsed": false
   },
   "outputs": [],
   "source": [
    "# Be careful when different variables refer to the same dictionary!\n",
    "my_dict1 = {1: 'First', 2: 'Second', 3: 'Third'}\n",
    "# my_dict2 refers to the _same_ object in memory as my_dict1:\n",
    "my_dict2 = my_dict1\n",
    "my_dict2[2] = 'Andre'\n",
    "print(my_dict1)"
   ]
  },
  {
   "cell_type": "markdown",
   "metadata": {},
   "source": [
    "As the above code snippets illustrate, the common operations to use are\n",
    "to store / fetch values by an appropriate key. You can also delete entries\n",
    "in the dictionary:"
   ]
  },
  {
   "cell_type": "code",
   "execution_count": 7,
   "metadata": {
    "collapsed": false
   },
   "outputs": [],
   "source": [
    "# Clear dictionary:\n",
    "dictionary.clear()\n",
    "\n",
    "# Insert a new entry:\n",
    "dictionary[1] = 'Notlob'\n",
    "dictionary[2] = 'Ipswich'\n",
    "\n",
    "# Print contents of dictionary:\n",
    "print(dictionary)\n",
    "\n",
    "# Delete specific entry by key:\n",
    "if 1 in dictionary:\n",
    "    del dictionary[1]\n",
    "\n",
    "# Only one entry remains:\n",
    "print(dictionary)"
   ]
  },
  {
   "cell_type": "markdown",
   "metadata": {},
   "source": [
    "As another example of what you can do, the following code illustrates\n",
    "how one can merge dictionaries together:"
   ]
  },
  {
   "cell_type": "code",
   "execution_count": 8,
   "metadata": {
    "collapsed": false
   },
   "outputs": [],
   "source": [
    "# Merge two dictionaries:\n",
    "d1 = {}\n",
    "d2 = {}\n",
    "\n",
    "N = 10\n",
    "\n",
    "# Create two dictionaries with no keys in common:\n",
    "for i in range(N):\n",
    "    d1[2*(i+1)]=2*(i+1)  # keys and values are even numbers\n",
    "    d2[2*i+1] = 2*i+1  # keys and values are odd numbers\n",
    "\n",
    "print('d1 dictionary:', d1)\n",
    "print('d2 dictionary:', d2)\n",
    "\n",
    "# Update the first dictionary by adding elements from the second:\n",
    "d1.update(d2)\n",
    "print('Updated d1 dictionary:', d1)\n",
    "\n",
    "# Question: What happens if you attempt to write d3 = d1.update(d2) instead?\n",
    "\n",
    "# Merge dictionaries with at least one key in common:\n",
    "d1 = {1: 2, 2:4}\n",
    "d2 = {1: 3}\n",
    "d3 = d1.copy()\n",
    "\n",
    "d1.update(d2)  # replaces overlapping key(s) with d2 version(s)\n",
    "print(d1)\n",
    "\n",
    "d2.update(d3)  # replaces overlapping key(s) with d3 version(s)\n",
    "print(d2)"
   ]
  }
 ],
 "metadata": {},
 "nbformat": 4,
 "nbformat_minor": 2
}
