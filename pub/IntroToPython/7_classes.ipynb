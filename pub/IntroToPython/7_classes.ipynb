{
 "cells": [
  {
   "cell_type": "markdown",
   "metadata": {},
   "source": [
    "<!-- dom:TITLE: Introduction to Python (MOD510): Classes -->\n",
    "# Introduction to Python (MOD510): Classes\n",
    "<!-- dom:AUTHOR: Oddbjørn Nødland -->\n",
    "<!-- Author: -->  \n",
    "**Oddbjørn Nødland**\n",
    "\n",
    "Date: **Aug 20, 2019**"
   ]
  },
  {
   "cell_type": "code",
   "execution_count": 1,
   "metadata": {
    "collapsed": false
   },
   "outputs": [],
   "source": [
    "%matplotlib inline\n",
    "\n",
    "import numpy as np\n",
    "import math\n",
    "import matplotlib.pyplot as plt"
   ]
  },
  {
   "cell_type": "markdown",
   "metadata": {},
   "source": [
    "**Summary.** The aim of this workbook is to provide a rapid introduction to creating\n",
    "your own Python classes.\n",
    "\n",
    "\n",
    "\n",
    "\n",
    "\n",
    "\n",
    "\n",
    "\n",
    "## Creating custom classes\n",
    "\n",
    "In addition to built-in object types and those shipped with\n",
    "installable libraries, it is easy to create your own custom classes\n",
    "in Python. Sometimes you will simply want to do this for code\n",
    "reusability reasons.\n",
    "In other situations, you may want to structure your entire code\n",
    "base in an\n",
    "[Object-Oriented-Programming (OOP)](https://en.wikipedia.org/wiki/Object-oriented_programming)\n",
    "manner.\n",
    "\n",
    "Consider the following piece of code:"
   ]
  },
  {
   "cell_type": "code",
   "execution_count": 2,
   "metadata": {
    "collapsed": false
   },
   "outputs": [],
   "source": [
    "class Person:\n",
    "\n",
    "    def __init__(self, name):\n",
    "        self.name = name\n",
    "\n",
    "    def __str__(self):\n",
    "        return self.name"
   ]
  },
  {
   "cell_type": "markdown",
   "metadata": {},
   "source": [
    "The usage of the *class* statement tells Python that we wish to define a new\n",
    "class. Here, our class only consists of two methods (class functions), both\n",
    "of which are special in some way (they are reserved methods):\n",
    "\n",
    "* *init* is the class constructor, which is called once a particular instance (object) of the class (object type, or 'blueprint') is created.\n",
    "\n",
    "* *str* is used to provide a human readable string as output when applying a print statement to an object of the class.\n",
    "\n",
    "Here is an example of how to use the class:"
   ]
  },
  {
   "cell_type": "code",
   "execution_count": 3,
   "metadata": {
    "collapsed": false
   },
   "outputs": [],
   "source": [
    "bill = Person('Bill')\n",
    "steve = Person('Steve')\n",
    "print(bill)\n",
    "print(steve)"
   ]
  },
  {
   "cell_type": "markdown",
   "metadata": {},
   "source": [
    "## Class variables versus instance variables\n",
    "\n",
    "Notice that both class methods include *self* as the first argument.\n",
    "This is Python's way for for an object to refer to itself, and to\n",
    "distinguish between *class variables* and *instance variables*: While the\n",
    "former are shared among all instances of a class, and therefore occupies\n",
    "the same space in computer memory, the latter are different for each\n",
    "particular object created of that class.\n",
    "\n",
    "Class variables are assigned at the top level of a class statement, and\n",
    "typically also right after the class statement, e.g.:"
   ]
  },
  {
   "cell_type": "code",
   "execution_count": 4,
   "metadata": {
    "collapsed": false
   },
   "outputs": [],
   "source": [
    "class Student:\n",
    "\n",
    "    number_of_students = 0  # this is a class (shared) attribute\n",
    "\n",
    "    def __init__(self, name):\n",
    "        self.name = name  # this is an instance attribute\n",
    "        Student.number_of_students += 1\n",
    "\n",
    "    def __str__(self):\n",
    "        return self.name"
   ]
  },
  {
   "cell_type": "markdown",
   "metadata": {},
   "source": [
    "While the Person class had a single instance variable and no class variables,\n",
    "the Student class has one of each. Notice that if we wish to change the\n",
    "class variable inside a method, we can call it by first writing the class name.\n",
    "Once we have created specific instances of the class (i.e., objects), we\n",
    "can refer to class variables either via the individual objects, or again by\n",
    "the class:"
   ]
  },
  {
   "cell_type": "code",
   "execution_count": 5,
   "metadata": {
    "collapsed": false
   },
   "outputs": [],
   "source": [
    "student1 = Student('Eric')\n",
    "student2 = Student('John')\n",
    "print(Student.number_of_students)\n",
    "print(student1.number_of_students)"
   ]
  },
  {
   "cell_type": "markdown",
   "metadata": {},
   "source": [
    "It is also possible to create class methods or static methods:"
   ]
  },
  {
   "cell_type": "code",
   "execution_count": 6,
   "metadata": {
    "collapsed": false
   },
   "outputs": [],
   "source": [
    "class Thing:\n",
    "\n",
    "    number_of_things = 0\n",
    "    info_messages_printed = 0\n",
    "\n",
    "    def __init__(self, name):\n",
    "        self.name_of_thing = name\n",
    "        Thing.number_of_things += 1\n",
    "\n",
    "    @classmethod\n",
    "    def info(cls):  # for these methods we use cls instead of self\n",
    "        print('There are {:d} things.'.format(Thing.number_of_things))\n",
    "        # We can modify class attributes inside a class method, but not instance attributes:\n",
    "        Thing.info_messages_printed += 1\n",
    "        # Try to uncomment the next line:\n",
    "        #self.name_of_thing = 'Unnamed'\n",
    "\n",
    "    @staticmethod\n",
    "    def do_nothing():\n",
    "        # these functions can neither alter class nor object state.\n",
    "        return"
   ]
  },
  {
   "cell_type": "code",
   "execution_count": 7,
   "metadata": {
    "collapsed": false
   },
   "outputs": [],
   "source": [
    "book = Thing('Book')\n",
    "computer = Thing('Computer')\n",
    "Thing.info()\n",
    "Thing.do_nothing()"
   ]
  },
  {
   "cell_type": "markdown",
   "metadata": {},
   "source": [
    "Instance variables are referenced via *self* (we could actually use a different\n",
    "word than 'self', but it has become the accepted standard). *self* is also\n",
    "used for a particular object to call its own methods (functions).\n",
    "This is illustrated below, in a somewhat more interesting example:"
   ]
  },
  {
   "cell_type": "code",
   "execution_count": 8,
   "metadata": {
    "collapsed": false
   },
   "outputs": [],
   "source": [
    "class FluidFlowSimulator:\n",
    "\n",
    "    def __init__(self, num_cells, length):\n",
    "\n",
    "        # Numerical grid:\n",
    "        self.num_cells = num_cells\n",
    "        self.L = length\n",
    "        self.dx = np.zeros(self.num_cells)\n",
    "        self.dx.fill(self.L/self.num_cells)\n",
    "        self.x_edges = np.linspace(0, self.L, self.num_cells+1)\n",
    "\n",
    "        # Concentration data:\n",
    "        self.fluid_concentrations = np.zeros(self.num_cells+1)\n",
    "\n",
    "        # Initial & boundary conditions:\n",
    "        self.c_init = 0.0\n",
    "        self.c_inj = 1.0  # default\n",
    "\n",
    "    def reset_to_initial_condition(self):\n",
    "\n",
    "        self.fluid_concentrations.fill(self.c_init)\n",
    "\n",
    "    def set_initial_and_boundary_condition(self, c_init, c_inj):\n",
    "\n",
    "        self.c_init = c_init\n",
    "        self.c_inj = c_inj\n",
    "        self.fluid_concentrations.fill(self.c_init)\n",
    "\n",
    "    def run(self, times):\n",
    "\n",
    "        self.reset_to_initial_condition()  # call method\n",
    "        global_timesteps = times[1:]-times[:-1]\n",
    "        for dt in global_timesteps:\n",
    "            self.advance_large_step(dt)  # call method\n",
    "\n",
    "    def advance_large_step(self, dt):\n",
    "        pass  # not implemented yet"
   ]
  },
  {
   "cell_type": "markdown",
   "metadata": {},
   "source": [
    "The next code snippet illustrates how to use the class:"
   ]
  },
  {
   "cell_type": "code",
   "execution_count": 9,
   "metadata": {
    "collapsed": false
   },
   "outputs": [],
   "source": [
    "simulator = FluidFlowSimulator(10, 7.0)\n",
    "simulator.set_initial_and_boundary_condition(10.0, 35.0)\n",
    "t_end = 24.0*60*60  # one day in seconds\n",
    "times = np.linspace(0, t_end, 49)\n",
    "simulator.run(times)"
   ]
  },
  {
   "cell_type": "markdown",
   "metadata": {},
   "source": [
    "## Operator overloading example\n",
    "\n",
    "The next example shows how we might start if we want to represent complex\n",
    "numbers with a custom class. We also include some more documentation:"
   ]
  },
  {
   "cell_type": "code",
   "execution_count": 10,
   "metadata": {
    "collapsed": false
   },
   "outputs": [],
   "source": [
    "# Example of how to create a new object type (custom class):\n",
    "class ComplexNumber:\n",
    "\n",
    "    def __init__(self, a, b):\n",
    "        \"\"\"\n",
    "        Constructor. Initializes the complex number.\n",
    "\n",
    "        :param a: Real part.\n",
    "        :param b: Imaginary part.\n",
    "        \"\"\"\n",
    "\n",
    "        self.real_part = a\n",
    "        self.imaginary_part = b\n",
    "\n",
    "    def __str__(self):\n",
    "        \"\"\"\n",
    "       String representation of the complex number.\n",
    "\n",
    "        :return:\n",
    "        \"\"\"\n",
    "        return '{}+{}*i'.format(self.real_part, self.imaginary_part)\n",
    "\n",
    "    def __add__(self, other):\n",
    "        \"\"\"\n",
    "        Addition of complex numbers. Returns a new number.\n",
    "\n",
    "        :param other: Complex number being added to this one.\n",
    "        :return:\n",
    "        \"\"\"\n",
    "        a = self.real_part + other.real_part\n",
    "        b = self.imaginary_part + other.imaginary_part\n",
    "        return ComplexNumber(a, b)\n",
    "\n",
    "    def __sub__(self, other):\n",
    "        \"\"\"\n",
    "        Subtraction of complex numbers. Returns a new number.\n",
    "\n",
    "        :param other: Complex number being subtracted from this one.\n",
    "        :return:\n",
    "        \"\"\"\n",
    "        a = self.real_part - other.real_part\n",
    "        b = self.imaginary_part - other.imaginary_part\n",
    "        return ComplexNumber(a, b)\n",
    "\n",
    "    def __mul__(self, other):\n",
    "        \"\"\"\n",
    "        Multiplication of complex numbers. Returns a new number.\n",
    "\n",
    "        :param other: Complex number being multiplied with this one.\n",
    "        :return:\n",
    "        \"\"\"\n",
    "        a = self.real_part*other.real_part - self.imaginary_part*other.imaginary_part\n",
    "        b = self.real_part*other.imaginary_part + self.imaginary_part*other.real_part\n",
    "        return ComplexNumber(a, b)\n",
    "\n",
    "    def __truediv__(self, other):\n",
    "        \"\"\"\n",
    "        Division of complex numbers. Returns a new number.\n",
    "\n",
    "        :param other: Complex number with which the current one is divided.\n",
    "        :return:\n",
    "        \"\"\"\n",
    "        d = other.real_part**2 + other.imaginary_part**2\n",
    "        if d == 0:\n",
    "            raise(ZeroDivisionError('Cannot divide by zero.'))\n",
    "        a = (self.real_part*other.real_part + self.imaginary_part*other.imaginary_part)/d\n",
    "        b = (self.imaginary_part*other.real_part-self.real_part*other.imaginary_part)/d\n",
    "        return ComplexNumber(a, b)\n",
    "\n",
    "    def modulus(self):\n",
    "        \"\"\"\n",
    "        :return: length (modulus) of the complex number in the complex plane.\n",
    "        \"\"\"\n",
    "        return math.sqrt(self.real_part**2 + self.imaginary_part**2)\n",
    "\n",
    "z1 = ComplexNumber(0, 1)\n",
    "z2 = ComplexNumber(1, 0)\n",
    "z3 = ComplexNumber(2, 0)\n",
    "z4 = ComplexNumber(1, 1)"
   ]
  },
  {
   "cell_type": "markdown",
   "metadata": {},
   "source": [
    "No attempt has been made to be efficient in this implementation. Also, there\n",
    "is already a complex number class available in the\n",
    " [cmath](https://docs.python.org/2/library/cmath.html) module, which means\n",
    "that you probably should use that instead of creating your own.\n",
    "However, the above code illustrates several of the reasons why you might want\n",
    "to work with classes. In particular, notice the usage of\n",
    "[operator overloading](https://en.wikipedia.org/wiki/Operator_overloading),\n",
    "which allow us to define arithmetic operators for complex numbers (addition,\n",
    "subtraction, multiplication, and division):"
   ]
  },
  {
   "cell_type": "code",
   "execution_count": 11,
   "metadata": {
    "collapsed": false
   },
   "outputs": [],
   "source": [
    "# Examples of operator overloading (and usage of __str__ method):\n",
    "print(z1+z2)\n",
    "print(z1*z2)\n",
    "print(z2/z3)\n",
    "\n",
    "# Find length of z4 = 1+i in the complex plane:\n",
    "print(z4.modulus())"
   ]
  },
  {
   "cell_type": "markdown",
   "metadata": {},
   "source": [
    "## Callable objects\n",
    "\n",
    "In numerical computing it can often be advantageous to represent mathematical\n",
    "functions with a class, e.g.:"
   ]
  },
  {
   "cell_type": "code",
   "execution_count": 12,
   "metadata": {
    "collapsed": false
   },
   "outputs": [],
   "source": [
    "# Representing a function by a custom class:\n",
    "\n",
    "class SineWaveFunction:\n",
    "    \"\"\"\n",
    "    Class representation of a sine wave function:\n",
    "\n",
    "        f(x) = A*sin(omega*t + phi)=A*sin(2*pi*f*t+phi)\n",
    "    \"\"\"\n",
    "\n",
    "    def __init__(self, A=1.0, omega=1.0, phi=0.0):\n",
    "        \"\"\"\n",
    "        Instantiate function. If given no input parameters,\n",
    "        by default f(x)=sin(x).\n",
    "\n",
    "        :param A: amplitude\n",
    "        :param omega: angular frequency (=2*pi*f)\n",
    "        :param phi: phase\n",
    "        \"\"\"\n",
    "\n",
    "        self.A = A\n",
    "        self.omega = omega\n",
    "        self.phi = phi\n",
    "\n",
    "        # Frequency from angular frequency:\n",
    "        self.f = self.omega/(2.0*np.pi)\n",
    "\n",
    "    def __call__(self, x):\n",
    "        \"\"\"\n",
    "        Implements function call operator.\n",
    "\n",
    "        Example of usage:\n",
    "\n",
    "            f = SineWaveFunction()\n",
    "            value = f(pi/2)\n",
    "            print(value)  # <-- returns 1.0\n",
    "\n",
    "        :param x: Input value to function.\n",
    "        :return: Value of function at x.\n",
    "        \"\"\"\n",
    "        return self.A*np.sin(self.omega*x+self.phi)\n",
    "\n",
    "f = SineWaveFunction()\n",
    "print(f(math.pi*0.5))\n",
    "\n",
    "# Notice that we used the NumPy version of the sine function in __call__(x).\n",
    "# This is to allow vectorized computation, e.g., as follows:\n",
    "x_vals = np.linspace(0, 2*np.pi, 10)\n",
    "print(f(x_vals))"
   ]
  },
  {
   "cell_type": "markdown",
   "metadata": {},
   "source": [
    "This type of construct can be especially useful when we have to call the\n",
    "function repeatedly as part of a larger computation, but where the function\n",
    "needs to store an internal state that is prone to change in-between successive\n",
    "calls. The reason why this works is the usage of yet another special (reserved)\n",
    "method, namely *call*. Instances of classes which implement this method are\n",
    "called *callable*, and having it allows us to treat class instances like\n",
    "functions.\n",
    "\n",
    "## Inheritance and polymorphism\n",
    "\n",
    "Classes provide a convenient means by which to increase code reuse, and they\n",
    "facilitate the storage of various types of information that 'naturally\n",
    "belong together'. However, the reason for introducing them in the first\n",
    "place was because of their more advanced features that support an\n",
    "object-oriented-programming (OOP) style. We will not really delve\n",
    "into OOP issues here, but we end with a simple example of how to use\n",
    "class\n",
    "[inheritance](https://www.python-course.eu/python3_inheritance.php) to achieve\n",
    "[polymorphism](https://en.wikipedia.org/wiki/Polymorphism_(computer_science)):"
   ]
  },
  {
   "cell_type": "code",
   "execution_count": 13,
   "metadata": {
    "collapsed": false
   },
   "outputs": [],
   "source": [
    "# Example of achieving polymorphism via super- and subclasses (inheritance):\n",
    "class Shape:\n",
    "\n",
    "    def __init__(self):\n",
    "        pass\n",
    "\n",
    "    def area(self):\n",
    "        pass\n",
    "\n",
    "class Circle(Shape):\n",
    "\n",
    "    def __init__(self, radius):\n",
    "        self.radius = radius\n",
    "\n",
    "    def area(self):\n",
    "        return np.pi*self.radius**2\n",
    "\n",
    "class Square(Shape):\n",
    "\n",
    "    def __init__(self, side):\n",
    "        self.side_length = side\n",
    "\n",
    "    def area(self):\n",
    "        return self.side_length**2\n",
    "\n",
    "class Rectangle(Shape):\n",
    "\n",
    "    def __init__(self, length, width):\n",
    "        self.length = length\n",
    "        self.width = width\n",
    "\n",
    "    def area(self):\n",
    "        return self.length*self.width\n",
    "\n",
    "shape1 = Circle(1.0)\n",
    "shape2 = Square(1.0)\n",
    "shape3 = Rectangle(1.0, 2.0)\n",
    "shapes = [shape1, shape2, shape3]\n",
    "for s in shapes:\n",
    "    print(s.area())"
   ]
  },
  {
   "cell_type": "markdown",
   "metadata": {},
   "source": [
    "We see that we have defined a super class (Shape) that has three subclasses,\n",
    "each representing a particular geometric figure with its own way of computing\n",
    "area. However, as seen from the outside they all behave the same way: We\n",
    "can simply apply call the *area()* method to a Shape object, regardless of\n",
    "whether it is actually a Circle, a Square, or a Rectangle!\n",
    "\n",
    "OOP will not be a focus in this course, but it can still be very useful to\n",
    "organize parts of your programs into classes. If nothing else, it can\n",
    "increase code readability."
   ]
  }
 ],
 "metadata": {},
 "nbformat": 4,
 "nbformat_minor": 2
}
