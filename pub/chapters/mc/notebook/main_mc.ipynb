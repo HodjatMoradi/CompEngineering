{
 "cells": [
  {
   "cell_type": "markdown",
   "metadata": {},
   "source": [
    "<!-- dom:TITLE: Monte Carlo Methods -->\n",
    "# Monte Carlo Methods\n",
    "<!-- dom:AUTHOR: Aksel Hiorth, the National IOR Centre & Institute for Energy Resources, -->\n",
    "<!-- Author: -->  \n",
    "**Aksel Hiorth, the National IOR Centre & Institute for Energy Resources,**\n",
    "University of Stavanger\n",
    "\n",
    "Date: **Feb 7, 2019**\n",
    "\n",
    "# Monte Carlo Methods\n",
    "Monte Carlo methods are named after the Monte carlo Casino in Monaco,\n",
    "this is because at its core it uses random numbers to solve problems.\n",
    "Monte Carlo methods are usually quite easy to program, and they are\n",
    "usually much more intuitive than a theoretical approach. If we would\n",
    "like to find the probability to get at least 5 on three dices after 5 throws\n",
    "there are methods from statistics that could tell us the probability.\n",
    "Using the Monte Carlo method, we would get the computer to pick a\n",
    "random integer between 1 and 6, three times, to represent one throw of\n",
    "the dices bla bla.\n",
    "later in this chapter \n",
    "Usually  Usually we use differential equations to describe physical systems, the solution to these equations are continuous functions. In order for these solutions \n",
    "to be useful, they require that the differential equation describes our physical sufficiently. In many practical cases we have no control over many \n",
    "of the parameters entering the differential equation, or stated differently *our system is not deterministic*. This means that there could be some random\n",
    "fluctuations, occurring at different times and points in space, that we have no control over. In a practical situation we might would like to investigate how these fluctuations would\n",
    "affect the behavior of our system. A \n",
    "\n",
    "# Monte Carlo Integration\n",
    "Let us start with a simple illustration of the Monte Carlo Method (MCM), Monte Carlo integration. To the left\n",
    "in [figure](#fig:mc:mci) there is a shape of a pond. Imagine that we wanted to estimate the area of the pond, how could\n",
    "we do it? Assume further that you did not have your phone or any other electronic devices to help you. \n",
    "\n",
    "<!-- dom:FIGURE: [fig-mc/mci.png, width=400 frac=1.0] Two ponds to illustrate the MCM. <div id=\"fig:mc:mci\"></div> -->\n",
    "<!-- begin figure -->\n",
    "<div id=\"fig:mc:mci\"></div>\n",
    "\n",
    "<p>Two ponds to illustrate the MCM.</p>\n",
    "<img src=\"fig-mc/mci.png\" width=400>\n",
    "\n",
    "<!-- end figure -->\n",
    "\n",
    "\n",
    "One possible approach is: First to walk around it, and put up some bands (illustrated by the black dotted line).\n",
    "Then estimate the area inside the bands (e.g. 4$\\times$3 meters). Then\n",
    "we would know that the area was less than e.g. 12m$^2$. Finally,\n",
    "and this is the difficult part, throw rocks *randomly* inside the\n",
    "bands. The number of rocks hitting the pond divided by the total\n",
    "number rocks thrown should be equal to the area of the pond divided by\n",
    "the total area inside the bands, i.e. the area of the pond should be\n",
    "equal to:"
   ]
  },
  {
   "cell_type": "markdown",
   "metadata": {},
   "source": [
    "<!-- Equation labels as ordinary links -->\n",
    "<div id=\"eq:mc:mci\"></div>\n",
    "\n",
    "$$\n",
    "\\begin{equation}\n",
    "A\\simeq\\text{Area of rectangle}\\times\\frac{\\text{Number of rocks hitting the pond}}{\\text{Number of rocks thrown}}.\n",
    "\\label{eq:mc:mci} \\tag{1}\n",
    "\\end{equation}\n",
    "$$"
   ]
  },
  {
   "cell_type": "markdown",
   "metadata": {},
   "source": [
    "It is important that we throw the rocks randomly, otherwise  equation ([1](#eq:mc:mci)) is not correct. Now, let us\n",
    "investigate this in more detail, and use the idea of throwing rocks to estimate $\\pi$. To the right in [figure](#fig:mc:mci),\n",
    "there is a well known shape, a circle. The area of the circle is $\\pi d^2/4$, and the shape is given by $x^2+y^2=d^2/4$. Assume that\n",
    "the circle is inscribed in a square with sides of $d$. To throw rocks randomly inside the square, is equivalent pick random numbers\n",
    "with coordinates $(x,y)$, where $x\\in[0,d]$ and $y\\in[0,d]$. We want all the $x-$ and $y-$values to be chosen with equal probability,\n",
    "which is equivalent to pick random numbers from a *uniform* distribution. Below is a Python implementation:"
   ]
  },
  {
   "cell_type": "code",
   "execution_count": 1,
   "metadata": {
    "collapsed": false
   },
   "outputs": [],
   "source": [
    "import numpy as np\n",
    "import random\n",
    "\n",
    "def estimate_pi(N,d):\n",
    "#   random.seed(2)\n",
    "    D2=d*d/4; dc=0.5*d\n",
    "    A=0\n",
    "    for k in range(0,N):\n",
    "        x=random.uniform(0,d)\n",
    "        y=random.uniform(0,d)\n",
    "        if((x-dc)**2+(y-dc)**2 <= D2):\n",
    "            A+=1\n",
    "    # estimate area of circle: d*d*A/N\n",
    "    return 4*A/N\n",
    "\n",
    "N=1000;d=2\n",
    "pi_est=estimate_pi(N,d)\n",
    "print('Estimate for pi= ', pi_est,' Error=', np.pi-pi_est)"
   ]
  },
  {
   "cell_type": "markdown",
   "metadata": {},
   "source": [
    "In the table below, we have run the code for $d=1$ and different values of $N$. \n",
    "\n",
    "<table border=\"1\">\n",
    "<thead>\n",
    "<tr><th align=\"center\">MC estimate</th> <th align=\"center\">   Error   </th> <th align=\"center\"> $N$  </th> <th align=\"center\">$1/\\sqrt{N}$</th> </tr>\n",
    "</thead>\n",
    "<tbody>\n",
    "<tr><td align=\"center\">   3.04           </td> <td align=\"center\">   -0.10159       </td> <td align=\"center\">   10$^2$    </td> <td align=\"center\">   0.100           </td> </tr>\n",
    "<tr><td align=\"center\">   3.176          </td> <td align=\"center\">   $\\,$0.03441    </td> <td align=\"center\">   10$^3$    </td> <td align=\"center\">   0.032           </td> </tr>\n",
    "<tr><td align=\"center\">   3.1584         </td> <td align=\"center\">   $\\,$0.01681    </td> <td align=\"center\">   10$^4$    </td> <td align=\"center\">   0.010           </td> </tr>\n",
    "<tr><td align=\"center\">   3.14072        </td> <td align=\"center\">   -0.00087       </td> <td align=\"center\">   10$^5$    </td> <td align=\"center\">   0.003           </td> </tr>\n",
    "</tbody>\n",
    "</table>\n",
    "We clearly see that a fair amount of rocks or numbers needs to be used in order to get a good estimate. If you run this code several\n",
    "times you will see that the results changes from time to time. This\n",
    "makes sense as the coordinates $x$ and $y$ are chosen at random.\n",
    "## Random number generators\n",
    "\n",
    "There are much to be said about random number generators. The MCM depends on a good random number generator, otherwise we cannot use the results from\n",
    "statistics to develop our algorithms. Below, we briefly summarize some important points that you should be aware of:\n",
    "\n",
    "1. Random number generators are generally of two types: *hardware random number generator* (HRNG) or *pseudo random number generator* (PRNG).\n",
    "\n",
    "2. HRNG uses a physical process to generate random numbers, this could atmospheric noise, radioactive decay, microscopic fluctuations, which is translated to an electrical signal. The electrical signal is converted to a digital number (1 or 0), by sampling the random signal random numbers can be generated. The HRNG are often named *true random number generators*, and their main use are in *cryptography*.\n",
    "\n",
    "3. PRNG uses a mathematical algorithm to generate an (apparent) random sequence. The algorithm uses an initial number, or a *seed*,  to start the sequence of random number. The sequence is deterministic, and it will generate the same sequence of numbers if the same seed is used. At some point the algorithm will reproduce itself, i.e. it will have certain period. For some seeds the period may be much shorter.\n",
    "\n",
    "4. Many of the PRNG are not considered to be cryptographically secure, because if a sufficiently long sequence of random numbers are generated from them, the rest of the sequence can be predicted. \n",
    "\n",
    "5. Python uses the [Mersenne Twister](https://en.wikipedia.org/wiki/Mersenne_Twister) algorithm to generate random numbers, and has a period of $2^{19937}−1\\simeq4.3\\cdot10^{6001}$. It is not considered to be cryptographically secure.\n",
    "\n",
    "In Pythons `random.uniform` function, a random seed is chosen each time the code is run, but\n",
    "if we set e.g. `random.seed(2)`, the code will generate the same sequence of numbers each time it is called. \n",
    "\n",
    "## Encryption\n",
    "This section can be skipped as it is not relevant for development of\n",
    "the numerical algorithms, but it is a good place to explain the basic\n",
    "idea behind encryption of messages. A very simple, but not a very good\n",
    "encryption, is to replace all the letters in the alphabet with a\n",
    "number, e.g. A=1, B=2, C=3, etc. This is what is know as a\n",
    "*substitution cipher*, it does not need to be a number it could be a\n",
    "letter, a sequence of letters, letters and numbers etc. The receiver\n",
    "can solve the code by doing the reverse operation.\n",
    "\n",
    "The\n",
    "weakness of this approach is that it can fairly easily be cracked, by\n",
    "the following approach: First we analyze the encrypted message and find the frequency of each of the symbols.\n",
    "Assume that we know that the message is written in English, then the\n",
    "frequency of symbols can be compared with the frequency of\n",
    "letters from a known English text (the most common is `E` (12$\\%$), then `T`\n",
    "(9$\\%$), etc.). We would then guess that the most occurring symbol\n",
    "probably is an `E` or `T`. When some of the letters are in place, we\n",
    "can compare with the frequency of words, and so on. By the help of\n",
    "computers this process can easily be automated.\n",
    "\n",
    "A much better algorithm is *to not replace a letter with the same\n",
    "symbol*. To make it more clear, consider our simple example where A=1, B=2,\n",
    "C=3, $\\ldots$. If we know say that A=1 but we add a *random number*,\n",
    "then our code would be much harder to crack. Then the letter A\n",
    "could be several places in the message but represented as a complete different\n",
    "number. Thus we could not use the frequency of the various symbols to\n",
    "crack the message.\n",
    "\n",
    "How can the receiver decrypt the message? Obviously, it can be done if\n",
    "both the sender and receiver have the same sequence of random numbers (or the *key*).\n",
    "This can be achieved quite simple with random number generators, if we\n",
    "know the seed  used we can generate the same sequence of\n",
    "random numbers. If Alice where to send a message to Bob without Eve\n",
    "knowing what it is, Alice and Bob could agree to send a message that\n",
    "was scrambled using Pythons Mersenne-Twister algorithm with seed=2.\n",
    "\n",
    "The weakness of this approach is of course that Eve could convince\n",
    "Alice or Bob to give her the seed or the key. Another possibility is\n",
    "that Eve could write a program that tested\n",
    "different random number generators and seeds to decipher the message.\n",
    "How to avoid this?\n",
    "\n",
    "Let us assume that Alice and Bob each had their own\n",
    "hardware random generator. This generator generated random numbers that was truly\n",
    "random, and the sequence could not be guessed by any outsider. Alice\n",
    "do not want to share her key (sequence of random numbers) with Bob,\n",
    "and Bob would not share his key with Alice. How can they send a\n",
    "message without sharing the key? One possible way of doing it is as\n",
    "follows: Alice write a message and encrypt it with her key, she send\n",
    "the message to Bob. Bob then encrypt the message with his key, he\n",
    "sends it back to Alice. Alice then decrypt the message with her key\n",
    "and send it back to Bob. Now, Bob can decrypt it with his own key and\n",
    "read the message. The whole process can be visualized by thinking of\n",
    "the message as box with the message. Alice but her padlock on the box\n",
    "(keeps her key for her self), she sends the message to Bob. Bob locks\n",
    "the box with his padlock, now there are two padlocks on the box. He\n",
    "sends the box back to Alice, Alice unlocks her padlock with her key,\n",
    "and sends it back to Bob. The box now only has Bob's key, he can\n",
    "unlock the box and read the message. The important point is that the\n",
    "box was never unlocked throughout the transaction, and Alice and Bob\n",
    "never had to share the key with anyone. \n",
    "\n",
    "## Errors on Monte Carlo Integration and the Binomial Distribution\n",
    "How many rocks do we need to throw in order to reach a certain accuracy? To answer this question we need some results from statistics. Our problem of calculating the integral is closely related to the *binomial distribution*. When we throw a rock one of two things can happen i) the rock falls into the water, or ii) it falls outside the pond. If we denote the probability that the rock falls into the pond as $p$, then the probability that it falls outside the pond, $q$, has to be $q=1-p$.\n",
    "This is simply because there are no other possibilities and the sum of the two probabilities has to be one: $p+q=p+(1-p)=1$. The binomial distribution is given by:"
   ]
  },
  {
   "cell_type": "markdown",
   "metadata": {},
   "source": [
    "<!-- Equation labels as ordinary links -->\n",
    "<div id=\"eq:mc:bin\"></div>\n",
    "\n",
    "$$\n",
    "\\begin{equation}\n",
    "p(k)=\\frac{n!}{k!(n-k)!}p^k(1-p)^{n-k}.\n",
    "\\label{eq:mc:bin} \\tag{2}\n",
    "\\end{equation}\n",
    "$$"
   ]
  },
  {
   "cell_type": "markdown",
   "metadata": {},
   "source": [
    "$p(k)$ is the probability that an event happens $k$ times after $n$ trials. The mean, $\\mu$, and the variance, $\\sigma^2$, of the binomial distribution is:"
   ]
  },
  {
   "cell_type": "markdown",
   "metadata": {},
   "source": [
    "<!-- Equation labels as ordinary links -->\n",
    "<div id=\"eq:mc:binm\"></div>\n",
    "\n",
    "$$\n",
    "\\begin{equation}\n",
    "\\mu=\\sum_{k=0}^{n-1}kp(k)=np, \\label{eq:mc:binm} \\tag{3}\n",
    "\\end{equation}\n",
    "$$"
   ]
  },
  {
   "cell_type": "markdown",
   "metadata": {},
   "source": [
    "<!-- Equation labels as ordinary links -->\n",
    "<div id=\"eq:mc:bins\"></div>\n",
    "\n",
    "$$\n",
    "\\begin{equation} \n",
    "\\sigma^2=\\sum_{k=0}^{n-1}(k-\\mu)^2p(k)=np(1-p). \\label{eq:mc:bins} \\tag{4}\n",
    "\\end{equation}\n",
    "$$"
   ]
  },
  {
   "cell_type": "markdown",
   "metadata": {},
   "source": [
    "**Mean and variance.**\n",
    "\n",
    "The mean of a distribution is simply the *sum* divided by the *count*,\n",
    "the symbol $\\mu$ is usually used. For $n$ observations, $x_i$,\n",
    "$\\mu=\\sum_i x_i/n$. The mean is just an average, it could e.g. be the sum of all the heights of\n",
    "students in the class divided by the number of students. The mean\n",
    "would then be the average height of all the students in the class.\n",
    "\n",
    "The variance is calculated by taking the difference between each of\n",
    "the data points and the mean, square it, and sum over all data points.\n",
    "Usually the symbol $\\sigma^2$ is used. $\\sigma^2=\\sum_i(\\mu-x_i)^2/n$.\n",
    "Defined in this way it is quite easy to understand that the variance\n",
    "tells us something about the spread in the data. Usually we use the *standard\n",
    "deviation*, $\\sigma=\\sqrt{\\sigma^2}$, as an estimate of the\n",
    "uncertainty in our estimate of the mean, i.e. $\\mu\\pm\\sigma$.\n",
    "\n",
    "\n",
    "Before we proceed, we should take a moment and look a little more into\n",
    "the meaning of equation ([2](#eq:mc:bin)) to appreciate its usefulness.  A classical example of the use of the binomial formula is to toss a coin, if the coin is fair it will have an equal probability of giving us a head or tail, hence $p=1/2$. Equation ([2](#eq:mc:bin)), can answer questions like: ''What is the probability to get only heads after 4 tosses?''. Let us calculate this answer using equation ([2](#eq:mc:bin)), the number of tosses is 4, the number of success is 4 (only heads each time)"
   ]
  },
  {
   "cell_type": "markdown",
   "metadata": {},
   "source": [
    "<!-- Equation labels as ordinary links -->\n",
    "<div id=\"eq:mc:coin\"></div>\n",
    "\n",
    "$$\n",
    "\\begin{equation}\n",
    "p(k=4)=\\frac{4!}{4!(4-4)!}\\frac{1}{2}^4(1-\\frac{1}{2})^{4-4}=\\frac{1}{2^4}=\\frac{1}{16}.\n",
    "\\label{eq:mc:coin} \\tag{5}\n",
    "\\end{equation}\n",
    "$$"
   ]
  },
  {
   "cell_type": "markdown",
   "metadata": {},
   "source": [
    "''What is the probability to get three heads in four tosses?'', using\n",
    "the same equation, we find:"
   ]
  },
  {
   "cell_type": "markdown",
   "metadata": {},
   "source": [
    "<!-- Equation labels as ordinary links -->\n",
    "<div id=\"eq:mc:coin2\"></div>\n",
    "\n",
    "$$\n",
    "\\begin{equation}\n",
    "p(k=3)=\\frac{4!}{3!(4-3)!}\\frac{1}{2}^3(1-\\frac{1}{2})^{4-3}=\\frac{4}{2^4}=\\frac{1}{4}.\n",
    "\\label{eq:mc:coin2} \\tag{6}\n",
    "\\end{equation}\n",
    "$$"
   ]
  },
  {
   "cell_type": "markdown",
   "metadata": {},
   "source": [
    "In [figure](#fig:mc:coin), all the possibilities are shown. The\n",
    "number of possibilities are 16, and there are only one possibility\n",
    "that we get only heads, i.e. the probability is 1/16 as calculated in\n",
    "equation ([5](#eq:mc:coin)). In the figure we also see that there are 4\n",
    "possible ways we can get three heads, hence the probability is\n",
    "4/16=1/4 as calculated in equation ([6](#eq:mc:coin2)).\n",
    "\n",
    "<!-- dom:FIGURE: [fig-mc/coin.png, width=400 frac=1.0] The famous Norwegian Moose coin, and possible outcomes of four coin flips in a row. <div id=\"fig:mc:coin\"></div>  -->\n",
    "<!-- begin figure -->\n",
    "<div id=\"fig:mc:coin\"></div>\n",
    "\n",
    "<p>The famous Norwegian Moose coin, and possible outcomes of four coin flips in a row.</p>\n",
    "<img src=\"fig-mc/coin.png\" width=400>\n",
    "\n",
    "<!-- end figure -->\n",
    "\n",
    "\n",
    "Now, let us return to our original question, ''What is the error on our\n",
    "estimate of the integral, when using the MCM?''. Before we continue we\n",
    "should also clean up our notation, let $I$ be the value of the true\n",
    "integral, $A$ is our *estimate* of the integral, and $I_N$ is the area\n",
    "of the rectangle. First, let us show\n",
    "that the mean or expectation value of the binomial distribution is\n",
    "related to our estimate of the area of the pond or the circle, $A$. In our case we draw $n=N$\n",
    "random numbers, and $k$ times the coordinate falls inside the circle,\n",
    "equation ([3](#eq:mc:binm)) tells us that the mean value is $np$. $p$\n",
    "is the probability that the coordinate is within the area to be\n",
    "integrated, hence as before $p$ is equal to the area to be integrated\n",
    "divided by the area of the total domain, thus:"
   ]
  },
  {
   "cell_type": "markdown",
   "metadata": {},
   "source": [
    "<!-- Equation labels as ordinary links -->\n",
    "<div id=\"_auto1\"></div>\n",
    "\n",
    "$$\n",
    "\\begin{equation}\n",
    "\\mu=np=N\\frac{A}{I_N},\n",
    "\\label{_auto1} \\tag{7}\n",
    "\\end{equation}\n",
    "$$"
   ]
  },
  {
   "cell_type": "markdown",
   "metadata": {},
   "source": [
    "or"
   ]
  },
  {
   "cell_type": "markdown",
   "metadata": {},
   "source": [
    "<!-- Equation labels as ordinary links -->\n",
    "<div id=\"_auto2\"></div>\n",
    "\n",
    "$$\n",
    "\\begin{equation}\n",
    "A=I_N\\frac{\\mu}{N}.\n",
    "\\label{_auto2} \\tag{8}\n",
    "\\end{equation}\n",
    "$$"
   ]
  },
  {
   "cell_type": "markdown",
   "metadata": {},
   "source": [
    "Equation ([4](#eq:mc:bins)), gives us an estimate of the variance of\n",
    "the mean value. Assume for simplicity that we can replace $1-p\\simeq\n",
    "p$, this is of course only correct if the area of the rectangle is\n",
    "twice as big as our pond, but we are only interested in an\n",
    "estimate of the error, hence $\\sigma^2\\simeq np^2$. We can now use the\n",
    "standard deviation as an estimate of the error of our integral:"
   ]
  },
  {
   "cell_type": "markdown",
   "metadata": {},
   "source": [
    "$$\n",
    "I\\simeq I_N\\frac{\\mu\\pm\\sigma}{n}=I_N\\frac{Np\\pm \\sqrt{N}p}{N}\\nonumber\n",
    "$$"
   ]
  },
  {
   "cell_type": "markdown",
   "metadata": {},
   "source": [
    "<!-- Equation labels as ordinary links -->\n",
    "<div id=\"eq:mc:mcmf\"></div>\n",
    "\n",
    "$$\n",
    "\\begin{equation} \n",
    "\\simeq I_N(p\\pm \\frac{p}{\\sqrt{N}})=A\\pm \\frac{A}{\\sqrt{N}}.\n",
    "\\label{eq:mc:mcmf} \\tag{9}\n",
    "\\end{equation}\n",
    "$$"
   ]
  },
  {
   "cell_type": "markdown",
   "metadata": {},
   "source": [
    "In the last equation we have replaced $p$ with $A/I_N$. \n",
    "Hence, the error of our integral is inversely proportional to the\n",
    "square root of the number of points. \n",
    "\n",
    "## The mean value method\n",
    "How does our previous method compare with some of our standard methods,\n",
    "like the midpoint rule? The step length, $h$, is\n",
    "related to the number of points as $h=(b-a)/n$, where $b$ and $a$ are\n",
    "the integration limit. Thus our MCM scales as $1/\\sqrt{n}\\sim\n",
    "h^{1/2}$, this is actually worse than the midpoint or trapezoidal\n",
    "rule, which scaled as $h$.\n",
    "\n",
    "The MCM can be improved, we will first describe the mean value method.\n",
    "In the last section we calculated the area of\n",
    "a circle by picking random numbers inside a square and estimated the\n",
    "fraction of points inside the circle. This is equivalent to calculate\n",
    "the area of a half circle, and multiply with 2:"
   ]
  },
  {
   "cell_type": "markdown",
   "metadata": {},
   "source": [
    "<!-- Equation labels as ordinary links -->\n",
    "<div id=\"eq:mc:Is\"></div>\n",
    "\n",
    "$$\n",
    "\\begin{equation}\n",
    "I=2\\int_{-d/2}^{d/2}\\sqrt{(d/2)^2-x^2}dx=\\frac{\\pi d^2}{4}.\n",
    "\\label{eq:mc:Is} \\tag{10}\n",
    "\\end{equation}\n",
    "$$"
   ]
  },
  {
   "cell_type": "markdown",
   "metadata": {},
   "source": [
    "The half-circle is now centered at the origin. Before we proceed we\n",
    "write our integral in a general form as:"
   ]
  },
  {
   "cell_type": "markdown",
   "metadata": {},
   "source": [
    "<!-- Equation labels as ordinary links -->\n",
    "<div id=\"eq:mc:I1\"></div>\n",
    "\n",
    "$$\n",
    "\\begin{equation}\n",
    "I=\\int_a^bf(x)dx.\n",
    "\\label{eq:mc:I1} \\tag{11}\n",
    "\\end{equation}\n",
    "$$"
   ]
  },
  {
   "cell_type": "markdown",
   "metadata": {},
   "source": [
    "Instead of counting the number of points inside the curve given by\n",
    "$f(x)$, we could instead estimate the expectation value or the mean of\n",
    "the function. In order to transform the mean value to an integral we\n",
    "need to multiply with the width of the integration domain $b-a$, hence:"
   ]
  },
  {
   "cell_type": "markdown",
   "metadata": {},
   "source": [
    "<!-- Equation labels as ordinary links -->\n",
    "<div id=\"eq:mc:I2\"></div>\n",
    "\n",
    "$$\n",
    "\\begin{equation}\n",
    "I=\\int_a^bf(x)dx\\simeq\\frac{b-a}{n}\\sum_{i=0}^{n-1}f(x_i).\n",
    "\\label{eq:mc:I2} \\tag{12}\n",
    "\\end{equation}\n",
    "$$"
   ]
  },
  {
   "cell_type": "markdown",
   "metadata": {},
   "source": [
    "Note that this formula is similar to the midpoint rule, but now the\n",
    "function is not evaluated at the midpoint, but at several points and\n",
    "we use the average value. Below is an implementation:"
   ]
  },
  {
   "cell_type": "code",
   "execution_count": 2,
   "metadata": {
    "collapsed": false
   },
   "outputs": [],
   "source": [
    "import numpy as np\n",
    "import random\n",
    "\n",
    "def f(x,D2):\n",
    "    return 2*(D2-x*x)**0.5\n",
    "\n",
    "def mcm_mean(N,d):\n",
    "#   random.seed(2)\n",
    "    D2=d*d/4\n",
    "    A=0\n",
    "    for k in range(0,N):\n",
    "        x=random.uniform(-d/2,d/2)\n",
    "        A+=f(x,D2)\n",
    "    # estimate for area: A/N\n",
    "    return d*A/N"
   ]
  },
  {
   "cell_type": "markdown",
   "metadata": {},
   "source": [
    "In the table below we have compared the mean value method with the\n",
    "method of counting the fraction of points inside the circle. We see\n",
    "that the mean value method performs somewhat better, but there are\n",
    "some random fluctuations and in some cases it performs poorer. \n",
    "\n",
    "<table border=\"1\">\n",
    "<thead>\n",
    "<tr><th align=\"center\">MC-mean</th> <th align=\"center\"> Error </th> <th align=\"center\">  MC  </th> <th align=\"center\"> Error </th> <th align=\"center\"> $N$  </th> </tr>\n",
    "</thead>\n",
    "<tbody>\n",
    "<tr><td align=\"center\">   3.1706     </td> <td align=\"center\">   0.0290     </td> <td align=\"center\">   3.1200    </td> <td align=\"center\">   -0.0216    </td> <td align=\"center\">   10$^2$    </td> </tr>\n",
    "<tr><td align=\"center\">   3.1375     </td> <td align=\"center\">   -0.0041    </td> <td align=\"center\">   3.1560    </td> <td align=\"center\">   0.0144     </td> <td align=\"center\">   10$^3$    </td> </tr>\n",
    "<tr><td align=\"center\">   3.1499     </td> <td align=\"center\">   0.0083     </td> <td align=\"center\">   3.1224    </td> <td align=\"center\">   -0.0192    </td> <td align=\"center\">   10$^4$    </td> </tr>\n",
    "<tr><td align=\"center\">   3.1424     </td> <td align=\"center\">   0.0008     </td> <td align=\"center\">   3.1402    </td> <td align=\"center\">   -0.0014    </td> <td align=\"center\">   10$^5$    </td> </tr>\n",
    "<tr><td align=\"center\">   3.1414     </td> <td align=\"center\">   -0.0002    </td> <td align=\"center\">   3.1437    </td> <td align=\"center\">   0.0021     </td> <td align=\"center\">   10$^6$    </td> </tr>\n",
    "</tbody>\n",
    "</table>\n",
    "We also see that the error scales as $1/\\sqrt{N}$"
   ]
  }
 ],
 "metadata": {},
 "nbformat": 4,
 "nbformat_minor": 2
}
