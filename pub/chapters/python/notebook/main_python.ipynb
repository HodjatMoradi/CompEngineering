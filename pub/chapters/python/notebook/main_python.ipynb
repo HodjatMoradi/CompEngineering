{
 "cells": [
  {
   "cell_type": "markdown",
   "metadata": {},
   "source": [
    "<!-- dom:TITLE: Basic Python programming -->\n",
    "# Basic Python programming\n",
    "<!-- dom:AUTHOR: Aksel Hiorth, the National IOR Centre & Institute for Energy Resources, -->\n",
    "<!-- Author: -->  \n",
    "**Aksel Hiorth, the National IOR Centre & Institute for Energy Resources,**\n",
    "University of Stavanger\n",
    "\n",
    "Date: **May 5, 2019**\n",
    "\n",
    "# Introduction to Python programming\n",
    "\n",
    "Tips for python programming\n",
    "1. [Use of underscore](https://hackernoon.com/understanding-the-underscore-of-python-309d1a029edc)\n",
    "\n",
    "2. get index in loop: for idx,item in enumerate(list):\n",
    "\n",
    "3. default argument list\n",
    "\n",
    "4. profiling: timeit"
   ]
  }
 ],
 "metadata": {},
 "nbformat": 4,
 "nbformat_minor": 2
}
