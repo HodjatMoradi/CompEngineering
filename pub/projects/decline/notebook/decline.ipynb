{
 "cells": [
  {
   "cell_type": "markdown",
   "metadata": {},
   "source": [
    "<!-- dom:TITLE: Decline Analysis of Oil field production data from the NCS -->\n",
    "# Decline Analysis of Oil field production data from the NCS\n",
    "<!-- dom:AUTHOR: Prepared as part of Python preparatory course -->\n",
    "<!-- Author: -->  \n",
    "**Prepared as part of Python preparatory course**\n",
    "\n",
    "Date: **Aug 14, 2019**\n",
    "\n",
    "**Summary.** In this exercise we will look closer at some of the data that is\n",
    "available at the Norwegian Petroleum Department\n",
    "([NPD](http://factpages.npd.no/factpages/Default.aspx?culture=no))\n",
    "website. We will use simple models to analyze the production data\n",
    "from some of the fields. Learning outcomes:\n",
    "* read data from files, and visualize them\n",
    "\n",
    "* use Python to automatically determine parameters in a mathematical model\n",
    "\n",
    "* use a model to interpret observed production data\n",
    "\n",
    "* get familiar with the NPD web site and some of the Norwegian oil fields. \n",
    "\n",
    "\n",
    "\n",
    "# Introduction to Decline Analysis\n",
    "<div id=\"deca\"></div>\n",
    "\n",
    "An idealized behavior of an oil field is shown in the figure below, [[hook]](#hook).\n",
    "On the web site\n",
    "([NPD](http://factpages.npd.no/factpages/Default.aspx?culture=no)),\n",
    "it is possible to select different type of Norwegian oil fields and\n",
    "compare the historical production with that of\n",
    "the figure below.\n",
    "By selecting e.g. Norne or Draugen one can easily see similarities\n",
    "with\n",
    "the figure below.\n",
    "The main differences might be the size of each of the phases, many of the fields does not have a clear plateau,\n",
    "and the decline phase might be shorter or longer. In this problem we focus on the last phase of the\n",
    "oil production; the decline. We define the decline rate $D$ as:"
   ]
  },
  {
   "cell_type": "markdown",
   "metadata": {},
   "source": [
    "<!-- Equation labels as ordinary links -->\n",
    "<div id=\"dec\"></div>\n",
    "\n",
    "$$\n",
    "\\begin{equation}\n",
    "\\lambda=-\\frac{\\frac{d q}{d t}}{q}=Cq^\\beta\\,.\n",
    "\\label{dec} \\tag{1}\n",
    "\\end{equation}\n",
    "$$"
   ]
  },
  {
   "cell_type": "markdown",
   "metadata": {},
   "source": [
    "$q$ is the field oil rate, $C$ and $\\beta$ are constants that needs to be\n",
    "found by comparing the model to data.\n",
    "<!-- dom:FIGURE: [fig-decline/hook.png, width=800] -->\n",
    "<!-- begin figure -->\n",
    "\n",
    "<p></p>\n",
    "<img src=\"fig-decline/hook.png\" width=800>\n",
    "\n",
    "<!-- end figure -->\n",
    "\n",
    "\n",
    "\n",
    "\n",
    "# Exercise 1: Import data into a database and access them\n",
    "\n",
    "* Import data from  `field_production_gross_monthly.xls`,\n",
    "  in the catalog or from the [NPD web site](http://factpages.npd.no/factpages/), into a database\n",
    "\n",
    "* Extract production data from the Draugen field, and store them in a text file called\n",
    "  `draugen.txt`. The format should be: `Year` (first column), `Month`\n",
    "  (second column), and `OilProd` (third column).\n",
    "\n",
    "* If you do not want to use databases: Simply open the file\n",
    "  `field_production_gross_monthly.xls`, in the catalog or from the\n",
    "  [NPD web site](http://factpages.npd.no/factpages/). Search in the\n",
    "  Excel file after \"Draugen\", copy the data from all the rows relevant\n",
    "  for Draugen (row 1623 to 1921) and paste it into a file (using\n",
    "  e.g. notepad or some other text editor). Save the file as 'draugen.txt'. \n",
    "\n",
    "# Exercise 2: Importing and plotting data with Python\n",
    "\n",
    "\n",
    "**Step 1.**\n",
    "In the cell below, use the `loadtxt` function to load the data file\n",
    "`draugen.txt` into an array. The data file should be saved to the same\n",
    "folder as this notebook. Refer to the official documentation to\n",
    "reference how to use this function if you are unfamiliar:\n",
    "[loadtxt](https://docs.scipy.org/doc/numpy/reference/generated/numpy.loadtxt.html)."
   ]
  },
  {
   "cell_type": "markdown",
   "metadata": {},
   "source": [
    "# Using Pandas to access data:"
   ]
  },
  {
   "cell_type": "code",
   "execution_count": 50,
   "metadata": {},
   "outputs": [
    {
     "name": "stdout",
     "output_type": "stream",
     "text": [
      "/Users/ah/github/CompEngineering/pub/projects/decline/notebook\n",
      "WARNING *** file size (3071936) not 512 + multiple of sector size (512)\n"
     ]
    },
    {
     "data": {
      "image/png": "[encoded data removed]",
      "text/plain": [
       "<Figure size 432x288 with 1 Axes>"
      ]
     },
     "metadata": {},
     "output_type": "display_data"
    }
   ],
   "source": [
    "import pandas as pd\n",
    "import pathlib\n",
    "import matplotlib.pyplot as plt\n",
    "print(pathlib.Path.cwd())\n",
    "folder = pathlib.Path.cwd().parent.joinpath('data')\n",
    "filename = folder.joinpath('field_production_gross_monthly.xls')\n",
    "df = pd.read_excel(filename)\n",
    "columns = df.columns\n",
    "\n",
    "\n",
    "fields = ['DRAUGEN']\n",
    "#for field in fields:\n",
    "#for i, field in enumerate(fields):\n",
    "#    #field = fields[i]\n",
    "for field in fields:\n",
    "    df2 = df[df[df.columns[0]] == field]\n",
    "    Year = df2['Year']\n",
    "    Month = df2['Month']\n",
    "    OilProd=df2[columns[3]]\n",
    "    \n",
    "    #Assume 30 days in each month and 365 in year\n",
    "    Year = Year + Month*30/365\n",
    "    ProdStart = Year.iloc[0]\n",
    "\n",
    "    #Year now starts at 0\n",
    "    Year = Year-ProdStart\n",
    "    #print(Year)\n",
    "    \n",
    "    fig = plt.figure()\n",
    "    plt.scatter(Year, OilProd)\n",
    "\n",
    "    \n"
   ]
  },
  {
   "cell_type": "code",
   "execution_count": 68,
   "metadata": {},
   "outputs": [
    {
     "name": "stdout",
     "output_type": "stream",
     "text": [
      "/Users/ah/github/CompEngineering/pub/projects/decline/notebook\n",
      "WARNING *** file size (3071936) not 512 + multiple of sector size (512)\n"
     ]
    },
    {
     "ename": "IndexError",
     "evalue": "too many indices for array",
     "output_type": "error",
     "traceback": [
      "\u001b[0;31m---------------------------------------------------------------------------\u001b[0m",
      "\u001b[0;31mIndexError\u001b[0m                                Traceback (most recent call last)",
      "\u001b[0;32m<ipython-input-68-08367d7007c6>\u001b[0m in \u001b[0;36m<module>\u001b[0;34m()\u001b[0m\n\u001b[1;32m     11\u001b[0m \u001b[0;31m#df['Field (Discovery)']\u001b[0m\u001b[0;34m\u001b[0m\u001b[0;34m\u001b[0m\u001b[0m\n\u001b[1;32m     12\u001b[0m \u001b[0;31m#df[df[df.columns[0]] == 'DRAUGEN']\u001b[0m\u001b[0;34m\u001b[0m\u001b[0;34m\u001b[0m\u001b[0m\n\u001b[0;32m---> 13\u001b[0;31m \u001b[0mdf\u001b[0m\u001b[0;34m.\u001b[0m\u001b[0mcolumns\u001b[0m\u001b[0;34m[\u001b[0m\u001b[0;34m:\u001b[0m\u001b[0;34m,\u001b[0m\u001b[0;36m0\u001b[0m\u001b[0;34m]\u001b[0m\u001b[0;34m\u001b[0m\u001b[0m\n\u001b[0m",
      "\u001b[0;32m/anaconda3/lib/python3.6/site-packages/pandas/core/indexes/base.py\u001b[0m in \u001b[0;36m__getitem__\u001b[0;34m(self, key)\u001b[0m\n\u001b[1;32m   2078\u001b[0m \u001b[0;34m\u001b[0m\u001b[0m\n\u001b[1;32m   2079\u001b[0m         \u001b[0mkey\u001b[0m \u001b[0;34m=\u001b[0m \u001b[0mcom\u001b[0m\u001b[0;34m.\u001b[0m\u001b[0m_values_from_object\u001b[0m\u001b[0;34m(\u001b[0m\u001b[0mkey\u001b[0m\u001b[0;34m)\u001b[0m\u001b[0;34m\u001b[0m\u001b[0m\n\u001b[0;32m-> 2080\u001b[0;31m         \u001b[0mresult\u001b[0m \u001b[0;34m=\u001b[0m \u001b[0mgetitem\u001b[0m\u001b[0;34m(\u001b[0m\u001b[0mkey\u001b[0m\u001b[0;34m)\u001b[0m\u001b[0;34m\u001b[0m\u001b[0m\n\u001b[0m\u001b[1;32m   2081\u001b[0m         \u001b[0;32mif\u001b[0m \u001b[0;32mnot\u001b[0m \u001b[0mis_scalar\u001b[0m\u001b[0;34m(\u001b[0m\u001b[0mresult\u001b[0m\u001b[0;34m)\u001b[0m\u001b[0;34m:\u001b[0m\u001b[0;34m\u001b[0m\u001b[0m\n\u001b[1;32m   2082\u001b[0m             \u001b[0;32mreturn\u001b[0m \u001b[0mpromote\u001b[0m\u001b[0;34m(\u001b[0m\u001b[0mresult\u001b[0m\u001b[0;34m)\u001b[0m\u001b[0;34m\u001b[0m\u001b[0m\n",
      "\u001b[0;31mIndexError\u001b[0m: too many indices for array"
     ]
    }
   ],
   "source": [
    "import pandas as pd\n",
    "import pathlib\n",
    "import matplotlib.pyplot as plt\n",
    "print(pathlib.Path.cwd())\n",
    "folder = pathlib.Path.cwd().parent.joinpath('data')\n",
    "filename = folder.joinpath('field_production_gross_monthly.xls')\n",
    "df = pd.read_excel(filename)\n",
    "columns = df.columns\n",
    "#print(columns)\n",
    "#df.columns[0]\n",
    "#df['Field (Discovery)']\n",
    "#df[df[df.columns[0]] == 'DRAUGEN']"
   ]
  },
  {
   "cell_type": "code",
   "execution_count": null,
   "metadata": {},
   "outputs": [],
   "source": [
    "import numpy as np\n",
    "# import data from draugen.txt\n",
    "B = np.loadtxt(\"draugen.txt\")\n",
    "\n",
    "Year = B[:,0]\n",
    "Month = B[:,1]\n",
    "OilProd = B[:,2]\n",
    "#print(Year)"
   ]
  },
  {
   "cell_type": "markdown",
   "metadata": {},
   "source": [
    "* Note: you can use *array slicing* to access the individual columns of a 2D array\n",
    "\n",
    "**Step 2.**\n",
    "It is more practical to have the production data to start at $t=0$. In\n",
    "the following we will assume that you have organized the oil production\n",
    "data from Draugen into Numpy arrays, e.g. `Year`, `Month`, and\n",
    "`OilProd`."
   ]
  },
  {
   "cell_type": "code",
   "execution_count": null,
   "metadata": {},
   "outputs": [],
   "source": [
    "%matplotlib inline\n",
    "\n",
    "import numpy as np\n",
    "import matplotlib.pyplot as plt\n",
    "\n",
    "#Assume 30 days in each month and 365 in year\n",
    "Year = Year + Month*30/365\n",
    "ProdStart = Year[0]\n",
    "\n",
    "#Year now starts at 0\n",
    "Year = Year-ProdStart\n",
    "\n",
    "#Calculate the cumulative oil production\n",
    "CumOilProd = ...\n",
    "\n",
    "fig, ax1 = plt.subplots()\n",
    "\n",
    "plt.title('Draugen production profile')\n",
    "ax1.set_ylabel(r'MSm$^3$/month')\n",
    "ax1.set_xlabel('Years of production')\n",
    "\n",
    "ax1.plot(Year,OilProd, 'b--o')\n",
    "ax2 = ax1.twinx() # second axes that shares the same x-axis\n",
    "ax2.set_ylabel(r'Cumulative production [MSm$^3$]')\n",
    "ax2.plot(Year,CumOilProd, 'r--o')\n",
    "plt.show()"
   ]
  },
  {
   "cell_type": "markdown",
   "metadata": {},
   "source": [
    "the figure below.\n",
    "\n",
    "\n",
    "**Step 3.**\n",
    "Compare your plot with the one that is reported under Draugen at the [NPD web site](http://factpages.npd.no/factpages/), why is it different?\n",
    "<!-- dom:FIGURE: [fig-decline/draugen.png, width=800] <div id=\"fig:draugen\"></div> -->\n",
    "<!-- begin figure -->\n",
    "<div id=\"fig:draugen\"></div>\n",
    "\n",
    "<p></p>\n",
    "<img src=\"fig-decline/draugen.png\" width=800>\n",
    "\n",
    "<!-- end figure -->\n",
    "\n",
    "\n",
    "\n",
    "\n",
    "\n",
    "**Step 4.**\n",
    " Get data from Norne, Oseberg Øst, and Jotun in the file and make similar plot for them, i.e. production rate and cumulative oil production vs years of production\n",
    "\n",
    "\n",
    "**Step 5.**\n",
    "For the same fields plot the production vs the cumulative production\n",
    "\n",
    "# Exercise 3: Decline analysis, exponential case: $\\beta=0$\n",
    "\n",
    "\n",
    "**Step 1.**\n",
    "Use equation ([1](#dec)), to show that the oil rate is:"
   ]
  },
  {
   "cell_type": "markdown",
   "metadata": {},
   "source": [
    "<!-- Equation labels as ordinary links -->\n",
    "<div id=\"eq:decline:exp\"></div>\n",
    "\n",
    "$$\n",
    "\\begin{equation}\n",
    "q(t)=q_0\\exp\\{-\\lambda_0 t\\}.\n",
    "\\label{eq:decline:exp} \\tag{2}\n",
    "\\end{equation}\n",
    "$$"
   ]
  },
  {
   "cell_type": "markdown",
   "metadata": {},
   "source": [
    "for $\\beta=0$. \n",
    "\n",
    "Now we will use this model to analyze the production data from the fields in the previous exercise.\n",
    "\n",
    "**Step 2.**\n",
    "Define a function that calculates the production rate given in equation ([2](#eq:decline:exp)):"
   ]
  },
  {
   "cell_type": "code",
   "execution_count": null,
   "metadata": {},
   "outputs": [],
   "source": [
    "def exp_decline(x,q0,lam):\n",
    "# enter function here\n",
    "  return ..."
   ]
  },
  {
   "cell_type": "markdown",
   "metadata": {},
   "source": [
    "**Step 3.**\n",
    "Next, we want to fit our model to the data. Python have several\n",
    "functions to fit a model to data, we will use `curve_fit` from\n",
    "[SciPy](https://docs.scipy.org/doc/scipy/reference/generated/scipy.optimize.curve_fit.html).\n",
    "It is important to only use data from the decline phase (after approximately 8\n",
    "years):"
   ]
  },
  {
   "cell_type": "code",
   "execution_count": null,
   "metadata": {},
   "outputs": [],
   "source": [
    "from scipy.optimize import curve_fit\n",
    "# only choose data from the decline phase (i.e. after approx. 8 years) \n",
    "T0 = 8\n",
    "# extract indexes  \n",
    "ind = Year > T0;\n",
    "# cooresponding X and Y-value \n",
    "NewY = Year[ind]-T0; #important to start at 0\n",
    "NewP = OilProd[ind];\n",
    "# call the curve_fit function:\n",
    "popt, pcov = curve_fit( ... ) # enter correct code\n",
    "# evaluate function with the best fit and visual inspect the quality"
   ]
  },
  {
   "cell_type": "markdown",
   "metadata": {},
   "source": [
    "A successful fit should produce a similar result as shown in the figure below.\n",
    "<!-- dom:FIGURE: [fig-decline/draugen_fit.png, width=800] <div id=\"fig:draugen_fit\"></div> -->\n",
    "<!-- begin figure -->\n",
    "<div id=\"fig:draugen_fit\"></div>\n",
    "\n",
    "<p></p>\n",
    "<img src=\"fig-decline/draugen_fit.png\" width=800>\n",
    "\n",
    "<!-- end figure -->\n",
    "\n",
    "\n",
    "\n",
    "\n",
    "**Step 4.**\n",
    "Use data from Norne, Oseberg Øst, and Jotun, fit the model to the decline phase of the production. Report the values for the decline parameter, compare them. \n",
    "\n",
    "# Exercise 4: Decline analysis, hyperbolic case: $\\beta\\in <0,1>$\n",
    "\n",
    "\n",
    "**Step 1.**\n",
    "Use equation ([1](#dec)), to show that the oil rate is:"
   ]
  },
  {
   "cell_type": "markdown",
   "metadata": {},
   "source": [
    "<!-- Equation labels as ordinary links -->\n",
    "<div id=\"bet\"></div>\n",
    "\n",
    "$$\n",
    "\\begin{equation}\n",
    "q(t)=q_0\\left[\\beta\\lambda_0t+1\\right]^{-1/\\beta}\n",
    "\\label{bet} \\tag{3}\n",
    "\\end{equation}\n",
    "$$"
   ]
  },
  {
   "cell_type": "markdown",
   "metadata": {},
   "source": [
    "for $\\beta>0$. Note that $\\lambda_0$ is the decline rate at $t=0$: $\\lambda_0=Cq_0^\\beta$.\n",
    "\n",
    "\n",
    "**Step 2.**\n",
    "Follow the procedure outlined in the previous exercise, but this time with equation ([3](#bet)). \n",
    "You need to make a new Python function, e.g.:"
   ]
  },
  {
   "cell_type": "code",
   "execution_count": null,
   "metadata": {},
   "outputs": [],
   "source": [
    "def hyp_decline(x,A,D,b):\n",
    "    return # enter function here"
   ]
  },
  {
   "cell_type": "markdown",
   "metadata": {},
   "source": [
    "**Step 3.**\n",
    "Use data from Norne, Oseberg Øst, and Jotun and fit the hyperbolic  model to the data. Report the values for the decline parameter. \n",
    "How does these values compare with the values you found for the exponential model? Which model is the best and why? \n",
    "\n",
    "**Observe:**\n",
    "\n",
    "To fit a function to data is not straight forward. The result can be very sensitive to the initial guess of the variables, it also a good idea \n",
    "to constrain the values of the parameters. In our\n",
    "case it is also important to choose the right starting point for the decline, for Draugen we used `T0=8`, for the Jotun field `T0=1.8` is a good value. \n",
    "We can force Python to constrain the parameters in `curve_fit`, by the\n",
    "use of the `bounds` keyword.\n",
    "\n",
    "\n",
    "\n",
    "# Exercise 5: The Jotun field, hyperbolic case: $\\beta\\in <0,1>$\n",
    "\n",
    "In this exercise we will take a closer look at the Jotun field. Use the hyperbolic decline function with the parameters you found in the previous exercise.\n",
    "The original drilling program of the Jotun field was finished in 2000. After producing the field for approximately 3 years, it was decided to drill 4 infill wells. \n",
    "By inspecting the Jotun production history, it is easy to spot an increase in the production rate around 2002-2003.  \n",
    "\n",
    "\n",
    "**Step 1.**\n",
    "Why can we use our decline model to estimate the production without the infill wells? \n",
    "\n",
    "\n",
    "**Step 2.**\n",
    "Use the decline model to estimate the recovery at the end of 2017 (use e.g. the cumulative production). \n",
    "  Compare this recovery with the ultimate recovery from the field data.   \n",
    "\n",
    "\n",
    "**Step 3.**\n",
    "Assume an oil price of 50$\\$$ per barrel, was it a good decision to drill these infill wells? (Hint: On the [NPD web site](http://factpages.npd.no/factpages/) you can\n",
    "  find information about the  yearly field investments)\n",
    "\n",
    "# Bibliography\n",
    "\n",
    "\n",
    "1. <div id=\"hook\"></div> **M. Hook, S. Davidsson, S. Johansson and X. Tang**. \n",
    "    Decline and depletion rates of oil production: a comprehensive investigation,\n",
    "    *Phil. Trans. R. Soc. A*,\n",
    "    372(20120448),\n",
    "    2014."
   ]
  }
 ],
 "metadata": {
  "kernelspec": {
   "display_name": "Python 3",
   "language": "python",
   "name": "python3"
  },
  "language_info": {
   "codemirror_mode": {
    "name": "ipython",
    "version": 3
   },
   "file_extension": ".py",
   "mimetype": "text/x-python",
   "name": "python",
   "nbconvert_exporter": "python",
   "pygments_lexer": "ipython3",
   "version": "3.6.5"
  }
 },
 "nbformat": 4,
 "nbformat_minor": 2
}
