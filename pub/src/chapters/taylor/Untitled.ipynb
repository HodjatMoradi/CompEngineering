{
 "cells": [
  {
   "cell_type": "code",
   "execution_count": 35,
   "metadata": {},
   "outputs": [],
   "source": [
    "import numpy as np\n",
    "\n",
    "def sum1(N):\n",
    "    \"\"\" sum integers up to N\n",
    "        C-type implementation \"\"\"\n",
    "    sum = 0.\n",
    "    for i in range(N+1): # 0, 1, ..., N\n",
    "        sum += i\n",
    "    return sum\n",
    "\n",
    "def sum2(N):\n",
    "    \"\"\" sum integers up to N\n",
    "        build in Python functions \"\"\"\n",
    "    x = [i for i in range(N+1)]\n",
    "    return sum(x)\n",
    "\n",
    "def sum3(N):\n",
    "    \"\"\" sum integers up to N\n",
    "        NumPy functions \"\"\"\n",
    "    x = np.arange(N+1)\n",
    "    return np.sum(x)\n"
   ]
  },
  {
   "cell_type": "code",
   "execution_count": 38,
   "metadata": {},
   "outputs": [
    {
     "name": "stdout",
     "output_type": "stream",
     "text": [
      "3.14 µs ± 56.5 ns per loop (mean ± std. dev. of 7 runs, 100000 loops each)\n",
      "2.75 µs ± 57.3 ns per loop (mean ± std. dev. of 7 runs, 100000 loops each)\n",
      "3.3 µs ± 43.5 ns per loop (mean ± std. dev. of 7 runs, 100000 loops each)\n",
      "34.3 µs ± 1.64 µs per loop (mean ± std. dev. of 7 runs, 10000 loops each)\n",
      "26.3 µs ± 623 ns per loop (mean ± std. dev. of 7 runs, 10000 loops each)\n",
      "4.87 µs ± 82 ns per loop (mean ± std. dev. of 7 runs, 100000 loops each)\n"
     ]
    }
   ],
   "source": [
    "%timeit sum1(100)\n",
    "%timeit sum2(100)\n",
    "%timeit sum3(100)\n",
    "\n",
    "%timeit sum1(1000)\n",
    "%timeit sum2(1000)\n",
    "%timeit sum3(1000)\n"
   ]
  },
  {
   "cell_type": "code",
   "execution_count": null,
   "metadata": {},
   "outputs": [],
   "source": []
  }
 ],
 "metadata": {
  "kernelspec": {
   "display_name": "Python 3",
   "language": "python",
   "name": "python3"
  },
  "language_info": {
   "codemirror_mode": {
    "name": "ipython",
    "version": 3
   },
   "file_extension": ".py",
   "mimetype": "text/x-python",
   "name": "python",
   "nbconvert_exporter": "python",
   "pygments_lexer": "ipython3",
   "version": "3.7.3"
  }
 },
 "nbformat": 4,
 "nbformat_minor": 2
}
