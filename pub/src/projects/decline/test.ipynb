{
 "cells": [
  {
   "cell_type": "code",
   "execution_count": 18,
   "metadata": {},
   "outputs": [],
   "source": [
    "import sympy as sym\n",
    "x1,x2,w1,w2=sym.symbols('x1, x2, w1, w2')\n",
    "#n = sym.Symbol('n')\n",
    "n=1/3\n",
    "f1=sym.Eq(w1+w2,1/(n+1))\n",
    "f2=sym.Eq(w1*x1+w2*x2,1/(n+2))\n",
    "f3=sym.Eq(w1*x1**2+w2*x2**2,1/(n+3))\n",
    "f4=sym.Eq(w1*x1**3+w2*x2**3,1/(n+4))\n",
    "sol=sym.solve([f1,f2,f3,f4],(x1,x2,w1,w2))"
   ]
  },
  {
   "cell_type": "code",
   "execution_count": 23,
   "metadata": {},
   "outputs": [
    {
     "data": {
      "text/plain": [
       "(0.265411702318479, 0.811511374604598)"
      ]
     },
     "execution_count": 23,
     "metadata": {},
     "output_type": "execute_result"
    }
   ],
   "source": [
    "xn=sol[0][0:2]\n",
    "wn=sol[0][]"
   ]
  },
  {
   "cell_type": "code",
   "execution_count": null,
   "metadata": {},
   "outputs": [],
   "source": []
  }
 ],
 "metadata": {
  "kernelspec": {
   "display_name": "Python 3",
   "language": "python",
   "name": "python3"
  },
  "language_info": {
   "codemirror_mode": {
    "name": "ipython",
    "version": 3
   },
   "file_extension": ".py",
   "mimetype": "text/x-python",
   "name": "python",
   "nbconvert_exporter": "python",
   "pygments_lexer": "ipython3",
   "version": "3.6.5"
  }
 },
 "nbformat": 4,
 "nbformat_minor": 2
}
